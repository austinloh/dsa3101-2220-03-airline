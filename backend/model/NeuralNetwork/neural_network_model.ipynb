{
  "nbformat": 4,
  "nbformat_minor": 0,
  "metadata": {
    "colab": {
      "provenance": []
    },
    "kernelspec": {
      "name": "python3",
      "display_name": "Python 3"
    },
    "language_info": {
      "name": "python"
    },
    "widgets": {
      "application/vnd.jupyter.widget-state+json": {
        "1dd8d53523254ca7ab7553f4c1b63cd8": {
          "model_module": "@jupyter-widgets/controls",
          "model_name": "HBoxModel",
          "model_module_version": "1.5.0",
          "state": {
            "_dom_classes": [],
            "_model_module": "@jupyter-widgets/controls",
            "_model_module_version": "1.5.0",
            "_model_name": "HBoxModel",
            "_view_count": null,
            "_view_module": "@jupyter-widgets/controls",
            "_view_module_version": "1.5.0",
            "_view_name": "HBoxView",
            "box_style": "",
            "children": [
              "IPY_MODEL_6499c4bfa317497385f41ba3f58a9de3",
              "IPY_MODEL_7a4c9c10d09c496094612b299044821c",
              "IPY_MODEL_a8dccf75d07b40eb9588c64e919a7bd9"
            ],
            "layout": "IPY_MODEL_5c8c39f6500a4a16a9967391426cd475"
          }
        },
        "6499c4bfa317497385f41ba3f58a9de3": {
          "model_module": "@jupyter-widgets/controls",
          "model_name": "HTMLModel",
          "model_module_version": "1.5.0",
          "state": {
            "_dom_classes": [],
            "_model_module": "@jupyter-widgets/controls",
            "_model_module_version": "1.5.0",
            "_model_name": "HTMLModel",
            "_view_count": null,
            "_view_module": "@jupyter-widgets/controls",
            "_view_module_version": "1.5.0",
            "_view_name": "HTMLView",
            "description": "",
            "description_tooltip": null,
            "layout": "IPY_MODEL_d1542df118c74caf9304fdc37811cf99",
            "placeholder": "​",
            "style": "IPY_MODEL_e665a36f440745e6bd6f0f20f36fb173",
            "value": "100%"
          }
        },
        "7a4c9c10d09c496094612b299044821c": {
          "model_module": "@jupyter-widgets/controls",
          "model_name": "FloatProgressModel",
          "model_module_version": "1.5.0",
          "state": {
            "_dom_classes": [],
            "_model_module": "@jupyter-widgets/controls",
            "_model_module_version": "1.5.0",
            "_model_name": "FloatProgressModel",
            "_view_count": null,
            "_view_module": "@jupyter-widgets/controls",
            "_view_module_version": "1.5.0",
            "_view_name": "ProgressView",
            "bar_style": "success",
            "description": "",
            "description_tooltip": null,
            "layout": "IPY_MODEL_fd81677aa46b4ae6a08ffda312f826c1",
            "max": 100,
            "min": 0,
            "orientation": "horizontal",
            "style": "IPY_MODEL_949ef2e21c8e41e7b6868d1117352f47",
            "value": 100
          }
        },
        "a8dccf75d07b40eb9588c64e919a7bd9": {
          "model_module": "@jupyter-widgets/controls",
          "model_name": "HTMLModel",
          "model_module_version": "1.5.0",
          "state": {
            "_dom_classes": [],
            "_model_module": "@jupyter-widgets/controls",
            "_model_module_version": "1.5.0",
            "_model_name": "HTMLModel",
            "_view_count": null,
            "_view_module": "@jupyter-widgets/controls",
            "_view_module_version": "1.5.0",
            "_view_name": "HTMLView",
            "description": "",
            "description_tooltip": null,
            "layout": "IPY_MODEL_44e6499d9e20425fa0260531da92f1af",
            "placeholder": "​",
            "style": "IPY_MODEL_0fe66385356a4ac1b4511d44ae03f839",
            "value": " 100/100 [12:32&lt;00:00,  7.48s/it]"
          }
        },
        "5c8c39f6500a4a16a9967391426cd475": {
          "model_module": "@jupyter-widgets/base",
          "model_name": "LayoutModel",
          "model_module_version": "1.2.0",
          "state": {
            "_model_module": "@jupyter-widgets/base",
            "_model_module_version": "1.2.0",
            "_model_name": "LayoutModel",
            "_view_count": null,
            "_view_module": "@jupyter-widgets/base",
            "_view_module_version": "1.2.0",
            "_view_name": "LayoutView",
            "align_content": null,
            "align_items": null,
            "align_self": null,
            "border": null,
            "bottom": null,
            "display": null,
            "flex": null,
            "flex_flow": null,
            "grid_area": null,
            "grid_auto_columns": null,
            "grid_auto_flow": null,
            "grid_auto_rows": null,
            "grid_column": null,
            "grid_gap": null,
            "grid_row": null,
            "grid_template_areas": null,
            "grid_template_columns": null,
            "grid_template_rows": null,
            "height": null,
            "justify_content": null,
            "justify_items": null,
            "left": null,
            "margin": null,
            "max_height": null,
            "max_width": null,
            "min_height": null,
            "min_width": null,
            "object_fit": null,
            "object_position": null,
            "order": null,
            "overflow": null,
            "overflow_x": null,
            "overflow_y": null,
            "padding": null,
            "right": null,
            "top": null,
            "visibility": null,
            "width": null
          }
        },
        "d1542df118c74caf9304fdc37811cf99": {
          "model_module": "@jupyter-widgets/base",
          "model_name": "LayoutModel",
          "model_module_version": "1.2.0",
          "state": {
            "_model_module": "@jupyter-widgets/base",
            "_model_module_version": "1.2.0",
            "_model_name": "LayoutModel",
            "_view_count": null,
            "_view_module": "@jupyter-widgets/base",
            "_view_module_version": "1.2.0",
            "_view_name": "LayoutView",
            "align_content": null,
            "align_items": null,
            "align_self": null,
            "border": null,
            "bottom": null,
            "display": null,
            "flex": null,
            "flex_flow": null,
            "grid_area": null,
            "grid_auto_columns": null,
            "grid_auto_flow": null,
            "grid_auto_rows": null,
            "grid_column": null,
            "grid_gap": null,
            "grid_row": null,
            "grid_template_areas": null,
            "grid_template_columns": null,
            "grid_template_rows": null,
            "height": null,
            "justify_content": null,
            "justify_items": null,
            "left": null,
            "margin": null,
            "max_height": null,
            "max_width": null,
            "min_height": null,
            "min_width": null,
            "object_fit": null,
            "object_position": null,
            "order": null,
            "overflow": null,
            "overflow_x": null,
            "overflow_y": null,
            "padding": null,
            "right": null,
            "top": null,
            "visibility": null,
            "width": null
          }
        },
        "e665a36f440745e6bd6f0f20f36fb173": {
          "model_module": "@jupyter-widgets/controls",
          "model_name": "DescriptionStyleModel",
          "model_module_version": "1.5.0",
          "state": {
            "_model_module": "@jupyter-widgets/controls",
            "_model_module_version": "1.5.0",
            "_model_name": "DescriptionStyleModel",
            "_view_count": null,
            "_view_module": "@jupyter-widgets/base",
            "_view_module_version": "1.2.0",
            "_view_name": "StyleView",
            "description_width": ""
          }
        },
        "fd81677aa46b4ae6a08ffda312f826c1": {
          "model_module": "@jupyter-widgets/base",
          "model_name": "LayoutModel",
          "model_module_version": "1.2.0",
          "state": {
            "_model_module": "@jupyter-widgets/base",
            "_model_module_version": "1.2.0",
            "_model_name": "LayoutModel",
            "_view_count": null,
            "_view_module": "@jupyter-widgets/base",
            "_view_module_version": "1.2.0",
            "_view_name": "LayoutView",
            "align_content": null,
            "align_items": null,
            "align_self": null,
            "border": null,
            "bottom": null,
            "display": null,
            "flex": null,
            "flex_flow": null,
            "grid_area": null,
            "grid_auto_columns": null,
            "grid_auto_flow": null,
            "grid_auto_rows": null,
            "grid_column": null,
            "grid_gap": null,
            "grid_row": null,
            "grid_template_areas": null,
            "grid_template_columns": null,
            "grid_template_rows": null,
            "height": null,
            "justify_content": null,
            "justify_items": null,
            "left": null,
            "margin": null,
            "max_height": null,
            "max_width": null,
            "min_height": null,
            "min_width": null,
            "object_fit": null,
            "object_position": null,
            "order": null,
            "overflow": null,
            "overflow_x": null,
            "overflow_y": null,
            "padding": null,
            "right": null,
            "top": null,
            "visibility": null,
            "width": null
          }
        },
        "949ef2e21c8e41e7b6868d1117352f47": {
          "model_module": "@jupyter-widgets/controls",
          "model_name": "ProgressStyleModel",
          "model_module_version": "1.5.0",
          "state": {
            "_model_module": "@jupyter-widgets/controls",
            "_model_module_version": "1.5.0",
            "_model_name": "ProgressStyleModel",
            "_view_count": null,
            "_view_module": "@jupyter-widgets/base",
            "_view_module_version": "1.2.0",
            "_view_name": "StyleView",
            "bar_color": null,
            "description_width": ""
          }
        },
        "44e6499d9e20425fa0260531da92f1af": {
          "model_module": "@jupyter-widgets/base",
          "model_name": "LayoutModel",
          "model_module_version": "1.2.0",
          "state": {
            "_model_module": "@jupyter-widgets/base",
            "_model_module_version": "1.2.0",
            "_model_name": "LayoutModel",
            "_view_count": null,
            "_view_module": "@jupyter-widgets/base",
            "_view_module_version": "1.2.0",
            "_view_name": "LayoutView",
            "align_content": null,
            "align_items": null,
            "align_self": null,
            "border": null,
            "bottom": null,
            "display": null,
            "flex": null,
            "flex_flow": null,
            "grid_area": null,
            "grid_auto_columns": null,
            "grid_auto_flow": null,
            "grid_auto_rows": null,
            "grid_column": null,
            "grid_gap": null,
            "grid_row": null,
            "grid_template_areas": null,
            "grid_template_columns": null,
            "grid_template_rows": null,
            "height": null,
            "justify_content": null,
            "justify_items": null,
            "left": null,
            "margin": null,
            "max_height": null,
            "max_width": null,
            "min_height": null,
            "min_width": null,
            "object_fit": null,
            "object_position": null,
            "order": null,
            "overflow": null,
            "overflow_x": null,
            "overflow_y": null,
            "padding": null,
            "right": null,
            "top": null,
            "visibility": null,
            "width": null
          }
        },
        "0fe66385356a4ac1b4511d44ae03f839": {
          "model_module": "@jupyter-widgets/controls",
          "model_name": "DescriptionStyleModel",
          "model_module_version": "1.5.0",
          "state": {
            "_model_module": "@jupyter-widgets/controls",
            "_model_module_version": "1.5.0",
            "_model_name": "DescriptionStyleModel",
            "_view_count": null,
            "_view_module": "@jupyter-widgets/base",
            "_view_module_version": "1.2.0",
            "_view_name": "StyleView",
            "description_width": ""
          }
        }
      }
    }
  },
  "cells": [
    {
      "cell_type": "code",
      "execution_count": 1,
      "metadata": {
        "id": "15QIFBt8ZPWK"
      },
      "outputs": [],
      "source": [
        "import pandas as pd\n",
        "import numpy as np"
      ]
    },
    {
      "cell_type": "code",
      "source": [
        "from google.colab import drive\n",
        "drive.mount('/content/drive')\n",
        "%cd /content/drive/MyDrive/"
      ],
      "metadata": {
        "colab": {
          "base_uri": "https://localhost:8080/"
        },
        "id": "tDU8fkntZcpB",
        "outputId": "8eb37bfc-d318-4f41-b9f6-b153ea4cbd13"
      },
      "execution_count": 2,
      "outputs": [
        {
          "output_type": "stream",
          "name": "stdout",
          "text": [
            "Drive already mounted at /content/drive; to attempt to forcibly remount, call drive.mount(\"/content/drive\", force_remount=True).\n",
            "/content/drive/MyDrive\n"
          ]
        }
      ]
    },
    {
      "cell_type": "code",
      "source": [
        "df = pd.read_csv('DSA3101_Share/2008_data_with_weather.csv')"
      ],
      "metadata": {
        "id": "PrtHSYraZevw"
      },
      "execution_count": 3,
      "outputs": []
    },
    {
      "cell_type": "code",
      "source": [
        "df.columns"
      ],
      "metadata": {
        "colab": {
          "base_uri": "https://localhost:8080/"
        },
        "id": "fBG-TgdPerll",
        "outputId": "693f8150-2d37-4d64-8526-bff4b31f85fc"
      },
      "execution_count": 4,
      "outputs": [
        {
          "output_type": "execute_result",
          "data": {
            "text/plain": [
              "Index(['Year', 'Month', 'DayofMonth', 'DayOfWeek', 'DepTime', 'CRSDepTime',\n",
              "       'ArrTime', 'CRSArrTime', 'UniqueCarrier', 'FlightNum', 'TailNum',\n",
              "       'ActualElapsedTime', 'CRSElapsedTime', 'AirTime', 'ArrDelay',\n",
              "       'DepDelay', 'Origin', 'Dest', 'Distance', 'TaxiIn', 'TaxiOut',\n",
              "       'Cancelled', 'CancellationCode', 'Diverted', 'CarrierDelay',\n",
              "       'WeatherDelay', 'NASDelay', 'SecurityDelay', 'LateAircraftDelay',\n",
              "       'datetime', 'origin_state', 'tempmax', 'tempmin', 'temp',\n",
              "       'feelslikemax', 'feelslikemin', 'feelslike', 'dew', 'humidity',\n",
              "       'precip', 'precipprob', 'precipcover', 'preciptype', 'snow',\n",
              "       'snowdepth', 'windgust', 'windspeed', 'winddir', 'sealevelpressure',\n",
              "       'cloudcover', 'visibility', 'solarradiation', 'solarenergy', 'uvindex',\n",
              "       'severerisk', 'sunrise', 'sunset', 'moonphase', 'conditions',\n",
              "       'description', 'icon', 'stations'],\n",
              "      dtype='object')"
            ]
          },
          "metadata": {},
          "execution_count": 4
        }
      ]
    },
    {
      "cell_type": "code",
      "source": [
        "df.drop(['Year', 'DepTime', 'ArrTime', 'FlightNum', 'ActualElapsedTime', 'DepDelay', 'AirTime', 'TailNum', \\\n",
        "         'TaxiIn', 'TaxiOut', 'Cancelled', 'CancellationCode', 'Diverted','CarrierDelay', 'WeatherDelay', \\\n",
        "         'NASDelay', 'SecurityDelay', 'LateAircraftDelay', \\\n",
        "         'datetime', 'origin_state', 'solarradiation', 'solarenergy', 'severerisk', 'sunrise', 'sunset', \\\n",
        "         'moonphase', 'description', 'icon', 'stations', 'windgust', 'preciptype','uvindex'], axis=1, inplace=True)"
      ],
      "metadata": {
        "id": "3kvGrUF5aotG"
      },
      "execution_count": 5,
      "outputs": []
    },
    {
      "cell_type": "code",
      "source": [
        "df['ArrDelayed'] = (df['ArrDelay'] > 0).astype(int)"
      ],
      "metadata": {
        "id": "ntSgP5eVfaZv"
      },
      "execution_count": 6,
      "outputs": []
    },
    {
      "cell_type": "code",
      "source": [
        "df.drop('ArrDelay', axis=1, inplace=True)"
      ],
      "metadata": {
        "id": "a-_RhbA0fjgX"
      },
      "execution_count": 7,
      "outputs": []
    },
    {
      "cell_type": "code",
      "source": [
        "# Transform the time CRSDepTime and CRSArrTime columns into hour only\n",
        "df[\"CRSDepHour\"] = df[\"CRSDepTime\"] // 100\n",
        "df[\"CRSArrHour\"] = df[\"CRSArrTime\"] // 100\n",
        "df.drop(['CRSDepTime', 'CRSArrTime'], axis=1, inplace=True)"
      ],
      "metadata": {
        "id": "S75SOUUXfssm"
      },
      "execution_count": 8,
      "outputs": []
    },
    {
      "cell_type": "code",
      "source": [
        "# Convert Month, DayofMonth, DayOfWeek into categorical variables\n",
        "df[[\"Month\", \"DayofMonth\", \"DayOfWeek\"]] = df[[\"Month\", \"DayofMonth\", \"DayOfWeek\"]].astype(str)"
      ],
      "metadata": {
        "id": "BYiUsk2dgM-_"
      },
      "execution_count": 9,
      "outputs": []
    },
    {
      "cell_type": "code",
      "source": [
        "# Split CRSDepHour and CRSArrHour into 8 classes\n",
        "hour_map = {1: \"1TO3\", 2: \"1TO3\", 3: \"1TO3\",\n",
        "            4: \"4TO6\", 5: \"4TO6\", 6: \"4TO6\",\n",
        "            7: \"7TO9\", 8: \"7TO9\", 9: \"7TO9\",\n",
        "            10: \"10TO12\", 11: \"10TO12\", 12: \"10TO12\",\n",
        "            13: \"13TO15\", 14: \"13TO15\", 15: \"13TO15\",\n",
        "            16: \"16TO18\", 17: \"16TO18\", 18: \"16TO18\",\n",
        "            19: \"19TO21\", 20: \"19TO21\", 21: \"19TO21\",\n",
        "            22: \"22TO0\", 23: \"22TO0\", 24: \"22TO0\", 0: \"22TO0\"}\n",
        "df = df.replace({'CRSDepHour': hour_map, 'CRSArrHour': hour_map})"
      ],
      "metadata": {
        "id": "TXyZVJjBgFBU"
      },
      "execution_count": 10,
      "outputs": []
    },
    {
      "cell_type": "code",
      "source": [
        "df.dropna(inplace = True)"
      ],
      "metadata": {
        "id": "FzOB4aH1axla"
      },
      "execution_count": 11,
      "outputs": []
    },
    {
      "cell_type": "code",
      "source": [
        "df.head()"
      ],
      "metadata": {
        "colab": {
          "base_uri": "https://localhost:8080/",
          "height": 299
        },
        "id": "-pKy6m36axoH",
        "outputId": "ce2764ec-1ec1-4990-b451-69e9266259db"
      },
      "execution_count": 12,
      "outputs": [
        {
          "output_type": "execute_result",
          "data": {
            "text/plain": [
              "  Month DayofMonth DayOfWeek UniqueCarrier  CRSElapsedTime Origin Dest  \\\n",
              "0     1          3         4            WN            70.0    HOU  LIT   \n",
              "1     1          3         4            WN            85.0    HOU  MAF   \n",
              "2     1          3         4            WN            85.0    HOU  MAF   \n",
              "3     1          3         4            WN           130.0    HOU  MCO   \n",
              "4     1          3         4            WN           130.0    HOU  MCO   \n",
              "\n",
              "   Distance  tempmax  tempmin  ...  snowdepth  windspeed  winddir  \\\n",
              "0       393     11.5     -2.3  ...        0.0       15.7    154.3   \n",
              "1       441     11.5     -2.3  ...        0.0       15.7    154.3   \n",
              "2       441     11.5     -2.3  ...        0.0       15.7    154.3   \n",
              "3       848     11.5     -2.3  ...        0.0       15.7    154.3   \n",
              "4       848     11.5     -2.3  ...        0.0       15.7    154.3   \n",
              "\n",
              "   sealevelpressure  cloudcover  visibility  conditions  ArrDelayed  \\\n",
              "0            1038.6        15.3        16.0       Clear           1   \n",
              "1            1038.6        15.3        16.0       Clear           1   \n",
              "2            1038.6        15.3        16.0       Clear           0   \n",
              "3            1038.6        15.3        16.0       Clear           0   \n",
              "4            1038.6        15.3        16.0       Clear           1   \n",
              "\n",
              "   CRSDepHour  CRSArrHour  \n",
              "0      13TO15      13TO15  \n",
              "1      10TO12      10TO12  \n",
              "2      19TO21      19TO21  \n",
              "3        7TO9      10TO12  \n",
              "4      13TO15      16TO18  \n",
              "\n",
              "[5 rows x 30 columns]"
            ],
            "text/html": [
              "\n",
              "  <div id=\"df-7b561dc8-d06f-4742-8126-d9648f009efe\">\n",
              "    <div class=\"colab-df-container\">\n",
              "      <div>\n",
              "<style scoped>\n",
              "    .dataframe tbody tr th:only-of-type {\n",
              "        vertical-align: middle;\n",
              "    }\n",
              "\n",
              "    .dataframe tbody tr th {\n",
              "        vertical-align: top;\n",
              "    }\n",
              "\n",
              "    .dataframe thead th {\n",
              "        text-align: right;\n",
              "    }\n",
              "</style>\n",
              "<table border=\"1\" class=\"dataframe\">\n",
              "  <thead>\n",
              "    <tr style=\"text-align: right;\">\n",
              "      <th></th>\n",
              "      <th>Month</th>\n",
              "      <th>DayofMonth</th>\n",
              "      <th>DayOfWeek</th>\n",
              "      <th>UniqueCarrier</th>\n",
              "      <th>CRSElapsedTime</th>\n",
              "      <th>Origin</th>\n",
              "      <th>Dest</th>\n",
              "      <th>Distance</th>\n",
              "      <th>tempmax</th>\n",
              "      <th>tempmin</th>\n",
              "      <th>...</th>\n",
              "      <th>snowdepth</th>\n",
              "      <th>windspeed</th>\n",
              "      <th>winddir</th>\n",
              "      <th>sealevelpressure</th>\n",
              "      <th>cloudcover</th>\n",
              "      <th>visibility</th>\n",
              "      <th>conditions</th>\n",
              "      <th>ArrDelayed</th>\n",
              "      <th>CRSDepHour</th>\n",
              "      <th>CRSArrHour</th>\n",
              "    </tr>\n",
              "  </thead>\n",
              "  <tbody>\n",
              "    <tr>\n",
              "      <th>0</th>\n",
              "      <td>1</td>\n",
              "      <td>3</td>\n",
              "      <td>4</td>\n",
              "      <td>WN</td>\n",
              "      <td>70.0</td>\n",
              "      <td>HOU</td>\n",
              "      <td>LIT</td>\n",
              "      <td>393</td>\n",
              "      <td>11.5</td>\n",
              "      <td>-2.3</td>\n",
              "      <td>...</td>\n",
              "      <td>0.0</td>\n",
              "      <td>15.7</td>\n",
              "      <td>154.3</td>\n",
              "      <td>1038.6</td>\n",
              "      <td>15.3</td>\n",
              "      <td>16.0</td>\n",
              "      <td>Clear</td>\n",
              "      <td>1</td>\n",
              "      <td>13TO15</td>\n",
              "      <td>13TO15</td>\n",
              "    </tr>\n",
              "    <tr>\n",
              "      <th>1</th>\n",
              "      <td>1</td>\n",
              "      <td>3</td>\n",
              "      <td>4</td>\n",
              "      <td>WN</td>\n",
              "      <td>85.0</td>\n",
              "      <td>HOU</td>\n",
              "      <td>MAF</td>\n",
              "      <td>441</td>\n",
              "      <td>11.5</td>\n",
              "      <td>-2.3</td>\n",
              "      <td>...</td>\n",
              "      <td>0.0</td>\n",
              "      <td>15.7</td>\n",
              "      <td>154.3</td>\n",
              "      <td>1038.6</td>\n",
              "      <td>15.3</td>\n",
              "      <td>16.0</td>\n",
              "      <td>Clear</td>\n",
              "      <td>1</td>\n",
              "      <td>10TO12</td>\n",
              "      <td>10TO12</td>\n",
              "    </tr>\n",
              "    <tr>\n",
              "      <th>2</th>\n",
              "      <td>1</td>\n",
              "      <td>3</td>\n",
              "      <td>4</td>\n",
              "      <td>WN</td>\n",
              "      <td>85.0</td>\n",
              "      <td>HOU</td>\n",
              "      <td>MAF</td>\n",
              "      <td>441</td>\n",
              "      <td>11.5</td>\n",
              "      <td>-2.3</td>\n",
              "      <td>...</td>\n",
              "      <td>0.0</td>\n",
              "      <td>15.7</td>\n",
              "      <td>154.3</td>\n",
              "      <td>1038.6</td>\n",
              "      <td>15.3</td>\n",
              "      <td>16.0</td>\n",
              "      <td>Clear</td>\n",
              "      <td>0</td>\n",
              "      <td>19TO21</td>\n",
              "      <td>19TO21</td>\n",
              "    </tr>\n",
              "    <tr>\n",
              "      <th>3</th>\n",
              "      <td>1</td>\n",
              "      <td>3</td>\n",
              "      <td>4</td>\n",
              "      <td>WN</td>\n",
              "      <td>130.0</td>\n",
              "      <td>HOU</td>\n",
              "      <td>MCO</td>\n",
              "      <td>848</td>\n",
              "      <td>11.5</td>\n",
              "      <td>-2.3</td>\n",
              "      <td>...</td>\n",
              "      <td>0.0</td>\n",
              "      <td>15.7</td>\n",
              "      <td>154.3</td>\n",
              "      <td>1038.6</td>\n",
              "      <td>15.3</td>\n",
              "      <td>16.0</td>\n",
              "      <td>Clear</td>\n",
              "      <td>0</td>\n",
              "      <td>7TO9</td>\n",
              "      <td>10TO12</td>\n",
              "    </tr>\n",
              "    <tr>\n",
              "      <th>4</th>\n",
              "      <td>1</td>\n",
              "      <td>3</td>\n",
              "      <td>4</td>\n",
              "      <td>WN</td>\n",
              "      <td>130.0</td>\n",
              "      <td>HOU</td>\n",
              "      <td>MCO</td>\n",
              "      <td>848</td>\n",
              "      <td>11.5</td>\n",
              "      <td>-2.3</td>\n",
              "      <td>...</td>\n",
              "      <td>0.0</td>\n",
              "      <td>15.7</td>\n",
              "      <td>154.3</td>\n",
              "      <td>1038.6</td>\n",
              "      <td>15.3</td>\n",
              "      <td>16.0</td>\n",
              "      <td>Clear</td>\n",
              "      <td>1</td>\n",
              "      <td>13TO15</td>\n",
              "      <td>16TO18</td>\n",
              "    </tr>\n",
              "  </tbody>\n",
              "</table>\n",
              "<p>5 rows × 30 columns</p>\n",
              "</div>\n",
              "      <button class=\"colab-df-convert\" onclick=\"convertToInteractive('df-7b561dc8-d06f-4742-8126-d9648f009efe')\"\n",
              "              title=\"Convert this dataframe to an interactive table.\"\n",
              "              style=\"display:none;\">\n",
              "        \n",
              "  <svg xmlns=\"http://www.w3.org/2000/svg\" height=\"24px\"viewBox=\"0 0 24 24\"\n",
              "       width=\"24px\">\n",
              "    <path d=\"M0 0h24v24H0V0z\" fill=\"none\"/>\n",
              "    <path d=\"M18.56 5.44l.94 2.06.94-2.06 2.06-.94-2.06-.94-.94-2.06-.94 2.06-2.06.94zm-11 1L8.5 8.5l.94-2.06 2.06-.94-2.06-.94L8.5 2.5l-.94 2.06-2.06.94zm10 10l.94 2.06.94-2.06 2.06-.94-2.06-.94-.94-2.06-.94 2.06-2.06.94z\"/><path d=\"M17.41 7.96l-1.37-1.37c-.4-.4-.92-.59-1.43-.59-.52 0-1.04.2-1.43.59L10.3 9.45l-7.72 7.72c-.78.78-.78 2.05 0 2.83L4 21.41c.39.39.9.59 1.41.59.51 0 1.02-.2 1.41-.59l7.78-7.78 2.81-2.81c.8-.78.8-2.07 0-2.86zM5.41 20L4 18.59l7.72-7.72 1.47 1.35L5.41 20z\"/>\n",
              "  </svg>\n",
              "      </button>\n",
              "      \n",
              "  <style>\n",
              "    .colab-df-container {\n",
              "      display:flex;\n",
              "      flex-wrap:wrap;\n",
              "      gap: 12px;\n",
              "    }\n",
              "\n",
              "    .colab-df-convert {\n",
              "      background-color: #E8F0FE;\n",
              "      border: none;\n",
              "      border-radius: 50%;\n",
              "      cursor: pointer;\n",
              "      display: none;\n",
              "      fill: #1967D2;\n",
              "      height: 32px;\n",
              "      padding: 0 0 0 0;\n",
              "      width: 32px;\n",
              "    }\n",
              "\n",
              "    .colab-df-convert:hover {\n",
              "      background-color: #E2EBFA;\n",
              "      box-shadow: 0px 1px 2px rgba(60, 64, 67, 0.3), 0px 1px 3px 1px rgba(60, 64, 67, 0.15);\n",
              "      fill: #174EA6;\n",
              "    }\n",
              "\n",
              "    [theme=dark] .colab-df-convert {\n",
              "      background-color: #3B4455;\n",
              "      fill: #D2E3FC;\n",
              "    }\n",
              "\n",
              "    [theme=dark] .colab-df-convert:hover {\n",
              "      background-color: #434B5C;\n",
              "      box-shadow: 0px 1px 3px 1px rgba(0, 0, 0, 0.15);\n",
              "      filter: drop-shadow(0px 1px 2px rgba(0, 0, 0, 0.3));\n",
              "      fill: #FFFFFF;\n",
              "    }\n",
              "  </style>\n",
              "\n",
              "      <script>\n",
              "        const buttonEl =\n",
              "          document.querySelector('#df-7b561dc8-d06f-4742-8126-d9648f009efe button.colab-df-convert');\n",
              "        buttonEl.style.display =\n",
              "          google.colab.kernel.accessAllowed ? 'block' : 'none';\n",
              "\n",
              "        async function convertToInteractive(key) {\n",
              "          const element = document.querySelector('#df-7b561dc8-d06f-4742-8126-d9648f009efe');\n",
              "          const dataTable =\n",
              "            await google.colab.kernel.invokeFunction('convertToInteractive',\n",
              "                                                     [key], {});\n",
              "          if (!dataTable) return;\n",
              "\n",
              "          const docLinkHtml = 'Like what you see? Visit the ' +\n",
              "            '<a target=\"_blank\" href=https://colab.research.google.com/notebooks/data_table.ipynb>data table notebook</a>'\n",
              "            + ' to learn more about interactive tables.';\n",
              "          element.innerHTML = '';\n",
              "          dataTable['output_type'] = 'display_data';\n",
              "          await google.colab.output.renderOutput(dataTable, element);\n",
              "          const docLink = document.createElement('div');\n",
              "          docLink.innerHTML = docLinkHtml;\n",
              "          element.appendChild(docLink);\n",
              "        }\n",
              "      </script>\n",
              "    </div>\n",
              "  </div>\n",
              "  "
            ]
          },
          "metadata": {},
          "execution_count": 12
        }
      ]
    },
    {
      "cell_type": "code",
      "source": [
        "# Encode categorical variables using one-hot encoding\n",
        "df = pd.get_dummies(df)"
      ],
      "metadata": {
        "id": "kQ37J5iFhcgp"
      },
      "execution_count": 13,
      "outputs": []
    },
    {
      "cell_type": "code",
      "source": [
        "df.columns"
      ],
      "metadata": {
        "colab": {
          "base_uri": "https://localhost:8080/"
        },
        "id": "ViAsKb3ohcZ5",
        "outputId": "91a2a23a-b68b-4fa2-b571-7cb80a6422d4"
      },
      "execution_count": 14,
      "outputs": [
        {
          "output_type": "execute_result",
          "data": {
            "text/plain": [
              "Index(['CRSElapsedTime', 'Distance', 'tempmax', 'tempmin', 'temp',\n",
              "       'feelslikemax', 'feelslikemin', 'feelslike', 'dew', 'humidity',\n",
              "       ...\n",
              "       'CRSDepHour_4TO6', 'CRSDepHour_7TO9', 'CRSArrHour_10TO12',\n",
              "       'CRSArrHour_13TO15', 'CRSArrHour_16TO18', 'CRSArrHour_19TO21',\n",
              "       'CRSArrHour_1TO3', 'CRSArrHour_22TO0', 'CRSArrHour_4TO6',\n",
              "       'CRSArrHour_7TO9'],\n",
              "      dtype='object', length=580)"
            ]
          },
          "metadata": {},
          "execution_count": 14
        }
      ]
    },
    {
      "cell_type": "markdown",
      "source": [
        "# Neural Network"
      ],
      "metadata": {
        "id": "OHOHuLfuiyaD"
      }
    },
    {
      "cell_type": "code",
      "source": [
        "from keras.models import Sequential\n",
        "from keras.layers import Dense, Softmax"
      ],
      "metadata": {
        "id": "mCPq-l21igbk"
      },
      "execution_count": 15,
      "outputs": []
    },
    {
      "cell_type": "code",
      "source": [
        "# Due to RAM issue, drop ArrDelayed column in df instead of creating new table X\n",
        "y = df[[\"ArrDelayed\"]]\n",
        "df = df.drop(labels=[\"ArrDelayed\"], axis=1)"
      ],
      "metadata": {
        "id": "ZFf68BXkAFxo"
      },
      "execution_count": 16,
      "outputs": []
    },
    {
      "cell_type": "code",
      "source": [
        "# Due to RAM issue, use only 10% of data\n",
        "from sklearn.model_selection import train_test_split\n",
        "df, _, y, _ = train_test_split(df, y, train_size=0.1, random_state=42)"
      ],
      "metadata": {
        "id": "_yA0p6bKkWFM"
      },
      "execution_count": 17,
      "outputs": []
    },
    {
      "cell_type": "code",
      "source": [
        "df.shape"
      ],
      "metadata": {
        "colab": {
          "base_uri": "https://localhost:8080/"
        },
        "id": "gXZIzUt_oEYx",
        "outputId": "66cbf052-3e99-494f-abba-c69499b891c3"
      },
      "execution_count": 18,
      "outputs": [
        {
          "output_type": "execute_result",
          "data": {
            "text/plain": [
              "(219409, 579)"
            ]
          },
          "metadata": {},
          "execution_count": 18
        }
      ]
    },
    {
      "cell_type": "code",
      "source": [
        "# Split into training dataset and test dataset\n",
        "from sklearn.model_selection import train_test_split\n",
        "train, test, labels_enc_train, labels_test = train_test_split(df, y, train_size=0.8, random_state=42)"
      ],
      "metadata": {
        "id": "6Fm98LEBoKti"
      },
      "execution_count": 19,
      "outputs": []
    },
    {
      "cell_type": "code",
      "source": [
        "# Convert ArrDelayed column into one-hot encoded version\n",
        "labels_enc_train[\"ONTIME\"] = 1-labels_enc_train[\"ArrDelayed\"]\n",
        "labels_enc_train[\"DELAY\"] = labels_enc_train[\"ArrDelayed\"]\n",
        "\n",
        "# Keep the original labels\n",
        "labels_train = labels_enc_train[\"ArrDelayed\"]\n",
        "labels_test = labels_test[\"ArrDelayed\"]\n",
        "\n",
        "labels_enc_train = labels_enc_train.drop(labels=[\"ArrDelayed\"], axis=1)"
      ],
      "metadata": {
        "id": "sJdfsPgjk6uE"
      },
      "execution_count": 20,
      "outputs": []
    },
    {
      "cell_type": "code",
      "source": [
        "n_inputs, n_outputs = train.shape[1], labels_enc_train.shape[1]"
      ],
      "metadata": {
        "id": "v-9GKzcpNkqN"
      },
      "execution_count": 21,
      "outputs": []
    },
    {
      "cell_type": "code",
      "source": [
        "# Using three linear transformation layers\n",
        "# 1st layer: input size = n_inputs (579)    output size = 64\n",
        "# 2nd layer: input size = 64                output size = 32\n",
        "# 3rd layer: input size = 32                output size = n_outputs (2)\n",
        "def get_model(n_inputs, n_outputs):\n",
        "    model = Sequential()\n",
        "    model.add(Dense(64, input_dim=n_inputs, activation='relu'))\n",
        "    model.add(Dense(32, activation='relu'))\n",
        "    model.add(Dense(n_outputs))\n",
        "    model.add(Softmax())\n",
        "    model.compile(loss='categorical_crossentropy', optimizer='adam', metrics=['accuracy'])\n",
        "    return model"
      ],
      "metadata": {
        "id": "maVlBQVM5D7w"
      },
      "execution_count": 22,
      "outputs": []
    },
    {
      "cell_type": "code",
      "source": [
        "# Fitting model\n",
        "model = get_model(n_inputs, n_outputs)\n",
        "model.fit(train,labels_enc_train,epochs=50)"
      ],
      "metadata": {
        "id": "y9p-fiTfjo5j",
        "colab": {
          "base_uri": "https://localhost:8080/"
        },
        "outputId": "4199009d-7abd-4fbe-b88e-e52c05ab0c8a"
      },
      "execution_count": 23,
      "outputs": [
        {
          "output_type": "stream",
          "name": "stdout",
          "text": [
            "Epoch 1/50\n",
            "5486/5486 [==============================] - 17s 3ms/step - loss: 0.8954 - accuracy: 0.5375\n",
            "Epoch 2/50\n",
            "5486/5486 [==============================] - 19s 3ms/step - loss: 0.6933 - accuracy: 0.5569\n",
            "Epoch 3/50\n",
            "5486/5486 [==============================] - 15s 3ms/step - loss: 0.6809 - accuracy: 0.5634\n",
            "Epoch 4/50\n",
            "5486/5486 [==============================] - 16s 3ms/step - loss: 0.6777 - accuracy: 0.5737\n",
            "Epoch 5/50\n",
            "5486/5486 [==============================] - 16s 3ms/step - loss: 0.6753 - accuracy: 0.5804\n",
            "Epoch 6/50\n",
            "5486/5486 [==============================] - 15s 3ms/step - loss: 0.6743 - accuracy: 0.5813\n",
            "Epoch 7/50\n",
            "5486/5486 [==============================] - 15s 3ms/step - loss: 0.6736 - accuracy: 0.5832\n",
            "Epoch 8/50\n",
            "5486/5486 [==============================] - 18s 3ms/step - loss: 0.6722 - accuracy: 0.5870\n",
            "Epoch 9/50\n",
            "5486/5486 [==============================] - 16s 3ms/step - loss: 0.6719 - accuracy: 0.5865\n",
            "Epoch 10/50\n",
            "5486/5486 [==============================] - 16s 3ms/step - loss: 0.6708 - accuracy: 0.5881\n",
            "Epoch 11/50\n",
            "5486/5486 [==============================] - 15s 3ms/step - loss: 0.6701 - accuracy: 0.5903\n",
            "Epoch 12/50\n",
            "5486/5486 [==============================] - 16s 3ms/step - loss: 0.6703 - accuracy: 0.5902\n",
            "Epoch 13/50\n",
            "5486/5486 [==============================] - 16s 3ms/step - loss: 0.6696 - accuracy: 0.5923\n",
            "Epoch 14/50\n",
            "5486/5486 [==============================] - 17s 3ms/step - loss: 0.6699 - accuracy: 0.5909\n",
            "Epoch 15/50\n",
            "5486/5486 [==============================] - 16s 3ms/step - loss: 0.6700 - accuracy: 0.5897\n",
            "Epoch 16/50\n",
            "5486/5486 [==============================] - 16s 3ms/step - loss: 0.6691 - accuracy: 0.5927\n",
            "Epoch 17/50\n",
            "5486/5486 [==============================] - 16s 3ms/step - loss: 0.6688 - accuracy: 0.5925\n",
            "Epoch 18/50\n",
            "5486/5486 [==============================] - 15s 3ms/step - loss: 0.6684 - accuracy: 0.5940\n",
            "Epoch 19/50\n",
            "5486/5486 [==============================] - 16s 3ms/step - loss: 0.6686 - accuracy: 0.5925\n",
            "Epoch 20/50\n",
            "5486/5486 [==============================] - 15s 3ms/step - loss: 0.6682 - accuracy: 0.5940\n",
            "Epoch 21/50\n",
            "5486/5486 [==============================] - 15s 3ms/step - loss: 0.6683 - accuracy: 0.5930\n",
            "Epoch 22/50\n",
            "5486/5486 [==============================] - 15s 3ms/step - loss: 0.6681 - accuracy: 0.5935\n",
            "Epoch 23/50\n",
            "5486/5486 [==============================] - 15s 3ms/step - loss: 0.6681 - accuracy: 0.5943\n",
            "Epoch 24/50\n",
            "5486/5486 [==============================] - 15s 3ms/step - loss: 0.6675 - accuracy: 0.5943\n",
            "Epoch 25/50\n",
            "5486/5486 [==============================] - 15s 3ms/step - loss: 0.6683 - accuracy: 0.5939\n",
            "Epoch 26/50\n",
            "5486/5486 [==============================] - 15s 3ms/step - loss: 0.6683 - accuracy: 0.5927\n",
            "Epoch 27/50\n",
            "5486/5486 [==============================] - 15s 3ms/step - loss: 0.6678 - accuracy: 0.5952\n",
            "Epoch 28/50\n",
            "5486/5486 [==============================] - 15s 3ms/step - loss: 0.6676 - accuracy: 0.5945\n",
            "Epoch 29/50\n",
            "5486/5486 [==============================] - 15s 3ms/step - loss: 0.6681 - accuracy: 0.5944\n",
            "Epoch 30/50\n",
            "5486/5486 [==============================] - 15s 3ms/step - loss: 0.6681 - accuracy: 0.5942\n",
            "Epoch 31/50\n",
            "5486/5486 [==============================] - 16s 3ms/step - loss: 0.6674 - accuracy: 0.5946\n",
            "Epoch 32/50\n",
            "5486/5486 [==============================] - 16s 3ms/step - loss: 0.6672 - accuracy: 0.5952\n",
            "Epoch 33/50\n",
            "5486/5486 [==============================] - 25s 5ms/step - loss: 0.6671 - accuracy: 0.5959\n",
            "Epoch 34/50\n",
            "5486/5486 [==============================] - 15s 3ms/step - loss: 0.6674 - accuracy: 0.5939\n",
            "Epoch 35/50\n",
            "5486/5486 [==============================] - 15s 3ms/step - loss: 0.6675 - accuracy: 0.5955\n",
            "Epoch 36/50\n",
            "5486/5486 [==============================] - 15s 3ms/step - loss: 0.6681 - accuracy: 0.5947\n",
            "Epoch 37/50\n",
            "5486/5486 [==============================] - 16s 3ms/step - loss: 0.6684 - accuracy: 0.5939\n",
            "Epoch 38/50\n",
            "5486/5486 [==============================] - 16s 3ms/step - loss: 0.6686 - accuracy: 0.5938\n",
            "Epoch 39/50\n",
            "5486/5486 [==============================] - 16s 3ms/step - loss: 0.6674 - accuracy: 0.5958\n",
            "Epoch 40/50\n",
            "5486/5486 [==============================] - 15s 3ms/step - loss: 0.6677 - accuracy: 0.5952\n",
            "Epoch 41/50\n",
            "5486/5486 [==============================] - 15s 3ms/step - loss: 0.6673 - accuracy: 0.5956\n",
            "Epoch 42/50\n",
            "5486/5486 [==============================] - 15s 3ms/step - loss: 0.6667 - accuracy: 0.5972\n",
            "Epoch 43/50\n",
            "5486/5486 [==============================] - 15s 3ms/step - loss: 0.6669 - accuracy: 0.5963\n",
            "Epoch 44/50\n",
            "5486/5486 [==============================] - 15s 3ms/step - loss: 0.6672 - accuracy: 0.5961\n",
            "Epoch 45/50\n",
            "5486/5486 [==============================] - 15s 3ms/step - loss: 0.6677 - accuracy: 0.5942\n",
            "Epoch 46/50\n",
            "5486/5486 [==============================] - 15s 3ms/step - loss: 0.6678 - accuracy: 0.5946\n",
            "Epoch 47/50\n",
            "5486/5486 [==============================] - 15s 3ms/step - loss: 0.6676 - accuracy: 0.5948\n",
            "Epoch 48/50\n",
            "5486/5486 [==============================] - 15s 3ms/step - loss: 0.6674 - accuracy: 0.5958\n",
            "Epoch 49/50\n",
            "5486/5486 [==============================] - 15s 3ms/step - loss: 0.6669 - accuracy: 0.5961\n",
            "Epoch 50/50\n",
            "5486/5486 [==============================] - 15s 3ms/step - loss: 0.6669 - accuracy: 0.5967\n"
          ]
        },
        {
          "output_type": "execute_result",
          "data": {
            "text/plain": [
              "<keras.callbacks.History at 0x7f9d7641f6d0>"
            ]
          },
          "metadata": {},
          "execution_count": 23
        }
      ]
    },
    {
      "cell_type": "code",
      "source": [
        "# Example prediction of the model\n",
        "# It is two dimensional vector in the form [ probability of punctual, probability of delay ]\n",
        "model.predict(train.iloc[0:1,:])"
      ],
      "metadata": {
        "id": "t5ubh1KWoTCa",
        "colab": {
          "base_uri": "https://localhost:8080/"
        },
        "outputId": "c64fec02-9e75-4e66-8a19-b23bc406e6fd"
      },
      "execution_count": 24,
      "outputs": [
        {
          "output_type": "stream",
          "name": "stdout",
          "text": [
            "1/1 [==============================] - 0s 183ms/step\n"
          ]
        },
        {
          "output_type": "execute_result",
          "data": {
            "text/plain": [
              "array([[0.6698915 , 0.33010855]], dtype=float32)"
            ]
          },
          "metadata": {},
          "execution_count": 24
        }
      ]
    },
    {
      "cell_type": "code",
      "source": [
        "# Using np.argmax to get actual label (0 for punctual, 1 for delay)\n",
        "# Get the prediction on test dataset\n",
        "pred = np.apply_along_axis(np.argmax, 1, model.predict(test))\n",
        "accuracy = np.mean(pred == labels_test)\n",
        "\n",
        "print(f'The accuracy is {accuracy*100:2.2f}%')"
      ],
      "metadata": {
        "colab": {
          "base_uri": "https://localhost:8080/"
        },
        "id": "fdfUeBPKceCM",
        "outputId": "07027478-a4e4-46f8-eb6b-90dec933f6e2"
      },
      "execution_count": 25,
      "outputs": [
        {
          "output_type": "stream",
          "name": "stdout",
          "text": [
            "1372/1372 [==============================] - 2s 2ms/step\n",
            "The accuracy is 58.49%\n"
          ]
        }
      ]
    },
    {
      "cell_type": "code",
      "source": [
        "from sklearn.metrics import classification_report\n",
        "print(classification_report(labels_test, pred))"
      ],
      "metadata": {
        "colab": {
          "base_uri": "https://localhost:8080/"
        },
        "id": "jhoaftxsgDFt",
        "outputId": "e8640cbf-3b4f-4b6d-c91a-1cb26fe21f8d"
      },
      "execution_count": 26,
      "outputs": [
        {
          "output_type": "stream",
          "name": "stdout",
          "text": [
            "              precision    recall  f1-score   support\n",
            "\n",
            "           0       0.58      0.82      0.68     23527\n",
            "           1       0.60      0.31      0.41     20355\n",
            "\n",
            "    accuracy                           0.58     43882\n",
            "   macro avg       0.59      0.57      0.54     43882\n",
            "weighted avg       0.59      0.58      0.55     43882\n",
            "\n"
          ]
        }
      ]
    },
    {
      "cell_type": "markdown",
      "source": [
        "# Shap"
      ],
      "metadata": {
        "id": "BNN2OuD_Ysq2"
      }
    },
    {
      "cell_type": "code",
      "source": [
        "try:\n",
        "    import shap\n",
        "except ModuleNotFoundError: # Install optax if missing\n",
        "    !pip install --quiet shap\n",
        "    import shap"
      ],
      "metadata": {
        "id": "8eDn-dOeoS-f"
      },
      "execution_count": 27,
      "outputs": []
    },
    {
      "cell_type": "code",
      "source": [
        "explainer = shap.KernelExplainer(model = model.predict, data = test.head(100), link = \"identity\")"
      ],
      "metadata": {
        "id": "J3NAANOroS7Y",
        "colab": {
          "base_uri": "https://localhost:8080/"
        },
        "outputId": "4680b26b-66f6-414a-f7ee-b1f89b34d230"
      },
      "execution_count": 28,
      "outputs": [
        {
          "output_type": "stream",
          "name": "stdout",
          "text": [
            "4/4 [==============================] - 0s 4ms/step\n"
          ]
        }
      ]
    },
    {
      "cell_type": "code",
      "source": [
        "# Calculate shap values\n",
        "# Note: We are limiting to the first 100 training examples since it takes time to calculate the full number of sampels\n",
        "shap_values = explainer.shap_values(X = test.iloc[0:100,:], nsamples = 500)"
      ],
      "metadata": {
        "id": "ip4ccLfToS3d",
        "colab": {
          "base_uri": "https://localhost:8080/",
          "height": 1000,
          "referenced_widgets": [
            "1dd8d53523254ca7ab7553f4c1b63cd8",
            "6499c4bfa317497385f41ba3f58a9de3",
            "7a4c9c10d09c496094612b299044821c",
            "a8dccf75d07b40eb9588c64e919a7bd9",
            "5c8c39f6500a4a16a9967391426cd475",
            "d1542df118c74caf9304fdc37811cf99",
            "e665a36f440745e6bd6f0f20f36fb173",
            "fd81677aa46b4ae6a08ffda312f826c1",
            "949ef2e21c8e41e7b6868d1117352f47",
            "44e6499d9e20425fa0260531da92f1af",
            "0fe66385356a4ac1b4511d44ae03f839"
          ]
        },
        "outputId": "1acbe1c9-d09d-4c9f-ca3c-4e6b1f4af965"
      },
      "execution_count": 30,
      "outputs": [
        {
          "output_type": "display_data",
          "data": {
            "text/plain": [
              "  0%|          | 0/100 [00:00<?, ?it/s]"
            ],
            "application/vnd.jupyter.widget-view+json": {
              "version_major": 2,
              "version_minor": 0,
              "model_id": "1dd8d53523254ca7ab7553f4c1b63cd8"
            }
          },
          "metadata": {}
        },
        {
          "output_type": "stream",
          "name": "stdout",
          "text": [
            "1/1 [==============================] - 0s 28ms/step\n",
            "1563/1563 [==============================] - 2s 2ms/step\n",
            "1/1 [==============================] - 0s 40ms/step\n",
            "1563/1563 [==============================] - 3s 2ms/step\n",
            "1/1 [==============================] - 0s 25ms/step\n",
            "1563/1563 [==============================] - 3s 2ms/step\n",
            "1/1 [==============================] - 0s 27ms/step\n",
            "1563/1563 [==============================] - 3s 2ms/step\n",
            "1/1 [==============================] - 0s 26ms/step\n",
            "1563/1563 [==============================] - 3s 2ms/step\n",
            "1/1 [==============================] - 0s 34ms/step\n",
            "1563/1563 [==============================] - 2s 2ms/step\n",
            "1/1 [==============================] - 0s 27ms/step\n",
            "1563/1563 [==============================] - 3s 2ms/step\n",
            "1/1 [==============================] - 0s 25ms/step\n",
            "1563/1563 [==============================] - 2s 2ms/step\n",
            "1/1 [==============================] - 0s 38ms/step\n",
            "1563/1563 [==============================] - 4s 2ms/step\n",
            "1/1 [==============================] - 0s 27ms/step\n",
            "1563/1563 [==============================] - 2s 2ms/step\n",
            "1/1 [==============================] - 0s 39ms/step\n",
            "1563/1563 [==============================] - 3s 2ms/step\n",
            "1/1 [==============================] - 0s 27ms/step\n",
            "1563/1563 [==============================] - 2s 2ms/step\n",
            "1/1 [==============================] - 0s 37ms/step\n",
            "1563/1563 [==============================] - 3s 2ms/step\n",
            "1/1 [==============================] - 0s 30ms/step\n",
            "1563/1563 [==============================] - 2s 2ms/step\n",
            "1/1 [==============================] - 0s 28ms/step\n",
            "1563/1563 [==============================] - 3s 2ms/step\n",
            "1/1 [==============================] - 0s 42ms/step\n",
            "1563/1563 [==============================] - 4s 3ms/step\n",
            "1/1 [==============================] - 0s 29ms/step\n",
            "1563/1563 [==============================] - 2s 2ms/step\n",
            "1/1 [==============================] - 0s 27ms/step\n",
            "1563/1563 [==============================] - 4s 3ms/step\n",
            "1/1 [==============================] - 0s 27ms/step\n",
            "1563/1563 [==============================] - 2s 2ms/step\n",
            "1/1 [==============================] - 0s 32ms/step\n",
            "1563/1563 [==============================] - 3s 2ms/step\n",
            "1/1 [==============================] - 0s 29ms/step\n",
            "1563/1563 [==============================] - 2s 2ms/step\n",
            "1/1 [==============================] - 0s 30ms/step\n",
            "1563/1563 [==============================] - 3s 2ms/step\n",
            "1/1 [==============================] - 0s 25ms/step\n",
            "1563/1563 [==============================] - 2s 2ms/step\n",
            "1/1 [==============================] - 0s 28ms/step\n",
            "1563/1563 [==============================] - 3s 2ms/step\n",
            "1/1 [==============================] - 0s 24ms/step\n",
            "1563/1563 [==============================] - 2s 2ms/step\n",
            "1/1 [==============================] - 0s 31ms/step\n",
            "1563/1563 [==============================] - 3s 2ms/step\n",
            "1/1 [==============================] - 0s 24ms/step\n",
            "1563/1563 [==============================] - 2s 2ms/step\n",
            "1/1 [==============================] - 0s 25ms/step\n",
            "1563/1563 [==============================] - 4s 2ms/step\n",
            "1/1 [==============================] - 0s 27ms/step\n",
            "1563/1563 [==============================] - 3s 2ms/step\n",
            "1/1 [==============================] - 0s 30ms/step\n",
            "1563/1563 [==============================] - 7s 4ms/step\n",
            "1/1 [==============================] - 0s 25ms/step\n",
            "1563/1563 [==============================] - 2s 2ms/step\n",
            "1/1 [==============================] - 0s 41ms/step\n",
            "1563/1563 [==============================] - 3s 2ms/step\n",
            "1/1 [==============================] - 0s 31ms/step\n",
            "1563/1563 [==============================] - 2s 2ms/step\n",
            "1/1 [==============================] - 0s 25ms/step\n",
            "1563/1563 [==============================] - 2s 2ms/step\n",
            "1/1 [==============================] - 0s 25ms/step\n",
            "1563/1563 [==============================] - 3s 2ms/step\n",
            "1/1 [==============================] - 0s 25ms/step\n",
            "1563/1563 [==============================] - 2s 2ms/step\n",
            "1/1 [==============================] - 0s 30ms/step\n",
            "1563/1563 [==============================] - 3s 2ms/step\n",
            "1/1 [==============================] - 0s 25ms/step\n",
            "1563/1563 [==============================] - 2s 2ms/step\n",
            "1/1 [==============================] - 0s 27ms/step\n",
            "1563/1563 [==============================] - 3s 2ms/step\n",
            "1/1 [==============================] - 0s 29ms/step\n",
            "1563/1563 [==============================] - 2s 2ms/step\n",
            "1/1 [==============================] - 0s 26ms/step\n",
            "1563/1563 [==============================] - 4s 2ms/step\n",
            "1/1 [==============================] - 0s 25ms/step\n",
            "1563/1563 [==============================] - 3s 2ms/step\n",
            "1/1 [==============================] - 0s 37ms/step\n",
            "1563/1563 [==============================] - 4s 2ms/step\n",
            "1/1 [==============================] - 0s 28ms/step\n",
            "1563/1563 [==============================] - 2s 2ms/step\n",
            "1/1 [==============================] - 0s 26ms/step\n",
            "1563/1563 [==============================] - 4s 2ms/step\n",
            "1/1 [==============================] - 0s 24ms/step\n",
            "1563/1563 [==============================] - 2s 2ms/step\n",
            "1/1 [==============================] - 0s 25ms/step\n",
            "1563/1563 [==============================] - 3s 2ms/step\n",
            "1/1 [==============================] - 0s 24ms/step\n",
            "1563/1563 [==============================] - 2s 2ms/step\n",
            "1/1 [==============================] - 0s 37ms/step\n",
            "1563/1563 [==============================] - 3s 2ms/step\n",
            "1/1 [==============================] - 0s 39ms/step\n",
            "1563/1563 [==============================] - 2s 2ms/step\n",
            "1/1 [==============================] - 0s 29ms/step\n",
            "1563/1563 [==============================] - 4s 2ms/step\n",
            "1/1 [==============================] - 0s 28ms/step\n",
            "1563/1563 [==============================] - 2s 2ms/step\n",
            "1/1 [==============================] - 0s 26ms/step\n",
            "1563/1563 [==============================] - 3s 2ms/step\n",
            "1/1 [==============================] - 0s 26ms/step\n",
            "1563/1563 [==============================] - 2s 2ms/step\n",
            "1/1 [==============================] - 0s 27ms/step\n",
            "1563/1563 [==============================] - 3s 2ms/step\n",
            "1/1 [==============================] - 0s 24ms/step\n",
            "1563/1563 [==============================] - 2s 2ms/step\n",
            "1/1 [==============================] - 0s 26ms/step\n",
            "1563/1563 [==============================] - 3s 2ms/step\n",
            "1/1 [==============================] - 0s 28ms/step\n",
            "1563/1563 [==============================] - 2s 2ms/step\n",
            "1/1 [==============================] - 0s 26ms/step\n",
            "1563/1563 [==============================] - 3s 2ms/step\n",
            "1/1 [==============================] - 0s 30ms/step\n",
            "1563/1563 [==============================] - 2s 2ms/step\n",
            "1/1 [==============================] - 0s 37ms/step\n",
            "1563/1563 [==============================] - 3s 2ms/step\n",
            "1/1 [==============================] - 0s 31ms/step\n",
            "1563/1563 [==============================] - 2s 2ms/step\n",
            "1/1 [==============================] - 0s 34ms/step\n",
            "1563/1563 [==============================] - 4s 2ms/step\n",
            "1/1 [==============================] - 0s 68ms/step\n",
            "1563/1563 [==============================] - 3s 2ms/step\n",
            "1/1 [==============================] - 0s 35ms/step\n",
            "1563/1563 [==============================] - 2s 2ms/step\n",
            "1/1 [==============================] - 0s 32ms/step\n",
            "1563/1563 [==============================] - 4s 2ms/step\n",
            "1/1 [==============================] - 0s 27ms/step\n",
            "1563/1563 [==============================] - 2s 2ms/step\n",
            "1/1 [==============================] - 0s 29ms/step\n",
            "1563/1563 [==============================] - 3s 2ms/step\n",
            "1/1 [==============================] - 0s 26ms/step\n",
            "1563/1563 [==============================] - 2s 2ms/step\n",
            "1/1 [==============================] - 0s 41ms/step\n",
            "1563/1563 [==============================] - 4s 2ms/step\n",
            "1/1 [==============================] - 0s 27ms/step\n",
            "1563/1563 [==============================] - 3s 2ms/step\n",
            "1/1 [==============================] - 0s 37ms/step\n",
            "1563/1563 [==============================] - 3s 2ms/step\n",
            "1/1 [==============================] - 0s 28ms/step\n",
            "1563/1563 [==============================] - 2s 2ms/step\n",
            "1/1 [==============================] - 0s 28ms/step\n",
            "1563/1563 [==============================] - 3s 2ms/step\n",
            "1/1 [==============================] - 0s 40ms/step\n",
            "1563/1563 [==============================] - 4s 2ms/step\n",
            "1/1 [==============================] - 0s 28ms/step\n",
            "1563/1563 [==============================] - 3s 2ms/step\n",
            "1/1 [==============================] - 0s 30ms/step\n",
            "1563/1563 [==============================] - 4s 2ms/step\n",
            "1/1 [==============================] - 0s 27ms/step\n",
            "1563/1563 [==============================] - 2s 2ms/step\n",
            "1/1 [==============================] - 0s 25ms/step\n",
            "1563/1563 [==============================] - 3s 2ms/step\n",
            "1/1 [==============================] - 0s 29ms/step\n",
            "1563/1563 [==============================] - 2s 2ms/step\n",
            "1/1 [==============================] - 0s 29ms/step\n",
            "1563/1563 [==============================] - 3s 2ms/step\n",
            "1/1 [==============================] - 0s 29ms/step\n",
            "1563/1563 [==============================] - 2s 2ms/step\n",
            "1/1 [==============================] - 0s 28ms/step\n",
            "1563/1563 [==============================] - 3s 2ms/step\n",
            "1/1 [==============================] - 0s 29ms/step\n",
            "1563/1563 [==============================] - 2s 2ms/step\n",
            "1/1 [==============================] - 0s 31ms/step\n",
            "1563/1563 [==============================] - 2s 2ms/step\n",
            "1/1 [==============================] - 0s 26ms/step\n",
            "1563/1563 [==============================] - 2s 2ms/step\n",
            "1/1 [==============================] - 0s 33ms/step\n",
            "1563/1563 [==============================] - 2s 2ms/step\n",
            "1/1 [==============================] - 0s 40ms/step\n",
            "1563/1563 [==============================] - 2s 2ms/step\n",
            "1/1 [==============================] - 0s 32ms/step\n",
            "1563/1563 [==============================] - 2s 2ms/step\n",
            "1/1 [==============================] - 0s 30ms/step\n",
            "1563/1563 [==============================] - 2s 2ms/step\n",
            "1/1 [==============================] - 0s 27ms/step\n",
            "1563/1563 [==============================] - 2s 2ms/step\n",
            "1/1 [==============================] - 0s 25ms/step\n",
            "1563/1563 [==============================] - 2s 2ms/step\n",
            "1/1 [==============================] - 0s 46ms/step\n",
            "1563/1563 [==============================] - 4s 2ms/step\n",
            "1/1 [==============================] - 0s 27ms/step\n",
            "1563/1563 [==============================] - 2s 2ms/step\n",
            "1/1 [==============================] - 0s 26ms/step\n",
            "1563/1563 [==============================] - 3s 2ms/step\n",
            "1/1 [==============================] - 0s 28ms/step\n",
            "1563/1563 [==============================] - 2s 2ms/step\n",
            "1/1 [==============================] - 0s 28ms/step\n",
            "1563/1563 [==============================] - 4s 2ms/step\n",
            "1/1 [==============================] - 0s 26ms/step\n",
            "1563/1563 [==============================] - 2s 2ms/step\n",
            "1/1 [==============================] - 0s 31ms/step\n",
            "1563/1563 [==============================] - 3s 2ms/step\n",
            "1/1 [==============================] - 0s 31ms/step\n",
            "1563/1563 [==============================] - 2s 2ms/step\n"
          ]
        }
      ]
    },
    {
      "cell_type": "code",
      "source": [
        "# Show the plot\n",
        "# Explanation example: high value of CRSElapsedTIme increase the probability of punctual\n",
        "shap.summary_plot(shap_values = shap_values[0],\n",
        "                  features = test.iloc[0:100,:],\n",
        "                  plot_size = (12,6)\n",
        "                  )"
      ],
      "metadata": {
        "colab": {
          "base_uri": "https://localhost:8080/",
          "height": 441
        },
        "id": "wAMErMvo5cju",
        "outputId": "1966566b-95b0-4e21-9087-e5ab5a0d7af1"
      },
      "execution_count": 33,
      "outputs": [
        {
          "output_type": "display_data",
          "data": {
            "text/plain": [
              "<Figure size 864x432 with 2 Axes>"
            ],
            "image/png": "[encoded data removed]"
          },
          "metadata": {
            "needs_background": "light"
          }
        }
      ]
    },
    {
      "cell_type": "code",
      "source": [],
      "metadata": {
        "id": "yS2sI2Xo6Vpx"
      },
      "execution_count": null,
      "outputs": []
    }
  ]
}