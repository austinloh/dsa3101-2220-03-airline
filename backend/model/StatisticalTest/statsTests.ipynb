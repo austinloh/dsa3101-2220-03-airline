{
  "nbformat": 4,
  "nbformat_minor": 0,
  "metadata": {
    "colab": {
      "provenance": []
    },
    "kernelspec": {
      "name": "python3",
      "display_name": "Python 3"
    },
    "language_info": {
      "name": "python"
    },
    "gpuClass": "standard"
  },
  "cells": [
    {
      "cell_type": "code",
      "execution_count": 134,
      "metadata": {
        "colab": {
          "base_uri": "https://localhost:8080/"
        },
        "id": "fztDn2Zx7kiB",
        "outputId": "cdfbdf13-c556-4802-ea61-78cee65c84d0"
      },
      "outputs": [
        {
          "output_type": "stream",
          "name": "stdout",
          "text": [
            "Drive already mounted at /content/drive; to attempt to forcibly remount, call drive.mount(\"/content/drive\", force_remount=True).\n"
          ]
        }
      ],
      "source": [
        "from google.colab import drive\n",
        "drive.mount('/content/drive')"
      ]
    },
    {
      "cell_type": "code",
      "source": [
        "import pandas as pd\n",
        "import numpy as np\n",
        "from sklearn.model_selection import train_test_split\n",
        "from sklearn.preprocessing import LabelEncoder"
      ],
      "metadata": {
        "id": "0AZr5ydT7v10"
      },
      "execution_count": 135,
      "outputs": []
    },
    {
      "cell_type": "code",
      "source": [
        "!ls drive/MyDrive/DSA3101_Share"
      ],
      "metadata": {
        "colab": {
          "base_uri": "https://localhost:8080/"
        },
        "id": "XUoHDMJt8EpJ",
        "outputId": "7a44d627-c632-4266-b1e7-1be336c79579"
      },
      "execution_count": 136,
      "outputs": [
        {
          "output_type": "stream",
          "name": "stdout",
          "text": [
            "2008_airplane_delay.ipynb  2008_data_with_weather.csv  Untitled0.ipynb\n"
          ]
        }
      ]
    },
    {
      "cell_type": "code",
      "source": [
        "df = pd.read_csv('drive/MyDrive/DSA3101_Share/2008_data_with_weather.csv')"
      ],
      "metadata": {
        "id": "CExE5uO38F6W"
      },
      "execution_count": 137,
      "outputs": []
    },
    {
      "cell_type": "code",
      "source": [
        "df.shape"
      ],
      "metadata": {
        "colab": {
          "base_uri": "https://localhost:8080/"
        },
        "id": "lMmAyt1P9ORR",
        "outputId": "87b28a7a-314a-4d10-ba89-c5b90e2b184b"
      },
      "execution_count": 138,
      "outputs": [
        {
          "output_type": "execute_result",
          "data": {
            "text/plain": [
              "(2389217, 62)"
            ]
          },
          "metadata": {},
          "execution_count": 138
        }
      ]
    },
    {
      "cell_type": "code",
      "source": [
        "df.columns"
      ],
      "metadata": {
        "colab": {
          "base_uri": "https://localhost:8080/"
        },
        "id": "4jlb3bOF9nY9",
        "outputId": "635f94ab-2607-4c23-fa0f-16ea10af2e1f"
      },
      "execution_count": 139,
      "outputs": [
        {
          "output_type": "execute_result",
          "data": {
            "text/plain": [
              "Index(['Year', 'Month', 'DayofMonth', 'DayOfWeek', 'DepTime', 'CRSDepTime',\n",
              "       'ArrTime', 'CRSArrTime', 'UniqueCarrier', 'FlightNum', 'TailNum',\n",
              "       'ActualElapsedTime', 'CRSElapsedTime', 'AirTime', 'ArrDelay',\n",
              "       'DepDelay', 'Origin', 'Dest', 'Distance', 'TaxiIn', 'TaxiOut',\n",
              "       'Cancelled', 'CancellationCode', 'Diverted', 'CarrierDelay',\n",
              "       'WeatherDelay', 'NASDelay', 'SecurityDelay', 'LateAircraftDelay',\n",
              "       'datetime', 'origin_state', 'tempmax', 'tempmin', 'temp',\n",
              "       'feelslikemax', 'feelslikemin', 'feelslike', 'dew', 'humidity',\n",
              "       'precip', 'precipprob', 'precipcover', 'preciptype', 'snow',\n",
              "       'snowdepth', 'windgust', 'windspeed', 'winddir', 'sealevelpressure',\n",
              "       'cloudcover', 'visibility', 'solarradiation', 'solarenergy', 'uvindex',\n",
              "       'severerisk', 'sunrise', 'sunset', 'moonphase', 'conditions',\n",
              "       'description', 'icon', 'stations'],\n",
              "      dtype='object')"
            ]
          },
          "metadata": {},
          "execution_count": 139
        }
      ]
    },
    {
      "cell_type": "code",
      "source": [
        "df.drop(['Year', 'DepTime', 'ArrTime', 'FlightNum', 'ActualElapsedTime', 'DepDelay', 'AirTime', \\\n",
        "         'TaxiIn', 'TaxiOut', 'Cancelled', 'CancellationCode', 'Diverted','CarrierDelay', 'WeatherDelay', \\\n",
        "         'NASDelay', 'SecurityDelay', 'LateAircraftDelay', \\\n",
        "         'datetime', 'origin_state', 'solarradiation', 'solarenergy', 'severerisk', 'sunrise', 'sunset', \\\n",
        "         'moonphase', 'description', 'icon', 'stations', 'windgust', 'preciptype','uvindex'], axis=1, inplace=True)"
      ],
      "metadata": {
        "id": "Qfukb6A49Yfs"
      },
      "execution_count": 140,
      "outputs": []
    },
    {
      "cell_type": "code",
      "source": [
        "df.shape"
      ],
      "metadata": {
        "colab": {
          "base_uri": "https://localhost:8080/"
        },
        "id": "WZM6QbQN9q7s",
        "outputId": "539b7758-a0a6-4372-bbbe-91983c04a7f1"
      },
      "execution_count": 141,
      "outputs": [
        {
          "output_type": "execute_result",
          "data": {
            "text/plain": [
              "(2389217, 31)"
            ]
          },
          "metadata": {},
          "execution_count": 141
        }
      ]
    },
    {
      "cell_type": "code",
      "source": [
        "\n",
        "df.head()"
      ],
      "metadata": {
        "colab": {
          "base_uri": "https://localhost:8080/",
          "height": 293
        },
        "id": "prFejI9A_RFf",
        "outputId": "b68a2d0d-d8c1-45a7-9761-530882140c79"
      },
      "execution_count": 142,
      "outputs": [
        {
          "output_type": "execute_result",
          "data": {
            "text/plain": [
              "   Month  DayofMonth  DayOfWeek  CRSDepTime  CRSArrTime UniqueCarrier TailNum  \\\n",
              "0      1           3          4        1325        1435            WN  N240WN   \n",
              "1      1           3          4        1120        1245            WN  N523SW   \n",
              "2      1           3          4        2015        2140            WN  N280WN   \n",
              "3      1           3          4         855        1205            WN  N308SA   \n",
              "4      1           3          4        1400        1710            WN  N462WN   \n",
              "\n",
              "   CRSElapsedTime  ArrDelay Origin  ... precipprob  precipcover  snow  \\\n",
              "0            70.0      16.0    HOU  ...        0.0          0.0   0.0   \n",
              "1            85.0       2.0    HOU  ...        0.0          0.0   0.0   \n",
              "2            85.0      -4.0    HOU  ...        0.0          0.0   0.0   \n",
              "3           130.0      -2.0    HOU  ...        0.0          0.0   0.0   \n",
              "4           130.0      16.0    HOU  ...        0.0          0.0   0.0   \n",
              "\n",
              "   snowdepth  windspeed  winddir  sealevelpressure  cloudcover  visibility  \\\n",
              "0        0.0       15.7    154.3            1038.6        15.3        16.0   \n",
              "1        0.0       15.7    154.3            1038.6        15.3        16.0   \n",
              "2        0.0       15.7    154.3            1038.6        15.3        16.0   \n",
              "3        0.0       15.7    154.3            1038.6        15.3        16.0   \n",
              "4        0.0       15.7    154.3            1038.6        15.3        16.0   \n",
              "\n",
              "   conditions  \n",
              "0       Clear  \n",
              "1       Clear  \n",
              "2       Clear  \n",
              "3       Clear  \n",
              "4       Clear  \n",
              "\n",
              "[5 rows x 31 columns]"
            ],
            "text/html": [
              "\n",
              "  <div id=\"df-3bd93bcb-480f-4414-a2fa-9cf41e81c724\">\n",
              "    <div class=\"colab-df-container\">\n",
              "      <div>\n",
              "<style scoped>\n",
              "    .dataframe tbody tr th:only-of-type {\n",
              "        vertical-align: middle;\n",
              "    }\n",
              "\n",
              "    .dataframe tbody tr th {\n",
              "        vertical-align: top;\n",
              "    }\n",
              "\n",
              "    .dataframe thead th {\n",
              "        text-align: right;\n",
              "    }\n",
              "</style>\n",
              "<table border=\"1\" class=\"dataframe\">\n",
              "  <thead>\n",
              "    <tr style=\"text-align: right;\">\n",
              "      <th></th>\n",
              "      <th>Month</th>\n",
              "      <th>DayofMonth</th>\n",
              "      <th>DayOfWeek</th>\n",
              "      <th>CRSDepTime</th>\n",
              "      <th>CRSArrTime</th>\n",
              "      <th>UniqueCarrier</th>\n",
              "      <th>TailNum</th>\n",
              "      <th>CRSElapsedTime</th>\n",
              "      <th>ArrDelay</th>\n",
              "      <th>Origin</th>\n",
              "      <th>...</th>\n",
              "      <th>precipprob</th>\n",
              "      <th>precipcover</th>\n",
              "      <th>snow</th>\n",
              "      <th>snowdepth</th>\n",
              "      <th>windspeed</th>\n",
              "      <th>winddir</th>\n",
              "      <th>sealevelpressure</th>\n",
              "      <th>cloudcover</th>\n",
              "      <th>visibility</th>\n",
              "      <th>conditions</th>\n",
              "    </tr>\n",
              "  </thead>\n",
              "  <tbody>\n",
              "    <tr>\n",
              "      <th>0</th>\n",
              "      <td>1</td>\n",
              "      <td>3</td>\n",
              "      <td>4</td>\n",
              "      <td>1325</td>\n",
              "      <td>1435</td>\n",
              "      <td>WN</td>\n",
              "      <td>N240WN</td>\n",
              "      <td>70.0</td>\n",
              "      <td>16.0</td>\n",
              "      <td>HOU</td>\n",
              "      <td>...</td>\n",
              "      <td>0.0</td>\n",
              "      <td>0.0</td>\n",
              "      <td>0.0</td>\n",
              "      <td>0.0</td>\n",
              "      <td>15.7</td>\n",
              "      <td>154.3</td>\n",
              "      <td>1038.6</td>\n",
              "      <td>15.3</td>\n",
              "      <td>16.0</td>\n",
              "      <td>Clear</td>\n",
              "    </tr>\n",
              "    <tr>\n",
              "      <th>1</th>\n",
              "      <td>1</td>\n",
              "      <td>3</td>\n",
              "      <td>4</td>\n",
              "      <td>1120</td>\n",
              "      <td>1245</td>\n",
              "      <td>WN</td>\n",
              "      <td>N523SW</td>\n",
              "      <td>85.0</td>\n",
              "      <td>2.0</td>\n",
              "      <td>HOU</td>\n",
              "      <td>...</td>\n",
              "      <td>0.0</td>\n",
              "      <td>0.0</td>\n",
              "      <td>0.0</td>\n",
              "      <td>0.0</td>\n",
              "      <td>15.7</td>\n",
              "      <td>154.3</td>\n",
              "      <td>1038.6</td>\n",
              "      <td>15.3</td>\n",
              "      <td>16.0</td>\n",
              "      <td>Clear</td>\n",
              "    </tr>\n",
              "    <tr>\n",
              "      <th>2</th>\n",
              "      <td>1</td>\n",
              "      <td>3</td>\n",
              "      <td>4</td>\n",
              "      <td>2015</td>\n",
              "      <td>2140</td>\n",
              "      <td>WN</td>\n",
              "      <td>N280WN</td>\n",
              "      <td>85.0</td>\n",
              "      <td>-4.0</td>\n",
              "      <td>HOU</td>\n",
              "      <td>...</td>\n",
              "      <td>0.0</td>\n",
              "      <td>0.0</td>\n",
              "      <td>0.0</td>\n",
              "      <td>0.0</td>\n",
              "      <td>15.7</td>\n",
              "      <td>154.3</td>\n",
              "      <td>1038.6</td>\n",
              "      <td>15.3</td>\n",
              "      <td>16.0</td>\n",
              "      <td>Clear</td>\n",
              "    </tr>\n",
              "    <tr>\n",
              "      <th>3</th>\n",
              "      <td>1</td>\n",
              "      <td>3</td>\n",
              "      <td>4</td>\n",
              "      <td>855</td>\n",
              "      <td>1205</td>\n",
              "      <td>WN</td>\n",
              "      <td>N308SA</td>\n",
              "      <td>130.0</td>\n",
              "      <td>-2.0</td>\n",
              "      <td>HOU</td>\n",
              "      <td>...</td>\n",
              "      <td>0.0</td>\n",
              "      <td>0.0</td>\n",
              "      <td>0.0</td>\n",
              "      <td>0.0</td>\n",
              "      <td>15.7</td>\n",
              "      <td>154.3</td>\n",
              "      <td>1038.6</td>\n",
              "      <td>15.3</td>\n",
              "      <td>16.0</td>\n",
              "      <td>Clear</td>\n",
              "    </tr>\n",
              "    <tr>\n",
              "      <th>4</th>\n",
              "      <td>1</td>\n",
              "      <td>3</td>\n",
              "      <td>4</td>\n",
              "      <td>1400</td>\n",
              "      <td>1710</td>\n",
              "      <td>WN</td>\n",
              "      <td>N462WN</td>\n",
              "      <td>130.0</td>\n",
              "      <td>16.0</td>\n",
              "      <td>HOU</td>\n",
              "      <td>...</td>\n",
              "      <td>0.0</td>\n",
              "      <td>0.0</td>\n",
              "      <td>0.0</td>\n",
              "      <td>0.0</td>\n",
              "      <td>15.7</td>\n",
              "      <td>154.3</td>\n",
              "      <td>1038.6</td>\n",
              "      <td>15.3</td>\n",
              "      <td>16.0</td>\n",
              "      <td>Clear</td>\n",
              "    </tr>\n",
              "  </tbody>\n",
              "</table>\n",
              "<p>5 rows × 31 columns</p>\n",
              "</div>\n",
              "      <button class=\"colab-df-convert\" onclick=\"convertToInteractive('df-3bd93bcb-480f-4414-a2fa-9cf41e81c724')\"\n",
              "              title=\"Convert this dataframe to an interactive table.\"\n",
              "              style=\"display:none;\">\n",
              "        \n",
              "  <svg xmlns=\"http://www.w3.org/2000/svg\" height=\"24px\"viewBox=\"0 0 24 24\"\n",
              "       width=\"24px\">\n",
              "    <path d=\"M0 0h24v24H0V0z\" fill=\"none\"/>\n",
              "    <path d=\"M18.56 5.44l.94 2.06.94-2.06 2.06-.94-2.06-.94-.94-2.06-.94 2.06-2.06.94zm-11 1L8.5 8.5l.94-2.06 2.06-.94-2.06-.94L8.5 2.5l-.94 2.06-2.06.94zm10 10l.94 2.06.94-2.06 2.06-.94-2.06-.94-.94-2.06-.94 2.06-2.06.94z\"/><path d=\"M17.41 7.96l-1.37-1.37c-.4-.4-.92-.59-1.43-.59-.52 0-1.04.2-1.43.59L10.3 9.45l-7.72 7.72c-.78.78-.78 2.05 0 2.83L4 21.41c.39.39.9.59 1.41.59.51 0 1.02-.2 1.41-.59l7.78-7.78 2.81-2.81c.8-.78.8-2.07 0-2.86zM5.41 20L4 18.59l7.72-7.72 1.47 1.35L5.41 20z\"/>\n",
              "  </svg>\n",
              "      </button>\n",
              "      \n",
              "  <style>\n",
              "    .colab-df-container {\n",
              "      display:flex;\n",
              "      flex-wrap:wrap;\n",
              "      gap: 12px;\n",
              "    }\n",
              "\n",
              "    .colab-df-convert {\n",
              "      background-color: #E8F0FE;\n",
              "      border: none;\n",
              "      border-radius: 50%;\n",
              "      cursor: pointer;\n",
              "      display: none;\n",
              "      fill: #1967D2;\n",
              "      height: 32px;\n",
              "      padding: 0 0 0 0;\n",
              "      width: 32px;\n",
              "    }\n",
              "\n",
              "    .colab-df-convert:hover {\n",
              "      background-color: #E2EBFA;\n",
              "      box-shadow: 0px 1px 2px rgba(60, 64, 67, 0.3), 0px 1px 3px 1px rgba(60, 64, 67, 0.15);\n",
              "      fill: #174EA6;\n",
              "    }\n",
              "\n",
              "    [theme=dark] .colab-df-convert {\n",
              "      background-color: #3B4455;\n",
              "      fill: #D2E3FC;\n",
              "    }\n",
              "\n",
              "    [theme=dark] .colab-df-convert:hover {\n",
              "      background-color: #434B5C;\n",
              "      box-shadow: 0px 1px 3px 1px rgba(0, 0, 0, 0.15);\n",
              "      filter: drop-shadow(0px 1px 2px rgba(0, 0, 0, 0.3));\n",
              "      fill: #FFFFFF;\n",
              "    }\n",
              "  </style>\n",
              "\n",
              "      <script>\n",
              "        const buttonEl =\n",
              "          document.querySelector('#df-3bd93bcb-480f-4414-a2fa-9cf41e81c724 button.colab-df-convert');\n",
              "        buttonEl.style.display =\n",
              "          google.colab.kernel.accessAllowed ? 'block' : 'none';\n",
              "\n",
              "        async function convertToInteractive(key) {\n",
              "          const element = document.querySelector('#df-3bd93bcb-480f-4414-a2fa-9cf41e81c724');\n",
              "          const dataTable =\n",
              "            await google.colab.kernel.invokeFunction('convertToInteractive',\n",
              "                                                     [key], {});\n",
              "          if (!dataTable) return;\n",
              "\n",
              "          const docLinkHtml = 'Like what you see? Visit the ' +\n",
              "            '<a target=\"_blank\" href=https://colab.research.google.com/notebooks/data_table.ipynb>data table notebook</a>'\n",
              "            + ' to learn more about interactive tables.';\n",
              "          element.innerHTML = '';\n",
              "          dataTable['output_type'] = 'display_data';\n",
              "          await google.colab.output.renderOutput(dataTable, element);\n",
              "          const docLink = document.createElement('div');\n",
              "          docLink.innerHTML = docLinkHtml;\n",
              "          element.appendChild(docLink);\n",
              "        }\n",
              "      </script>\n",
              "    </div>\n",
              "  </div>\n",
              "  "
            ]
          },
          "metadata": {},
          "execution_count": 142
        }
      ]
    },
    {
      "cell_type": "code",
      "source": [
        "df.isna().sum()"
      ],
      "metadata": {
        "colab": {
          "base_uri": "https://localhost:8080/"
        },
        "id": "qhEekHaK_jN_",
        "outputId": "8ff2529e-3a76-4696-8d60-214002ea43fb"
      },
      "execution_count": 143,
      "outputs": [
        {
          "output_type": "execute_result",
          "data": {
            "text/plain": [
              "Month                    0\n",
              "DayofMonth               0\n",
              "DayOfWeek                0\n",
              "CRSDepTime               0\n",
              "CRSArrTime               0\n",
              "UniqueCarrier            0\n",
              "TailNum              42452\n",
              "CRSElapsedTime         407\n",
              "ArrDelay             70096\n",
              "Origin                   0\n",
              "Dest                     0\n",
              "Distance                 0\n",
              "tempmax             191550\n",
              "tempmin             191550\n",
              "temp                191550\n",
              "feelslikemax        191550\n",
              "feelslikemin        191550\n",
              "feelslike           191550\n",
              "dew                 191550\n",
              "humidity            191550\n",
              "precip              194735\n",
              "precipprob          191550\n",
              "precipcover         191550\n",
              "snow                191550\n",
              "snowdepth           191550\n",
              "windspeed           191550\n",
              "winddir             191550\n",
              "sealevelpressure    191550\n",
              "cloudcover          191550\n",
              "visibility          191550\n",
              "conditions          191550\n",
              "dtype: int64"
            ]
          },
          "metadata": {},
          "execution_count": 143
        }
      ]
    },
    {
      "cell_type": "code",
      "source": [
        "#df[['windgust','windspeed']].value_counts()"
      ],
      "metadata": {
        "id": "O_IWyszY_Xk4"
      },
      "execution_count": null,
      "outputs": []
    },
    {
      "cell_type": "code",
      "source": [
        "#df.drop(['windgust'], axis=1, inplace=True)"
      ],
      "metadata": {
        "id": "t0v7k8TU_bsE"
      },
      "execution_count": null,
      "outputs": []
    },
    {
      "cell_type": "code",
      "source": [
        "df.shape[0] - df.dropna().shape[0]"
      ],
      "metadata": {
        "colab": {
          "base_uri": "https://localhost:8080/"
        },
        "id": "xa7cVuiWAe8t",
        "outputId": "d85bc9d7-1b64-4dff-a858-99ea68f9c7a2"
      },
      "execution_count": null,
      "outputs": [
        {
          "output_type": "execute_result",
          "data": {
            "text/plain": [
              "234762"
            ]
          },
          "metadata": {},
          "execution_count": 43
        }
      ]
    },
    {
      "cell_type": "code",
      "source": [
        "234762/df.shape[0]"
      ],
      "metadata": {
        "colab": {
          "base_uri": "https://localhost:8080/"
        },
        "id": "6B1rNDxVB4KY",
        "outputId": "12352d6e-2234-45bb-db98-b2bd85c92b58"
      },
      "execution_count": null,
      "outputs": [
        {
          "output_type": "execute_result",
          "data": {
            "text/plain": [
              "0.09825896936109194"
            ]
          },
          "metadata": {},
          "execution_count": 44
        }
      ]
    },
    {
      "cell_type": "code",
      "source": [
        "df.dtypes"
      ],
      "metadata": {
        "colab": {
          "base_uri": "https://localhost:8080/"
        },
        "id": "-QpiSgwuCTzS",
        "outputId": "91c69406-f4d1-4fc0-ee19-ddadfe7d9d0b"
      },
      "execution_count": null,
      "outputs": [
        {
          "output_type": "execute_result",
          "data": {
            "text/plain": [
              "Month                 int64\n",
              "DayofMonth            int64\n",
              "DayOfWeek             int64\n",
              "CRSDepTime            int64\n",
              "CRSArrTime            int64\n",
              "UniqueCarrier        object\n",
              "TailNum              object\n",
              "CRSElapsedTime      float64\n",
              "Origin               object\n",
              "Dest                 object\n",
              "Distance              int64\n",
              "tempmax             float64\n",
              "tempmin             float64\n",
              "temp                float64\n",
              "feelslikemax        float64\n",
              "feelslikemin        float64\n",
              "feelslike           float64\n",
              "dew                 float64\n",
              "humidity            float64\n",
              "precip              float64\n",
              "precipprob          float64\n",
              "precipcover         float64\n",
              "snow                float64\n",
              "snowdepth           float64\n",
              "windspeed           float64\n",
              "winddir             float64\n",
              "sealevelpressure    float64\n",
              "cloudcover          float64\n",
              "visibility          float64\n",
              "conditions           object\n",
              "dtype: object"
            ]
          },
          "metadata": {},
          "execution_count": 13
        }
      ]
    },
    {
      "cell_type": "code",
      "source": [
        "import matplotlib.pyplot as plt\n",
        "plt.hist(df['temp'])"
      ],
      "metadata": {
        "colab": {
          "base_uri": "https://localhost:8080/",
          "height": 368
        },
        "id": "kn8VKFqeCb8m",
        "outputId": "d875886f-5dfb-4a0c-df4e-095ce500256b"
      },
      "execution_count": null,
      "outputs": [
        {
          "output_type": "execute_result",
          "data": {
            "text/plain": [
              "(array([  2642.,  13799.,  41768., 146596., 310491., 462143., 548543.,\n",
              "        392870., 243435.,  35380.]),\n",
              " array([-24.  , -18.76, -13.52,  -8.28,  -3.04,   2.2 ,   7.44,  12.68,\n",
              "         17.92,  23.16,  28.4 ]),\n",
              " <BarContainer object of 10 artists>)"
            ]
          },
          "metadata": {},
          "execution_count": 50
        },
        {
          "output_type": "display_data",
          "data": {
            "text/plain": [
              "<Figure size 432x288 with 1 Axes>"
            ],
            "image/png": "[encoded data removed]"
          },
          "metadata": {
            "needs_background": "light"
          }
        }
      ]
    },
    {
      "cell_type": "code",
      "source": [
        "df.nunique()"
      ],
      "metadata": {
        "colab": {
          "base_uri": "https://localhost:8080/"
        },
        "id": "xgp6vKKvC_Ou",
        "outputId": "bffc752f-af65-431c-a996-f14f238aeabf"
      },
      "execution_count": null,
      "outputs": [
        {
          "output_type": "execute_result",
          "data": {
            "text/plain": [
              "Month                  4\n",
              "DayofMonth            31\n",
              "DayOfWeek              7\n",
              "CRSDepTime          1158\n",
              "CRSArrTime          1331\n",
              "UniqueCarrier         20\n",
              "TailNum             5031\n",
              "CRSElapsedTime       476\n",
              "Origin               291\n",
              "Dest                 293\n",
              "Distance            1377\n",
              "tempmax              441\n",
              "tempmin              432\n",
              "temp                 452\n",
              "feelslikemax         502\n",
              "feelslikemin         529\n",
              "feelslike            511\n",
              "dew                  436\n",
              "humidity             754\n",
              "precip              1537\n",
              "precipprob             2\n",
              "precipcover           25\n",
              "snow                  89\n",
              "snowdepth            357\n",
              "windspeed            466\n",
              "winddir             2640\n",
              "sealevelpressure     455\n",
              "cloudcover           990\n",
              "visibility           223\n",
              "conditions            12\n",
              "dtype: int64"
            ]
          },
          "metadata": {},
          "execution_count": 51
        }
      ]
    },
    {
      "cell_type": "code",
      "source": [
        "df['precipprob'].value_counts()"
      ],
      "metadata": {
        "colab": {
          "base_uri": "https://localhost:8080/"
        },
        "id": "Ja11rCpcDNhp",
        "outputId": "62a0f515-f783-47d7-fd8a-b669b07e8b1b"
      },
      "execution_count": null,
      "outputs": [
        {
          "output_type": "execute_result",
          "data": {
            "text/plain": [
              "0.0      1398355\n",
              "100.0     799312\n",
              "Name: precipprob, dtype: int64"
            ]
          },
          "metadata": {},
          "execution_count": 54
        }
      ]
    },
    {
      "cell_type": "code",
      "source": [
        "numerical = ['tempmax', 'tempmin', 'temp', 'feelslikemax' ,'feelslikemin', 'feelslike', 'dew', 'humidity', 'precip', \\\n",
        "             'precipprob', 'precipcover', 'snow', 'snowdepth', 'windspeed', 'winddir', 'sealevelpressure', 'cloudcover', 'visibility']\n",
        "\n",
        "for col in numerical:\n",
        "  df[col].fillna(df[col].mean(), inplace = True)\n",
        "\n",
        "df['conditions'].fillna(\"unknown\", inplace=True)"
      ],
      "metadata": {
        "id": "PGI49g9MDmqp"
      },
      "execution_count": 144,
      "outputs": []
    },
    {
      "cell_type": "code",
      "source": [],
      "metadata": {
        "id": "XvWfL74VEnxH"
      },
      "execution_count": null,
      "outputs": []
    },
    {
      "cell_type": "code",
      "source": [
        "#df.dropna(inplace = True)"
      ],
      "metadata": {
        "id": "qQq8eAh_EqoS"
      },
      "execution_count": null,
      "outputs": []
    },
    {
      "cell_type": "code",
      "source": [
        "df.shape"
      ],
      "metadata": {
        "colab": {
          "base_uri": "https://localhost:8080/"
        },
        "id": "7ZM2MqtlEuK3",
        "outputId": "0168aa10-50aa-459d-9c1f-f58758d8df17"
      },
      "execution_count": 145,
      "outputs": [
        {
          "output_type": "execute_result",
          "data": {
            "text/plain": [
              "(2389217, 31)"
            ]
          },
          "metadata": {},
          "execution_count": 145
        }
      ]
    },
    {
      "cell_type": "code",
      "source": [
        "df.head()"
      ],
      "metadata": {
        "colab": {
          "base_uri": "https://localhost:8080/",
          "height": 293
        },
        "id": "Bml7sidtEwIP",
        "outputId": "8e2d8f63-76a0-4150-e2a0-2a3e6606630b"
      },
      "execution_count": 146,
      "outputs": [
        {
          "output_type": "execute_result",
          "data": {
            "text/plain": [
              "   Month  DayofMonth  DayOfWeek  CRSDepTime  CRSArrTime UniqueCarrier TailNum  \\\n",
              "0      1           3          4        1325        1435            WN  N240WN   \n",
              "1      1           3          4        1120        1245            WN  N523SW   \n",
              "2      1           3          4        2015        2140            WN  N280WN   \n",
              "3      1           3          4         855        1205            WN  N308SA   \n",
              "4      1           3          4        1400        1710            WN  N462WN   \n",
              "\n",
              "   CRSElapsedTime  ArrDelay Origin  ... precipprob  precipcover  snow  \\\n",
              "0            70.0      16.0    HOU  ...        0.0          0.0   0.0   \n",
              "1            85.0       2.0    HOU  ...        0.0          0.0   0.0   \n",
              "2            85.0      -4.0    HOU  ...        0.0          0.0   0.0   \n",
              "3           130.0      -2.0    HOU  ...        0.0          0.0   0.0   \n",
              "4           130.0      16.0    HOU  ...        0.0          0.0   0.0   \n",
              "\n",
              "   snowdepth  windspeed  winddir  sealevelpressure  cloudcover  visibility  \\\n",
              "0        0.0       15.7    154.3            1038.6        15.3        16.0   \n",
              "1        0.0       15.7    154.3            1038.6        15.3        16.0   \n",
              "2        0.0       15.7    154.3            1038.6        15.3        16.0   \n",
              "3        0.0       15.7    154.3            1038.6        15.3        16.0   \n",
              "4        0.0       15.7    154.3            1038.6        15.3        16.0   \n",
              "\n",
              "   conditions  \n",
              "0       Clear  \n",
              "1       Clear  \n",
              "2       Clear  \n",
              "3       Clear  \n",
              "4       Clear  \n",
              "\n",
              "[5 rows x 31 columns]"
            ],
            "text/html": [
              "\n",
              "  <div id=\"df-b438078d-f134-4000-8431-4d698f9d217d\">\n",
              "    <div class=\"colab-df-container\">\n",
              "      <div>\n",
              "<style scoped>\n",
              "    .dataframe tbody tr th:only-of-type {\n",
              "        vertical-align: middle;\n",
              "    }\n",
              "\n",
              "    .dataframe tbody tr th {\n",
              "        vertical-align: top;\n",
              "    }\n",
              "\n",
              "    .dataframe thead th {\n",
              "        text-align: right;\n",
              "    }\n",
              "</style>\n",
              "<table border=\"1\" class=\"dataframe\">\n",
              "  <thead>\n",
              "    <tr style=\"text-align: right;\">\n",
              "      <th></th>\n",
              "      <th>Month</th>\n",
              "      <th>DayofMonth</th>\n",
              "      <th>DayOfWeek</th>\n",
              "      <th>CRSDepTime</th>\n",
              "      <th>CRSArrTime</th>\n",
              "      <th>UniqueCarrier</th>\n",
              "      <th>TailNum</th>\n",
              "      <th>CRSElapsedTime</th>\n",
              "      <th>ArrDelay</th>\n",
              "      <th>Origin</th>\n",
              "      <th>...</th>\n",
              "      <th>precipprob</th>\n",
              "      <th>precipcover</th>\n",
              "      <th>snow</th>\n",
              "      <th>snowdepth</th>\n",
              "      <th>windspeed</th>\n",
              "      <th>winddir</th>\n",
              "      <th>sealevelpressure</th>\n",
              "      <th>cloudcover</th>\n",
              "      <th>visibility</th>\n",
              "      <th>conditions</th>\n",
              "    </tr>\n",
              "  </thead>\n",
              "  <tbody>\n",
              "    <tr>\n",
              "      <th>0</th>\n",
              "      <td>1</td>\n",
              "      <td>3</td>\n",
              "      <td>4</td>\n",
              "      <td>1325</td>\n",
              "      <td>1435</td>\n",
              "      <td>WN</td>\n",
              "      <td>N240WN</td>\n",
              "      <td>70.0</td>\n",
              "      <td>16.0</td>\n",
              "      <td>HOU</td>\n",
              "      <td>...</td>\n",
              "      <td>0.0</td>\n",
              "      <td>0.0</td>\n",
              "      <td>0.0</td>\n",
              "      <td>0.0</td>\n",
              "      <td>15.7</td>\n",
              "      <td>154.3</td>\n",
              "      <td>1038.6</td>\n",
              "      <td>15.3</td>\n",
              "      <td>16.0</td>\n",
              "      <td>Clear</td>\n",
              "    </tr>\n",
              "    <tr>\n",
              "      <th>1</th>\n",
              "      <td>1</td>\n",
              "      <td>3</td>\n",
              "      <td>4</td>\n",
              "      <td>1120</td>\n",
              "      <td>1245</td>\n",
              "      <td>WN</td>\n",
              "      <td>N523SW</td>\n",
              "      <td>85.0</td>\n",
              "      <td>2.0</td>\n",
              "      <td>HOU</td>\n",
              "      <td>...</td>\n",
              "      <td>0.0</td>\n",
              "      <td>0.0</td>\n",
              "      <td>0.0</td>\n",
              "      <td>0.0</td>\n",
              "      <td>15.7</td>\n",
              "      <td>154.3</td>\n",
              "      <td>1038.6</td>\n",
              "      <td>15.3</td>\n",
              "      <td>16.0</td>\n",
              "      <td>Clear</td>\n",
              "    </tr>\n",
              "    <tr>\n",
              "      <th>2</th>\n",
              "      <td>1</td>\n",
              "      <td>3</td>\n",
              "      <td>4</td>\n",
              "      <td>2015</td>\n",
              "      <td>2140</td>\n",
              "      <td>WN</td>\n",
              "      <td>N280WN</td>\n",
              "      <td>85.0</td>\n",
              "      <td>-4.0</td>\n",
              "      <td>HOU</td>\n",
              "      <td>...</td>\n",
              "      <td>0.0</td>\n",
              "      <td>0.0</td>\n",
              "      <td>0.0</td>\n",
              "      <td>0.0</td>\n",
              "      <td>15.7</td>\n",
              "      <td>154.3</td>\n",
              "      <td>1038.6</td>\n",
              "      <td>15.3</td>\n",
              "      <td>16.0</td>\n",
              "      <td>Clear</td>\n",
              "    </tr>\n",
              "    <tr>\n",
              "      <th>3</th>\n",
              "      <td>1</td>\n",
              "      <td>3</td>\n",
              "      <td>4</td>\n",
              "      <td>855</td>\n",
              "      <td>1205</td>\n",
              "      <td>WN</td>\n",
              "      <td>N308SA</td>\n",
              "      <td>130.0</td>\n",
              "      <td>-2.0</td>\n",
              "      <td>HOU</td>\n",
              "      <td>...</td>\n",
              "      <td>0.0</td>\n",
              "      <td>0.0</td>\n",
              "      <td>0.0</td>\n",
              "      <td>0.0</td>\n",
              "      <td>15.7</td>\n",
              "      <td>154.3</td>\n",
              "      <td>1038.6</td>\n",
              "      <td>15.3</td>\n",
              "      <td>16.0</td>\n",
              "      <td>Clear</td>\n",
              "    </tr>\n",
              "    <tr>\n",
              "      <th>4</th>\n",
              "      <td>1</td>\n",
              "      <td>3</td>\n",
              "      <td>4</td>\n",
              "      <td>1400</td>\n",
              "      <td>1710</td>\n",
              "      <td>WN</td>\n",
              "      <td>N462WN</td>\n",
              "      <td>130.0</td>\n",
              "      <td>16.0</td>\n",
              "      <td>HOU</td>\n",
              "      <td>...</td>\n",
              "      <td>0.0</td>\n",
              "      <td>0.0</td>\n",
              "      <td>0.0</td>\n",
              "      <td>0.0</td>\n",
              "      <td>15.7</td>\n",
              "      <td>154.3</td>\n",
              "      <td>1038.6</td>\n",
              "      <td>15.3</td>\n",
              "      <td>16.0</td>\n",
              "      <td>Clear</td>\n",
              "    </tr>\n",
              "  </tbody>\n",
              "</table>\n",
              "<p>5 rows × 31 columns</p>\n",
              "</div>\n",
              "      <button class=\"colab-df-convert\" onclick=\"convertToInteractive('df-b438078d-f134-4000-8431-4d698f9d217d')\"\n",
              "              title=\"Convert this dataframe to an interactive table.\"\n",
              "              style=\"display:none;\">\n",
              "        \n",
              "  <svg xmlns=\"http://www.w3.org/2000/svg\" height=\"24px\"viewBox=\"0 0 24 24\"\n",
              "       width=\"24px\">\n",
              "    <path d=\"M0 0h24v24H0V0z\" fill=\"none\"/>\n",
              "    <path d=\"M18.56 5.44l.94 2.06.94-2.06 2.06-.94-2.06-.94-.94-2.06-.94 2.06-2.06.94zm-11 1L8.5 8.5l.94-2.06 2.06-.94-2.06-.94L8.5 2.5l-.94 2.06-2.06.94zm10 10l.94 2.06.94-2.06 2.06-.94-2.06-.94-.94-2.06-.94 2.06-2.06.94z\"/><path d=\"M17.41 7.96l-1.37-1.37c-.4-.4-.92-.59-1.43-.59-.52 0-1.04.2-1.43.59L10.3 9.45l-7.72 7.72c-.78.78-.78 2.05 0 2.83L4 21.41c.39.39.9.59 1.41.59.51 0 1.02-.2 1.41-.59l7.78-7.78 2.81-2.81c.8-.78.8-2.07 0-2.86zM5.41 20L4 18.59l7.72-7.72 1.47 1.35L5.41 20z\"/>\n",
              "  </svg>\n",
              "      </button>\n",
              "      \n",
              "  <style>\n",
              "    .colab-df-container {\n",
              "      display:flex;\n",
              "      flex-wrap:wrap;\n",
              "      gap: 12px;\n",
              "    }\n",
              "\n",
              "    .colab-df-convert {\n",
              "      background-color: #E8F0FE;\n",
              "      border: none;\n",
              "      border-radius: 50%;\n",
              "      cursor: pointer;\n",
              "      display: none;\n",
              "      fill: #1967D2;\n",
              "      height: 32px;\n",
              "      padding: 0 0 0 0;\n",
              "      width: 32px;\n",
              "    }\n",
              "\n",
              "    .colab-df-convert:hover {\n",
              "      background-color: #E2EBFA;\n",
              "      box-shadow: 0px 1px 2px rgba(60, 64, 67, 0.3), 0px 1px 3px 1px rgba(60, 64, 67, 0.15);\n",
              "      fill: #174EA6;\n",
              "    }\n",
              "\n",
              "    [theme=dark] .colab-df-convert {\n",
              "      background-color: #3B4455;\n",
              "      fill: #D2E3FC;\n",
              "    }\n",
              "\n",
              "    [theme=dark] .colab-df-convert:hover {\n",
              "      background-color: #434B5C;\n",
              "      box-shadow: 0px 1px 3px 1px rgba(0, 0, 0, 0.15);\n",
              "      filter: drop-shadow(0px 1px 2px rgba(0, 0, 0, 0.3));\n",
              "      fill: #FFFFFF;\n",
              "    }\n",
              "  </style>\n",
              "\n",
              "      <script>\n",
              "        const buttonEl =\n",
              "          document.querySelector('#df-b438078d-f134-4000-8431-4d698f9d217d button.colab-df-convert');\n",
              "        buttonEl.style.display =\n",
              "          google.colab.kernel.accessAllowed ? 'block' : 'none';\n",
              "\n",
              "        async function convertToInteractive(key) {\n",
              "          const element = document.querySelector('#df-b438078d-f134-4000-8431-4d698f9d217d');\n",
              "          const dataTable =\n",
              "            await google.colab.kernel.invokeFunction('convertToInteractive',\n",
              "                                                     [key], {});\n",
              "          if (!dataTable) return;\n",
              "\n",
              "          const docLinkHtml = 'Like what you see? Visit the ' +\n",
              "            '<a target=\"_blank\" href=https://colab.research.google.com/notebooks/data_table.ipynb>data table notebook</a>'\n",
              "            + ' to learn more about interactive tables.';\n",
              "          element.innerHTML = '';\n",
              "          dataTable['output_type'] = 'display_data';\n",
              "          await google.colab.output.renderOutput(dataTable, element);\n",
              "          const docLink = document.createElement('div');\n",
              "          docLink.innerHTML = docLinkHtml;\n",
              "          element.appendChild(docLink);\n",
              "        }\n",
              "      </script>\n",
              "    </div>\n",
              "  </div>\n",
              "  "
            ]
          },
          "metadata": {},
          "execution_count": 146
        }
      ]
    },
    {
      "cell_type": "code",
      "source": [
        "df['ArrDelayed'] = (df['ArrDelay'] > 0).astype(int)"
      ],
      "metadata": {
        "id": "00Tg0EWH8Tuj"
      },
      "execution_count": 147,
      "outputs": []
    },
    {
      "cell_type": "code",
      "source": [
        "df.isna().sum()"
      ],
      "metadata": {
        "colab": {
          "base_uri": "https://localhost:8080/"
        },
        "id": "CbZFPJ5QSMNe",
        "outputId": "a0807fb1-c06d-484c-adcc-151e3820bf0a"
      },
      "execution_count": 148,
      "outputs": [
        {
          "output_type": "execute_result",
          "data": {
            "text/plain": [
              "Month                   0\n",
              "DayofMonth              0\n",
              "DayOfWeek               0\n",
              "CRSDepTime              0\n",
              "CRSArrTime              0\n",
              "UniqueCarrier           0\n",
              "TailNum             42452\n",
              "CRSElapsedTime        407\n",
              "ArrDelay            70096\n",
              "Origin                  0\n",
              "Dest                    0\n",
              "Distance                0\n",
              "tempmax                 0\n",
              "tempmin                 0\n",
              "temp                    0\n",
              "feelslikemax            0\n",
              "feelslikemin            0\n",
              "feelslike               0\n",
              "dew                     0\n",
              "humidity                0\n",
              "precip                  0\n",
              "precipprob              0\n",
              "precipcover             0\n",
              "snow                    0\n",
              "snowdepth               0\n",
              "windspeed               0\n",
              "winddir                 0\n",
              "sealevelpressure        0\n",
              "cloudcover              0\n",
              "visibility              0\n",
              "conditions              0\n",
              "ArrDelayed              0\n",
              "dtype: int64"
            ]
          },
          "metadata": {},
          "execution_count": 148
        }
      ]
    },
    {
      "cell_type": "code",
      "source": [
        "df.drop('ArrDelay', axis=1, inplace=True)"
      ],
      "metadata": {
        "id": "FauLDcsCSrFN"
      },
      "execution_count": 149,
      "outputs": []
    },
    {
      "cell_type": "code",
      "source": [
        "df.dropna(inplace = True)"
      ],
      "metadata": {
        "id": "ZweXcsSsSxx1"
      },
      "execution_count": 150,
      "outputs": []
    },
    {
      "cell_type": "code",
      "source": [
        "df.shape"
      ],
      "metadata": {
        "colab": {
          "base_uri": "https://localhost:8080/"
        },
        "id": "kFVhD24ZS1VQ",
        "outputId": "566f5828-d2e9-4b24-e356-d285e656e044"
      },
      "execution_count": 151,
      "outputs": [
        {
          "output_type": "execute_result",
          "data": {
            "text/plain": [
              "(2346358, 31)"
            ]
          },
          "metadata": {},
          "execution_count": 151
        }
      ]
    },
    {
      "cell_type": "code",
      "source": [
        "df.head()"
      ],
      "metadata": {
        "colab": {
          "base_uri": "https://localhost:8080/",
          "height": 293
        },
        "id": "nCCQmVowS2rD",
        "outputId": "a18e6702-c221-420f-8832-d90bfb8f37a0"
      },
      "execution_count": 152,
      "outputs": [
        {
          "output_type": "execute_result",
          "data": {
            "text/plain": [
              "   Month  DayofMonth  DayOfWeek  CRSDepTime  CRSArrTime UniqueCarrier TailNum  \\\n",
              "0      1           3          4        1325        1435            WN  N240WN   \n",
              "1      1           3          4        1120        1245            WN  N523SW   \n",
              "2      1           3          4        2015        2140            WN  N280WN   \n",
              "3      1           3          4         855        1205            WN  N308SA   \n",
              "4      1           3          4        1400        1710            WN  N462WN   \n",
              "\n",
              "   CRSElapsedTime Origin Dest  ...  precipcover  snow  snowdepth  windspeed  \\\n",
              "0            70.0    HOU  LIT  ...          0.0   0.0        0.0       15.7   \n",
              "1            85.0    HOU  MAF  ...          0.0   0.0        0.0       15.7   \n",
              "2            85.0    HOU  MAF  ...          0.0   0.0        0.0       15.7   \n",
              "3           130.0    HOU  MCO  ...          0.0   0.0        0.0       15.7   \n",
              "4           130.0    HOU  MCO  ...          0.0   0.0        0.0       15.7   \n",
              "\n",
              "   winddir  sealevelpressure  cloudcover  visibility  conditions  ArrDelayed  \n",
              "0    154.3            1038.6        15.3        16.0       Clear           1  \n",
              "1    154.3            1038.6        15.3        16.0       Clear           1  \n",
              "2    154.3            1038.6        15.3        16.0       Clear           0  \n",
              "3    154.3            1038.6        15.3        16.0       Clear           0  \n",
              "4    154.3            1038.6        15.3        16.0       Clear           1  \n",
              "\n",
              "[5 rows x 31 columns]"
            ],
            "text/html": [
              "\n",
              "  <div id=\"df-8491e74a-c613-41e3-ac3d-eb72f792a65f\">\n",
              "    <div class=\"colab-df-container\">\n",
              "      <div>\n",
              "<style scoped>\n",
              "    .dataframe tbody tr th:only-of-type {\n",
              "        vertical-align: middle;\n",
              "    }\n",
              "\n",
              "    .dataframe tbody tr th {\n",
              "        vertical-align: top;\n",
              "    }\n",
              "\n",
              "    .dataframe thead th {\n",
              "        text-align: right;\n",
              "    }\n",
              "</style>\n",
              "<table border=\"1\" class=\"dataframe\">\n",
              "  <thead>\n",
              "    <tr style=\"text-align: right;\">\n",
              "      <th></th>\n",
              "      <th>Month</th>\n",
              "      <th>DayofMonth</th>\n",
              "      <th>DayOfWeek</th>\n",
              "      <th>CRSDepTime</th>\n",
              "      <th>CRSArrTime</th>\n",
              "      <th>UniqueCarrier</th>\n",
              "      <th>TailNum</th>\n",
              "      <th>CRSElapsedTime</th>\n",
              "      <th>Origin</th>\n",
              "      <th>Dest</th>\n",
              "      <th>...</th>\n",
              "      <th>precipcover</th>\n",
              "      <th>snow</th>\n",
              "      <th>snowdepth</th>\n",
              "      <th>windspeed</th>\n",
              "      <th>winddir</th>\n",
              "      <th>sealevelpressure</th>\n",
              "      <th>cloudcover</th>\n",
              "      <th>visibility</th>\n",
              "      <th>conditions</th>\n",
              "      <th>ArrDelayed</th>\n",
              "    </tr>\n",
              "  </thead>\n",
              "  <tbody>\n",
              "    <tr>\n",
              "      <th>0</th>\n",
              "      <td>1</td>\n",
              "      <td>3</td>\n",
              "      <td>4</td>\n",
              "      <td>1325</td>\n",
              "      <td>1435</td>\n",
              "      <td>WN</td>\n",
              "      <td>N240WN</td>\n",
              "      <td>70.0</td>\n",
              "      <td>HOU</td>\n",
              "      <td>LIT</td>\n",
              "      <td>...</td>\n",
              "      <td>0.0</td>\n",
              "      <td>0.0</td>\n",
              "      <td>0.0</td>\n",
              "      <td>15.7</td>\n",
              "      <td>154.3</td>\n",
              "      <td>1038.6</td>\n",
              "      <td>15.3</td>\n",
              "      <td>16.0</td>\n",
              "      <td>Clear</td>\n",
              "      <td>1</td>\n",
              "    </tr>\n",
              "    <tr>\n",
              "      <th>1</th>\n",
              "      <td>1</td>\n",
              "      <td>3</td>\n",
              "      <td>4</td>\n",
              "      <td>1120</td>\n",
              "      <td>1245</td>\n",
              "      <td>WN</td>\n",
              "      <td>N523SW</td>\n",
              "      <td>85.0</td>\n",
              "      <td>HOU</td>\n",
              "      <td>MAF</td>\n",
              "      <td>...</td>\n",
              "      <td>0.0</td>\n",
              "      <td>0.0</td>\n",
              "      <td>0.0</td>\n",
              "      <td>15.7</td>\n",
              "      <td>154.3</td>\n",
              "      <td>1038.6</td>\n",
              "      <td>15.3</td>\n",
              "      <td>16.0</td>\n",
              "      <td>Clear</td>\n",
              "      <td>1</td>\n",
              "    </tr>\n",
              "    <tr>\n",
              "      <th>2</th>\n",
              "      <td>1</td>\n",
              "      <td>3</td>\n",
              "      <td>4</td>\n",
              "      <td>2015</td>\n",
              "      <td>2140</td>\n",
              "      <td>WN</td>\n",
              "      <td>N280WN</td>\n",
              "      <td>85.0</td>\n",
              "      <td>HOU</td>\n",
              "      <td>MAF</td>\n",
              "      <td>...</td>\n",
              "      <td>0.0</td>\n",
              "      <td>0.0</td>\n",
              "      <td>0.0</td>\n",
              "      <td>15.7</td>\n",
              "      <td>154.3</td>\n",
              "      <td>1038.6</td>\n",
              "      <td>15.3</td>\n",
              "      <td>16.0</td>\n",
              "      <td>Clear</td>\n",
              "      <td>0</td>\n",
              "    </tr>\n",
              "    <tr>\n",
              "      <th>3</th>\n",
              "      <td>1</td>\n",
              "      <td>3</td>\n",
              "      <td>4</td>\n",
              "      <td>855</td>\n",
              "      <td>1205</td>\n",
              "      <td>WN</td>\n",
              "      <td>N308SA</td>\n",
              "      <td>130.0</td>\n",
              "      <td>HOU</td>\n",
              "      <td>MCO</td>\n",
              "      <td>...</td>\n",
              "      <td>0.0</td>\n",
              "      <td>0.0</td>\n",
              "      <td>0.0</td>\n",
              "      <td>15.7</td>\n",
              "      <td>154.3</td>\n",
              "      <td>1038.6</td>\n",
              "      <td>15.3</td>\n",
              "      <td>16.0</td>\n",
              "      <td>Clear</td>\n",
              "      <td>0</td>\n",
              "    </tr>\n",
              "    <tr>\n",
              "      <th>4</th>\n",
              "      <td>1</td>\n",
              "      <td>3</td>\n",
              "      <td>4</td>\n",
              "      <td>1400</td>\n",
              "      <td>1710</td>\n",
              "      <td>WN</td>\n",
              "      <td>N462WN</td>\n",
              "      <td>130.0</td>\n",
              "      <td>HOU</td>\n",
              "      <td>MCO</td>\n",
              "      <td>...</td>\n",
              "      <td>0.0</td>\n",
              "      <td>0.0</td>\n",
              "      <td>0.0</td>\n",
              "      <td>15.7</td>\n",
              "      <td>154.3</td>\n",
              "      <td>1038.6</td>\n",
              "      <td>15.3</td>\n",
              "      <td>16.0</td>\n",
              "      <td>Clear</td>\n",
              "      <td>1</td>\n",
              "    </tr>\n",
              "  </tbody>\n",
              "</table>\n",
              "<p>5 rows × 31 columns</p>\n",
              "</div>\n",
              "      <button class=\"colab-df-convert\" onclick=\"convertToInteractive('df-8491e74a-c613-41e3-ac3d-eb72f792a65f')\"\n",
              "              title=\"Convert this dataframe to an interactive table.\"\n",
              "              style=\"display:none;\">\n",
              "        \n",
              "  <svg xmlns=\"http://www.w3.org/2000/svg\" height=\"24px\"viewBox=\"0 0 24 24\"\n",
              "       width=\"24px\">\n",
              "    <path d=\"M0 0h24v24H0V0z\" fill=\"none\"/>\n",
              "    <path d=\"M18.56 5.44l.94 2.06.94-2.06 2.06-.94-2.06-.94-.94-2.06-.94 2.06-2.06.94zm-11 1L8.5 8.5l.94-2.06 2.06-.94-2.06-.94L8.5 2.5l-.94 2.06-2.06.94zm10 10l.94 2.06.94-2.06 2.06-.94-2.06-.94-.94-2.06-.94 2.06-2.06.94z\"/><path d=\"M17.41 7.96l-1.37-1.37c-.4-.4-.92-.59-1.43-.59-.52 0-1.04.2-1.43.59L10.3 9.45l-7.72 7.72c-.78.78-.78 2.05 0 2.83L4 21.41c.39.39.9.59 1.41.59.51 0 1.02-.2 1.41-.59l7.78-7.78 2.81-2.81c.8-.78.8-2.07 0-2.86zM5.41 20L4 18.59l7.72-7.72 1.47 1.35L5.41 20z\"/>\n",
              "  </svg>\n",
              "      </button>\n",
              "      \n",
              "  <style>\n",
              "    .colab-df-container {\n",
              "      display:flex;\n",
              "      flex-wrap:wrap;\n",
              "      gap: 12px;\n",
              "    }\n",
              "\n",
              "    .colab-df-convert {\n",
              "      background-color: #E8F0FE;\n",
              "      border: none;\n",
              "      border-radius: 50%;\n",
              "      cursor: pointer;\n",
              "      display: none;\n",
              "      fill: #1967D2;\n",
              "      height: 32px;\n",
              "      padding: 0 0 0 0;\n",
              "      width: 32px;\n",
              "    }\n",
              "\n",
              "    .colab-df-convert:hover {\n",
              "      background-color: #E2EBFA;\n",
              "      box-shadow: 0px 1px 2px rgba(60, 64, 67, 0.3), 0px 1px 3px 1px rgba(60, 64, 67, 0.15);\n",
              "      fill: #174EA6;\n",
              "    }\n",
              "\n",
              "    [theme=dark] .colab-df-convert {\n",
              "      background-color: #3B4455;\n",
              "      fill: #D2E3FC;\n",
              "    }\n",
              "\n",
              "    [theme=dark] .colab-df-convert:hover {\n",
              "      background-color: #434B5C;\n",
              "      box-shadow: 0px 1px 3px 1px rgba(0, 0, 0, 0.15);\n",
              "      filter: drop-shadow(0px 1px 2px rgba(0, 0, 0, 0.3));\n",
              "      fill: #FFFFFF;\n",
              "    }\n",
              "  </style>\n",
              "\n",
              "      <script>\n",
              "        const buttonEl =\n",
              "          document.querySelector('#df-8491e74a-c613-41e3-ac3d-eb72f792a65f button.colab-df-convert');\n",
              "        buttonEl.style.display =\n",
              "          google.colab.kernel.accessAllowed ? 'block' : 'none';\n",
              "\n",
              "        async function convertToInteractive(key) {\n",
              "          const element = document.querySelector('#df-8491e74a-c613-41e3-ac3d-eb72f792a65f');\n",
              "          const dataTable =\n",
              "            await google.colab.kernel.invokeFunction('convertToInteractive',\n",
              "                                                     [key], {});\n",
              "          if (!dataTable) return;\n",
              "\n",
              "          const docLinkHtml = 'Like what you see? Visit the ' +\n",
              "            '<a target=\"_blank\" href=https://colab.research.google.com/notebooks/data_table.ipynb>data table notebook</a>'\n",
              "            + ' to learn more about interactive tables.';\n",
              "          element.innerHTML = '';\n",
              "          dataTable['output_type'] = 'display_data';\n",
              "          await google.colab.output.renderOutput(dataTable, element);\n",
              "          const docLink = document.createElement('div');\n",
              "          docLink.innerHTML = docLinkHtml;\n",
              "          element.appendChild(docLink);\n",
              "        }\n",
              "      </script>\n",
              "    </div>\n",
              "  </div>\n",
              "  "
            ]
          },
          "metadata": {},
          "execution_count": 152
        }
      ]
    },
    {
      "cell_type": "code",
      "source": [
        "df.dtypes"
      ],
      "metadata": {
        "colab": {
          "base_uri": "https://localhost:8080/"
        },
        "id": "uMV8obHeS417",
        "outputId": "6934c149-4db6-465e-f4b0-b4c594817a1e"
      },
      "execution_count": 153,
      "outputs": [
        {
          "output_type": "execute_result",
          "data": {
            "text/plain": [
              "Month                 int64\n",
              "DayofMonth            int64\n",
              "DayOfWeek             int64\n",
              "CRSDepTime            int64\n",
              "CRSArrTime            int64\n",
              "UniqueCarrier        object\n",
              "TailNum              object\n",
              "CRSElapsedTime      float64\n",
              "Origin               object\n",
              "Dest                 object\n",
              "Distance              int64\n",
              "tempmax             float64\n",
              "tempmin             float64\n",
              "temp                float64\n",
              "feelslikemax        float64\n",
              "feelslikemin        float64\n",
              "feelslike           float64\n",
              "dew                 float64\n",
              "humidity            float64\n",
              "precip              float64\n",
              "precipprob          float64\n",
              "precipcover         float64\n",
              "snow                float64\n",
              "snowdepth           float64\n",
              "windspeed           float64\n",
              "winddir             float64\n",
              "sealevelpressure    float64\n",
              "cloudcover          float64\n",
              "visibility          float64\n",
              "conditions           object\n",
              "ArrDelayed            int64\n",
              "dtype: object"
            ]
          },
          "metadata": {},
          "execution_count": 153
        }
      ]
    },
    {
      "cell_type": "code",
      "source": [
        "categorical = ['Month', 'DayofMonth', 'DayOfWeek']"
      ],
      "metadata": {
        "id": "wB-fPQIZWuFZ"
      },
      "execution_count": 154,
      "outputs": []
    },
    {
      "cell_type": "code",
      "source": [
        "from sklearn.preprocessing import OneHotEncoder, LabelEncoder, StandardScaler, OrdinalEncoder\n",
        "from sklearn.model_selection import train_test_split\n",
        "from sklearn.compose import ColumnTransformer\n",
        "from sklearn.ensemble import HistGradientBoostingClassifier\n",
        "from sklearn.metrics import classification_report, confusion_matrix"
      ],
      "metadata": {
        "id": "aDDo0XXTS-FU"
      },
      "execution_count": 155,
      "outputs": []
    },
    {
      "cell_type": "code",
      "source": [
        "X = df.drop(['ArrDelayed'], axis=1)\n",
        "y = df['ArrDelayed']"
      ],
      "metadata": {
        "id": "FWHr_KtnTGDC"
      },
      "execution_count": 156,
      "outputs": []
    },
    {
      "cell_type": "code",
      "source": [
        "print(X.shape)\n",
        "print(y.shape)"
      ],
      "metadata": {
        "colab": {
          "base_uri": "https://localhost:8080/"
        },
        "id": "R1odjoRfTMxy",
        "outputId": "73ff7ade-c2ab-4f55-f02d-2f0681973952"
      },
      "execution_count": 157,
      "outputs": [
        {
          "output_type": "stream",
          "name": "stdout",
          "text": [
            "(2346358, 30)\n",
            "(2346358,)\n"
          ]
        }
      ]
    },
    {
      "cell_type": "code",
      "source": [
        "X.drop(['Month', 'DayofMonth', 'DayOfWeek'], axis=1).corrwith(y)"
      ],
      "metadata": {
        "colab": {
          "base_uri": "https://localhost:8080/"
        },
        "id": "SNqIPBv_Wx5c",
        "outputId": "68e3658b-ea64-46c9-9d99-710ad62e50ae"
      },
      "execution_count": null,
      "outputs": [
        {
          "output_type": "execute_result",
          "data": {
            "text/plain": [
              "CRSDepTime          0.093772\n",
              "CRSArrTime          0.093501\n",
              "CRSElapsedTime      0.027714\n",
              "Distance            0.025498\n",
              "tempmax            -0.055857\n",
              "tempmin            -0.025651\n",
              "temp               -0.043023\n",
              "feelslikemax       -0.057988\n",
              "feelslikemin       -0.039969\n",
              "feelslike          -0.050505\n",
              "dew                -0.000487\n",
              "humidity            0.073612\n",
              "precip              0.068726\n",
              "precipprob          0.086171\n",
              "precipcover         0.093539\n",
              "snow                0.023139\n",
              "snowdepth           0.014286\n",
              "windspeed           0.063109\n",
              "winddir            -0.010106\n",
              "sealevelpressure   -0.045518\n",
              "cloudcover          0.093602\n",
              "visibility         -0.048197\n",
              "dtype: float64"
            ]
          },
          "metadata": {},
          "execution_count": 24
        }
      ]
    },
    {
      "cell_type": "code",
      "source": [
        "feature_names = list(X.columns)"
      ],
      "metadata": {
        "id": "WBNZYrB9TOgJ"
      },
      "execution_count": 158,
      "outputs": []
    },
    {
      "cell_type": "code",
      "source": [
        "le= LabelEncoder()\n",
        "le.fit(y)\n",
        "y = le.transform(y)\n",
        "class_names = le.classes_"
      ],
      "metadata": {
        "id": "M0TNQXK6TRjQ"
      },
      "execution_count": 159,
      "outputs": []
    },
    {
      "cell_type": "code",
      "source": [
        "categorical_features = [0,1,2,5,6,8,9,29]"
      ],
      "metadata": {
        "id": "71eX65-pTTAY"
      },
      "execution_count": 160,
      "outputs": []
    },
    {
      "cell_type": "code",
      "source": [
        "oe = OrdinalEncoder(handle_unknown='use_encoded_value',unknown_value=-1)\n",
        "oe.fit(X[['Month', 'DayofMonth', 'DayOfWeek', 'UniqueCarrier', 'TailNum', 'Origin', 'Dest', 'conditions']])\n",
        "X[['Month','DayofMonth', 'DayOfWeek', 'UniqueCarrier', 'TailNum', 'Origin', 'Dest', 'conditions']] = \\\n",
        "oe.transform(X[['Month', 'DayofMonth', 'DayOfWeek', 'UniqueCarrier', 'TailNum', 'Origin', 'Dest', 'conditions']])"
      ],
      "metadata": {
        "id": "HD-K6cvfThdu"
      },
      "execution_count": 161,
      "outputs": []
    },
    {
      "cell_type": "code",
      "source": [
        "X.head()"
      ],
      "metadata": {
        "colab": {
          "base_uri": "https://localhost:8080/",
          "height": 293
        },
        "id": "yluZZuayTtnH",
        "outputId": "eeaaf269-354c-4b20-c6ef-e5cffca58312"
      },
      "execution_count": 162,
      "outputs": [
        {
          "output_type": "execute_result",
          "data": {
            "text/plain": [
              "   Month  DayofMonth  DayOfWeek  CRSDepTime  CRSArrTime  UniqueCarrier  \\\n",
              "0    0.0         2.0        3.0        1325        1435           17.0   \n",
              "1    0.0         2.0        3.0        1120        1245           17.0   \n",
              "2    0.0         2.0        3.0        2015        2140           17.0   \n",
              "3    0.0         2.0        3.0         855        1205           17.0   \n",
              "4    0.0         2.0        3.0        1400        1710           17.0   \n",
              "\n",
              "   TailNum  CRSElapsedTime  Origin   Dest  ...  precipprob  precipcover  snow  \\\n",
              "0    891.0            70.0   127.0  160.0  ...         0.0          0.0   0.0   \n",
              "1   2430.0            85.0   127.0  166.0  ...         0.0          0.0   0.0   \n",
              "2   1040.0            85.0   127.0  166.0  ...         0.0          0.0   0.0   \n",
              "3   1154.0           130.0   127.0  170.0  ...         0.0          0.0   0.0   \n",
              "4   2073.0           130.0   127.0  170.0  ...         0.0          0.0   0.0   \n",
              "\n",
              "   snowdepth  windspeed  winddir  sealevelpressure  cloudcover  visibility  \\\n",
              "0        0.0       15.7    154.3            1038.6        15.3        16.0   \n",
              "1        0.0       15.7    154.3            1038.6        15.3        16.0   \n",
              "2        0.0       15.7    154.3            1038.6        15.3        16.0   \n",
              "3        0.0       15.7    154.3            1038.6        15.3        16.0   \n",
              "4        0.0       15.7    154.3            1038.6        15.3        16.0   \n",
              "\n",
              "   conditions  \n",
              "0         0.0  \n",
              "1         0.0  \n",
              "2         0.0  \n",
              "3         0.0  \n",
              "4         0.0  \n",
              "\n",
              "[5 rows x 30 columns]"
            ],
            "text/html": [
              "\n",
              "  <div id=\"df-8da38022-cf87-4842-b439-944b5c7b9d74\">\n",
              "    <div class=\"colab-df-container\">\n",
              "      <div>\n",
              "<style scoped>\n",
              "    .dataframe tbody tr th:only-of-type {\n",
              "        vertical-align: middle;\n",
              "    }\n",
              "\n",
              "    .dataframe tbody tr th {\n",
              "        vertical-align: top;\n",
              "    }\n",
              "\n",
              "    .dataframe thead th {\n",
              "        text-align: right;\n",
              "    }\n",
              "</style>\n",
              "<table border=\"1\" class=\"dataframe\">\n",
              "  <thead>\n",
              "    <tr style=\"text-align: right;\">\n",
              "      <th></th>\n",
              "      <th>Month</th>\n",
              "      <th>DayofMonth</th>\n",
              "      <th>DayOfWeek</th>\n",
              "      <th>CRSDepTime</th>\n",
              "      <th>CRSArrTime</th>\n",
              "      <th>UniqueCarrier</th>\n",
              "      <th>TailNum</th>\n",
              "      <th>CRSElapsedTime</th>\n",
              "      <th>Origin</th>\n",
              "      <th>Dest</th>\n",
              "      <th>...</th>\n",
              "      <th>precipprob</th>\n",
              "      <th>precipcover</th>\n",
              "      <th>snow</th>\n",
              "      <th>snowdepth</th>\n",
              "      <th>windspeed</th>\n",
              "      <th>winddir</th>\n",
              "      <th>sealevelpressure</th>\n",
              "      <th>cloudcover</th>\n",
              "      <th>visibility</th>\n",
              "      <th>conditions</th>\n",
              "    </tr>\n",
              "  </thead>\n",
              "  <tbody>\n",
              "    <tr>\n",
              "      <th>0</th>\n",
              "      <td>0.0</td>\n",
              "      <td>2.0</td>\n",
              "      <td>3.0</td>\n",
              "      <td>1325</td>\n",
              "      <td>1435</td>\n",
              "      <td>17.0</td>\n",
              "      <td>891.0</td>\n",
              "      <td>70.0</td>\n",
              "      <td>127.0</td>\n",
              "      <td>160.0</td>\n",
              "      <td>...</td>\n",
              "      <td>0.0</td>\n",
              "      <td>0.0</td>\n",
              "      <td>0.0</td>\n",
              "      <td>0.0</td>\n",
              "      <td>15.7</td>\n",
              "      <td>154.3</td>\n",
              "      <td>1038.6</td>\n",
              "      <td>15.3</td>\n",
              "      <td>16.0</td>\n",
              "      <td>0.0</td>\n",
              "    </tr>\n",
              "    <tr>\n",
              "      <th>1</th>\n",
              "      <td>0.0</td>\n",
              "      <td>2.0</td>\n",
              "      <td>3.0</td>\n",
              "      <td>1120</td>\n",
              "      <td>1245</td>\n",
              "      <td>17.0</td>\n",
              "      <td>2430.0</td>\n",
              "      <td>85.0</td>\n",
              "      <td>127.0</td>\n",
              "      <td>166.0</td>\n",
              "      <td>...</td>\n",
              "      <td>0.0</td>\n",
              "      <td>0.0</td>\n",
              "      <td>0.0</td>\n",
              "      <td>0.0</td>\n",
              "      <td>15.7</td>\n",
              "      <td>154.3</td>\n",
              "      <td>1038.6</td>\n",
              "      <td>15.3</td>\n",
              "      <td>16.0</td>\n",
              "      <td>0.0</td>\n",
              "    </tr>\n",
              "    <tr>\n",
              "      <th>2</th>\n",
              "      <td>0.0</td>\n",
              "      <td>2.0</td>\n",
              "      <td>3.0</td>\n",
              "      <td>2015</td>\n",
              "      <td>2140</td>\n",
              "      <td>17.0</td>\n",
              "      <td>1040.0</td>\n",
              "      <td>85.0</td>\n",
              "      <td>127.0</td>\n",
              "      <td>166.0</td>\n",
              "      <td>...</td>\n",
              "      <td>0.0</td>\n",
              "      <td>0.0</td>\n",
              "      <td>0.0</td>\n",
              "      <td>0.0</td>\n",
              "      <td>15.7</td>\n",
              "      <td>154.3</td>\n",
              "      <td>1038.6</td>\n",
              "      <td>15.3</td>\n",
              "      <td>16.0</td>\n",
              "      <td>0.0</td>\n",
              "    </tr>\n",
              "    <tr>\n",
              "      <th>3</th>\n",
              "      <td>0.0</td>\n",
              "      <td>2.0</td>\n",
              "      <td>3.0</td>\n",
              "      <td>855</td>\n",
              "      <td>1205</td>\n",
              "      <td>17.0</td>\n",
              "      <td>1154.0</td>\n",
              "      <td>130.0</td>\n",
              "      <td>127.0</td>\n",
              "      <td>170.0</td>\n",
              "      <td>...</td>\n",
              "      <td>0.0</td>\n",
              "      <td>0.0</td>\n",
              "      <td>0.0</td>\n",
              "      <td>0.0</td>\n",
              "      <td>15.7</td>\n",
              "      <td>154.3</td>\n",
              "      <td>1038.6</td>\n",
              "      <td>15.3</td>\n",
              "      <td>16.0</td>\n",
              "      <td>0.0</td>\n",
              "    </tr>\n",
              "    <tr>\n",
              "      <th>4</th>\n",
              "      <td>0.0</td>\n",
              "      <td>2.0</td>\n",
              "      <td>3.0</td>\n",
              "      <td>1400</td>\n",
              "      <td>1710</td>\n",
              "      <td>17.0</td>\n",
              "      <td>2073.0</td>\n",
              "      <td>130.0</td>\n",
              "      <td>127.0</td>\n",
              "      <td>170.0</td>\n",
              "      <td>...</td>\n",
              "      <td>0.0</td>\n",
              "      <td>0.0</td>\n",
              "      <td>0.0</td>\n",
              "      <td>0.0</td>\n",
              "      <td>15.7</td>\n",
              "      <td>154.3</td>\n",
              "      <td>1038.6</td>\n",
              "      <td>15.3</td>\n",
              "      <td>16.0</td>\n",
              "      <td>0.0</td>\n",
              "    </tr>\n",
              "  </tbody>\n",
              "</table>\n",
              "<p>5 rows × 30 columns</p>\n",
              "</div>\n",
              "      <button class=\"colab-df-convert\" onclick=\"convertToInteractive('df-8da38022-cf87-4842-b439-944b5c7b9d74')\"\n",
              "              title=\"Convert this dataframe to an interactive table.\"\n",
              "              style=\"display:none;\">\n",
              "        \n",
              "  <svg xmlns=\"http://www.w3.org/2000/svg\" height=\"24px\"viewBox=\"0 0 24 24\"\n",
              "       width=\"24px\">\n",
              "    <path d=\"M0 0h24v24H0V0z\" fill=\"none\"/>\n",
              "    <path d=\"M18.56 5.44l.94 2.06.94-2.06 2.06-.94-2.06-.94-.94-2.06-.94 2.06-2.06.94zm-11 1L8.5 8.5l.94-2.06 2.06-.94-2.06-.94L8.5 2.5l-.94 2.06-2.06.94zm10 10l.94 2.06.94-2.06 2.06-.94-2.06-.94-.94-2.06-.94 2.06-2.06.94z\"/><path d=\"M17.41 7.96l-1.37-1.37c-.4-.4-.92-.59-1.43-.59-.52 0-1.04.2-1.43.59L10.3 9.45l-7.72 7.72c-.78.78-.78 2.05 0 2.83L4 21.41c.39.39.9.59 1.41.59.51 0 1.02-.2 1.41-.59l7.78-7.78 2.81-2.81c.8-.78.8-2.07 0-2.86zM5.41 20L4 18.59l7.72-7.72 1.47 1.35L5.41 20z\"/>\n",
              "  </svg>\n",
              "      </button>\n",
              "      \n",
              "  <style>\n",
              "    .colab-df-container {\n",
              "      display:flex;\n",
              "      flex-wrap:wrap;\n",
              "      gap: 12px;\n",
              "    }\n",
              "\n",
              "    .colab-df-convert {\n",
              "      background-color: #E8F0FE;\n",
              "      border: none;\n",
              "      border-radius: 50%;\n",
              "      cursor: pointer;\n",
              "      display: none;\n",
              "      fill: #1967D2;\n",
              "      height: 32px;\n",
              "      padding: 0 0 0 0;\n",
              "      width: 32px;\n",
              "    }\n",
              "\n",
              "    .colab-df-convert:hover {\n",
              "      background-color: #E2EBFA;\n",
              "      box-shadow: 0px 1px 2px rgba(60, 64, 67, 0.3), 0px 1px 3px 1px rgba(60, 64, 67, 0.15);\n",
              "      fill: #174EA6;\n",
              "    }\n",
              "\n",
              "    [theme=dark] .colab-df-convert {\n",
              "      background-color: #3B4455;\n",
              "      fill: #D2E3FC;\n",
              "    }\n",
              "\n",
              "    [theme=dark] .colab-df-convert:hover {\n",
              "      background-color: #434B5C;\n",
              "      box-shadow: 0px 1px 3px 1px rgba(0, 0, 0, 0.15);\n",
              "      filter: drop-shadow(0px 1px 2px rgba(0, 0, 0, 0.3));\n",
              "      fill: #FFFFFF;\n",
              "    }\n",
              "  </style>\n",
              "\n",
              "      <script>\n",
              "        const buttonEl =\n",
              "          document.querySelector('#df-8da38022-cf87-4842-b439-944b5c7b9d74 button.colab-df-convert');\n",
              "        buttonEl.style.display =\n",
              "          google.colab.kernel.accessAllowed ? 'block' : 'none';\n",
              "\n",
              "        async function convertToInteractive(key) {\n",
              "          const element = document.querySelector('#df-8da38022-cf87-4842-b439-944b5c7b9d74');\n",
              "          const dataTable =\n",
              "            await google.colab.kernel.invokeFunction('convertToInteractive',\n",
              "                                                     [key], {});\n",
              "          if (!dataTable) return;\n",
              "\n",
              "          const docLinkHtml = 'Like what you see? Visit the ' +\n",
              "            '<a target=\"_blank\" href=https://colab.research.google.com/notebooks/data_table.ipynb>data table notebook</a>'\n",
              "            + ' to learn more about interactive tables.';\n",
              "          element.innerHTML = '';\n",
              "          dataTable['output_type'] = 'display_data';\n",
              "          await google.colab.output.renderOutput(dataTable, element);\n",
              "          const docLink = document.createElement('div');\n",
              "          docLink.innerHTML = docLinkHtml;\n",
              "          element.appendChild(docLink);\n",
              "        }\n",
              "      </script>\n",
              "    </div>\n",
              "  </div>\n",
              "  "
            ]
          },
          "metadata": {},
          "execution_count": 162
        }
      ]
    },
    {
      "cell_type": "code",
      "source": [
        "categorical_names = {}\n",
        "i = 0\n",
        "for feature in categorical_features:\n",
        "  categorical_names[feature] = oe.categories_[i]\n",
        "  i+=1"
      ],
      "metadata": {
        "id": "xunpueGdTwrQ"
      },
      "execution_count": 163,
      "outputs": []
    },
    {
      "cell_type": "code",
      "source": [
        "categorical_names"
      ],
      "metadata": {
        "colab": {
          "base_uri": "https://localhost:8080/"
        },
        "id": "JPwwP1U1TzoZ",
        "outputId": "747703a6-4a67-41e9-a9e8-a6eb898ecef5"
      },
      "execution_count": 164,
      "outputs": [
        {
          "output_type": "execute_result",
          "data": {
            "text/plain": [
              "{0: array([1, 2, 3, 4]),\n",
              " 1: array([ 1,  2,  3,  4,  5,  6,  7,  8,  9, 10, 11, 12, 13, 14, 15, 16, 17,\n",
              "        18, 19, 20, 21, 22, 23, 24, 25, 26, 27, 28, 29, 30, 31]),\n",
              " 2: array([1, 2, 3, 4, 5, 6, 7]),\n",
              " 5: array(['9E', 'AA', 'AQ', 'AS', 'B6', 'CO', 'DL', 'EV', 'F9', 'FL', 'HA',\n",
              "        'MQ', 'NW', 'OH', 'OO', 'UA', 'US', 'WN', 'XE', 'YV'], dtype=object),\n",
              " 6: array(['80009E', '80019E', '80059E', ..., 'N999DN', 'NHZOAL', 'Unknow'],\n",
              "       dtype=object),\n",
              " 8: array(['ABE', 'ABI', 'ABQ', 'ABY', 'ACT', 'ACV', 'ACY', 'ADK', 'ADQ',\n",
              "        'AEX', 'AGS', 'AKN', 'ALB', 'ALO', 'AMA', 'ANC', 'ASE', 'ATL',\n",
              "        'ATW', 'AUS', 'AVL', 'AVP', 'AZO', 'BDL', 'BET', 'BFL', 'BGM',\n",
              "        'BGR', 'BHM', 'BIL', 'BIS', 'BLI', 'BMI', 'BNA', 'BOI', 'BOS',\n",
              "        'BPT', 'BQK', 'BQN', 'BRO', 'BRW', 'BTM', 'BTR', 'BTV', 'BUF',\n",
              "        'BUR', 'BWI', 'BZN', 'CAE', 'CAK', 'CDC', 'CDV', 'CEC', 'CHA',\n",
              "        'CHO', 'CHS', 'CIC', 'CID', 'CLD', 'CLE', 'CLL', 'CLT', 'CMH',\n",
              "        'CMI', 'CMX', 'COD', 'COS', 'CPR', 'CRP', 'CRW', 'CSG', 'CVG',\n",
              "        'CWA', 'DAB', 'DAL', 'DAY', 'DBQ', 'DCA', 'DEN', 'DFW', 'DHN',\n",
              "        'DLG', 'DLH', 'DRO', 'DSM', 'DTW', 'EGE', 'EKO', 'ELM', 'ELP',\n",
              "        'ERI', 'EUG', 'EVV', 'EWN', 'EWR', 'EYW', 'FAI', 'FAR', 'FAT',\n",
              "        'FAY', 'FCA', 'FLG', 'FLL', 'FLO', 'FNT', 'FSD', 'FSM', 'FWA',\n",
              "        'GCC', 'GEG', 'GFK', 'GGG', 'GJT', 'GNV', 'GPT', 'GRB', 'GRK',\n",
              "        'GRR', 'GSO', 'GSP', 'GTF', 'GTR', 'GUC', 'HDN', 'HHH', 'HLN',\n",
              "        'HNL', 'HOU', 'HPN', 'HRL', 'HSV', 'IAD', 'IAH', 'ICT', 'IDA',\n",
              "        'ILM', 'IND', 'IPL', 'ISP', 'ITO', 'IYK', 'JAC', 'JAN', 'JAX',\n",
              "        'JFK', 'JNU', 'KOA', 'KTN', 'LAN', 'LAS', 'LAW', 'LAX', 'LBB',\n",
              "        'LCH', 'LEX', 'LFT', 'LGA', 'LGB', 'LIH', 'LIT', 'LNK', 'LRD',\n",
              "        'LSE', 'LWS', 'LYH', 'MAF', 'MBS', 'MCI', 'MCN', 'MCO', 'MDT',\n",
              "        'MDW', 'MEI', 'MEM', 'MFE', 'MFR', 'MGM', 'MHT', 'MIA', 'MKE',\n",
              "        'MKG', 'MLB', 'MLI', 'MLU', 'MOB', 'MOD', 'MOT', 'MQT', 'MRY',\n",
              "        'MSN', 'MSO', 'MSP', 'MSY', 'MTJ', 'MYR', 'OAJ', 'OAK', 'OGG',\n",
              "        'OKC', 'OMA', 'OME', 'ONT', 'ORD', 'ORF', 'OTZ', 'OXR', 'PBI',\n",
              "        'PDX', 'PFN', 'PHF', 'PHL', 'PHX', 'PIA', 'PIH', 'PIT', 'PLN',\n",
              "        'PMD', 'PNS', 'PSC', 'PSE', 'PSG', 'PSP', 'PVD', 'PWM', 'RAP',\n",
              "        'RDD', 'RDM', 'RDU', 'RFD', 'RHI', 'RIC', 'RKS', 'RNO', 'ROA',\n",
              "        'ROC', 'ROW', 'RST', 'RSW', 'SAN', 'SAT', 'SAV', 'SBA', 'SBN',\n",
              "        'SBP', 'SCC', 'SCE', 'SDF', 'SEA', 'SFO', 'SGF', 'SGU', 'SHV',\n",
              "        'SIT', 'SJC', 'SJT', 'SJU', 'SLC', 'SLE', 'SMF', 'SMX', 'SNA',\n",
              "        'SPI', 'SPS', 'SRQ', 'STL', 'STT', 'STX', 'SUN', 'SUX', 'SWF',\n",
              "        'SYR', 'TEX', 'TLH', 'TOL', 'TPA', 'TRI', 'TUL', 'TUP', 'TUS',\n",
              "        'TVC', 'TWF', 'TXK', 'TYR', 'TYS', 'VLD', 'VPS', 'WRG', 'XNA',\n",
              "        'YAK', 'YKM', 'YUM'], dtype=object),\n",
              " 9: array(['ABE', 'ABI', 'ABQ', 'ABY', 'ACT', 'ACV', 'ACY', 'ADK', 'ADQ',\n",
              "        'AEX', 'AGS', 'AKN', 'ALB', 'ALO', 'AMA', 'ANC', 'ASE', 'ATL',\n",
              "        'ATW', 'AUS', 'AVL', 'AVP', 'AZO', 'BDL', 'BET', 'BFL', 'BGM',\n",
              "        'BGR', 'BHM', 'BIL', 'BIS', 'BLI', 'BMI', 'BNA', 'BOI', 'BOS',\n",
              "        'BPT', 'BQK', 'BQN', 'BRO', 'BRW', 'BTM', 'BTR', 'BTV', 'BUF',\n",
              "        'BUR', 'BWI', 'BZN', 'CAE', 'CAK', 'CDC', 'CDV', 'CEC', 'CHA',\n",
              "        'CHO', 'CHS', 'CIC', 'CID', 'CLD', 'CLE', 'CLL', 'CLT', 'CMH',\n",
              "        'CMI', 'CMX', 'COD', 'COS', 'CPR', 'CRP', 'CRW', 'CSG', 'CVG',\n",
              "        'CWA', 'CYS', 'DAB', 'DAL', 'DAY', 'DBQ', 'DCA', 'DEN', 'DFW',\n",
              "        'DHN', 'DLG', 'DLH', 'DRO', 'DSM', 'DTW', 'EGE', 'EKO', 'ELM',\n",
              "        'ELP', 'ERI', 'EUG', 'EVV', 'EWN', 'EWR', 'EYW', 'FAI', 'FAR',\n",
              "        'FAT', 'FAY', 'FCA', 'FLG', 'FLL', 'FLO', 'FNT', 'FSD', 'FSM',\n",
              "        'FWA', 'GCC', 'GEG', 'GFK', 'GGG', 'GJT', 'GNV', 'GPT', 'GRB',\n",
              "        'GRK', 'GRR', 'GSO', 'GSP', 'GTF', 'GTR', 'GUC', 'HDN', 'HHH',\n",
              "        'HLN', 'HNL', 'HOU', 'HPN', 'HRL', 'HSV', 'IAD', 'IAH', 'ICT',\n",
              "        'IDA', 'ILM', 'IND', 'IPL', 'ISP', 'ITO', 'IYK', 'JAC', 'JAN',\n",
              "        'JAX', 'JFK', 'JNU', 'KOA', 'KTN', 'LAN', 'LAS', 'LAW', 'LAX',\n",
              "        'LBB', 'LCH', 'LEX', 'LFT', 'LGA', 'LGB', 'LIH', 'LIT', 'LNK',\n",
              "        'LRD', 'LSE', 'LWS', 'LYH', 'MAF', 'MBS', 'MCI', 'MCN', 'MCO',\n",
              "        'MDT', 'MDW', 'MEI', 'MEM', 'MFE', 'MFR', 'MGM', 'MHT', 'MIA',\n",
              "        'MKE', 'MKG', 'MLB', 'MLI', 'MLU', 'MOB', 'MOD', 'MOT', 'MQT',\n",
              "        'MRY', 'MSN', 'MSO', 'MSP', 'MSY', 'MTJ', 'MYR', 'OAJ', 'OAK',\n",
              "        'OGD', 'OGG', 'OKC', 'OMA', 'OME', 'ONT', 'ORD', 'ORF', 'OTZ',\n",
              "        'OXR', 'PBI', 'PDX', 'PFN', 'PHF', 'PHL', 'PHX', 'PIA', 'PIH',\n",
              "        'PIT', 'PLN', 'PMD', 'PNS', 'PSC', 'PSE', 'PSG', 'PSP', 'PVD',\n",
              "        'PWM', 'RAP', 'RDD', 'RDM', 'RDU', 'RFD', 'RHI', 'RIC', 'RKS',\n",
              "        'RNO', 'ROA', 'ROC', 'ROW', 'RST', 'RSW', 'SAN', 'SAT', 'SAV',\n",
              "        'SBA', 'SBN', 'SBP', 'SCC', 'SCE', 'SDF', 'SEA', 'SFO', 'SGF',\n",
              "        'SGU', 'SHV', 'SIT', 'SJC', 'SJT', 'SJU', 'SLC', 'SLE', 'SMF',\n",
              "        'SMX', 'SNA', 'SPI', 'SPS', 'SRQ', 'STL', 'STT', 'STX', 'SUN',\n",
              "        'SUX', 'SWF', 'SYR', 'TEX', 'TLH', 'TOL', 'TPA', 'TRI', 'TUL',\n",
              "        'TUP', 'TUS', 'TVC', 'TWF', 'TXK', 'TYR', 'TYS', 'VLD', 'VPS',\n",
              "        'WRG', 'XNA', 'YAK', 'YKM', 'YUM'], dtype=object),\n",
              " 29: array(['Clear', 'Overcast', 'Partially cloudy', 'Rain', 'Rain, Overcast',\n",
              "        'Rain, Partially cloudy', 'Snow', 'Snow, Overcast',\n",
              "        'Snow, Partially cloudy', 'Snow, Rain', 'Snow, Rain, Overcast',\n",
              "        'Snow, Rain, Partially cloudy', 'unknown'], dtype=object)}"
            ]
          },
          "metadata": {},
          "execution_count": 164
        }
      ]
    },
    {
      "cell_type": "code",
      "source": [
        "train, test, labels_train, labels_test = train_test_split(X, y, train_size=0.8, random_state=42)"
      ],
      "metadata": {
        "id": "XiTzLztITz48"
      },
      "execution_count": 204,
      "outputs": []
    },
    {
      "cell_type": "code",
      "source": [
        "from sklearn.feature_selection import SelectKBest\n",
        "from sklearn.feature_selection import chi2"
      ],
      "metadata": {
        "id": "g6_5HUXaxw0n"
      },
      "execution_count": 166,
      "outputs": []
    },
    {
      "cell_type": "code",
      "source": [
        "def select_features(X_train, y_train, X_test):\n",
        " fs = SelectKBest(score_func=chi2, k='all')\n",
        " fs.fit(X_train, y_train)\n",
        " X_train_fs = fs.transform(X_train)\n",
        " X_test_fs = fs.transform(X_test)\n",
        " return X_train_fs, X_test_fs, fs"
      ],
      "metadata": {
        "id": "yQnDYjiKx_6A"
      },
      "execution_count": 167,
      "outputs": []
    },
    {
      "cell_type": "code",
      "source": [
        "train.min()"
      ],
      "metadata": {
        "colab": {
          "base_uri": "https://localhost:8080/"
        },
        "id": "30iN3ZUmyl2I",
        "outputId": "fc47aa7a-4e9c-430c-f4b8-a98e46b2b6d2"
      },
      "execution_count": 178,
      "outputs": [
        {
          "output_type": "execute_result",
          "data": {
            "text/plain": [
              "Month                 0.0\n",
              "DayofMonth            0.0\n",
              "DayOfWeek             0.0\n",
              "CRSDepTime            0.0\n",
              "CRSArrTime            1.0\n",
              "UniqueCarrier         0.0\n",
              "TailNum               0.0\n",
              "CRSElapsedTime      -25.0\n",
              "Origin                0.0\n",
              "Dest                  0.0\n",
              "Distance             24.0\n",
              "tempmax             -20.5\n",
              "tempmin             -29.9\n",
              "temp                -24.0\n",
              "feelslikemax        -32.1\n",
              "feelslikemin        -43.5\n",
              "feelslike           -37.6\n",
              "dew                 -31.0\n",
              "humidity              4.9\n",
              "precip                0.0\n",
              "precipprob            0.0\n",
              "precipcover           0.0\n",
              "snow                  0.0\n",
              "snowdepth             0.0\n",
              "windspeed             0.1\n",
              "winddir               0.0\n",
              "sealevelpressure    981.8\n",
              "cloudcover            0.0\n",
              "visibility            0.5\n",
              "conditions            0.0\n",
              "dtype: float64"
            ]
          },
          "metadata": {},
          "execution_count": 178
        }
      ]
    },
    {
      "cell_type": "code",
      "source": [
        "from sklearn.preprocessing import MinMaxScaler"
      ],
      "metadata": {
        "id": "StLB-Xky08mX"
      },
      "execution_count": 179,
      "outputs": []
    },
    {
      "cell_type": "code",
      "source": [
        "scaler = MinMaxScaler()\n",
        "train[['CRSElapsedTime', 'tempmax', 'tempmin', 'temp', 'feelslikemax', 'feelslikemin', 'feelslike', 'dew']] = \\\n",
        "scaler.fit_transform(train[['CRSElapsedTime', 'tempmax', 'tempmin', 'temp', 'feelslikemax', 'feelslikemin', 'feelslike', 'dew']])"
      ],
      "metadata": {
        "id": "q8Svtlb91QEc"
      },
      "execution_count": 205,
      "outputs": []
    },
    {
      "cell_type": "code",
      "source": [
        "X_train_chi_2, X_test_chi_2, chi_2 = select_features(train, labels_train, test)"
      ],
      "metadata": {
        "id": "Pr83qHdQxzjS"
      },
      "execution_count": 206,
      "outputs": []
    },
    {
      "cell_type": "code",
      "source": [
        "for i in range(len(chi_2.scores_)):\n",
        " print('Feature %s: %f' % (feature_names[i], chi_2.scores_[i]))"
      ],
      "metadata": {
        "colab": {
          "base_uri": "https://localhost:8080/"
        },
        "id": "jvmJNnuYyHmL",
        "outputId": "869f4f15-033e-4d3b-e091-306c13c98ee6"
      },
      "execution_count": 207,
      "outputs": [
        {
          "output_type": "stream",
          "name": "stdout",
          "text": [
            "Feature Month: 0.052817\n",
            "Feature DayofMonth: 0.009858\n",
            "Feature DayOfWeek: 0.037484\n",
            "Feature CRSDepTime: 0.008088\n",
            "Feature CRSArrTime: 0.007339\n",
            "Feature UniqueCarrier: 0.024510\n",
            "Feature TailNum: 0.010111\n",
            "Feature CRSElapsedTime: 0.003199\n",
            "Feature Origin: 0.010963\n",
            "Feature Dest: 0.006237\n",
            "Feature Distance: 0.007668\n",
            "Feature tempmax: 0.008851\n",
            "Feature tempmin: 0.008673\n",
            "Feature temp: 0.009836\n",
            "Feature feelslikemax: 0.010222\n",
            "Feature feelslikemin: 0.009468\n",
            "Feature feelslike: 0.010637\n",
            "Feature dew: 0.006859\n",
            "Feature humidity: 0.014446\n",
            "Feature precip: 0.016308\n",
            "Feature precipprob: 0.072187\n",
            "Feature precipcover: 0.008467\n",
            "Feature snow: 0.002989\n",
            "Feature snowdepth: 0.003009\n",
            "Feature windspeed: 0.010306\n",
            "Feature winddir: 0.025639\n",
            "Feature sealevelpressure: 0.010221\n",
            "Feature cloudcover: 0.017403\n",
            "Feature visibility: 0.026794\n",
            "Feature conditions: 0.037456\n"
          ]
        }
      ]
    },
    {
      "cell_type": "code",
      "source": [
        "import matplotlib.pyplot as plt"
      ],
      "metadata": {
        "id": "soh1833zyRK7"
      },
      "execution_count": 187,
      "outputs": []
    },
    {
      "cell_type": "code",
      "source": [
        "plt.figure(figsize=(16,12))\n",
        "plt.title('Feature importance using Chi-squared test')\n",
        "plt.barh(feature_names, chi_2.scores_)"
      ],
      "metadata": {
        "colab": {
          "base_uri": "https://localhost:8080/",
          "height": 753
        },
        "id": "XTR-37SeyZqF",
        "outputId": "ec459f4d-7f90-4d2c-c13c-ae750e3ace08"
      },
      "execution_count": 208,
      "outputs": [
        {
          "output_type": "execute_result",
          "data": {
            "text/plain": [
              "<BarContainer object of 30 artists>"
            ]
          },
          "metadata": {},
          "execution_count": 208
        },
        {
          "output_type": "display_data",
          "data": {
            "text/plain": [
              "<Figure size 1152x864 with 1 Axes>"
            ],
            "image/png": "[encoded data removed]"
          },
          "metadata": {
            "needs_background": "light"
          }
        }
      ]
    },
    {
      "cell_type": "code",
      "source": [],
      "metadata": {
        "id": "0skvJcYF4-Pk"
      },
      "execution_count": null,
      "outputs": []
    },
    {
      "cell_type": "code",
      "source": [
        "train, test, labels_train, labels_test = train_test_split(X, y, train_size=0.8, random_state=42)"
      ],
      "metadata": {
        "id": "23OAKWWL4_xR"
      },
      "execution_count": 196,
      "outputs": []
    },
    {
      "cell_type": "code",
      "source": [
        "from sklearn.feature_selection import mutual_info_classif"
      ],
      "metadata": {
        "id": "8mOIzdei5AdN"
      },
      "execution_count": 198,
      "outputs": []
    },
    {
      "cell_type": "code",
      "source": [
        "def select_features(X_train, y_train, X_test):\n",
        " fs = SelectKBest(score_func=mutual_info_classif, k='all')\n",
        " fs.fit(X_train, y_train)\n",
        " X_train_fs = fs.transform(X_train)\n",
        " X_test_fs = fs.transform(X_test)\n",
        " return X_train_fs, X_test_fs, fs"
      ],
      "metadata": {
        "id": "_8-KrqPx5CwO"
      },
      "execution_count": 199,
      "outputs": []
    },
    {
      "cell_type": "code",
      "source": [
        "X_train_fs, X_test_fs, fs = select_features(train, labels_train, test)"
      ],
      "metadata": {
        "id": "9iHhwDSL5IRl"
      },
      "execution_count": 200,
      "outputs": []
    },
    {
      "cell_type": "code",
      "source": [
        "plt.figure(figsize=(16,12))\n",
        "plt.title('Feature importance using Mutual Information/Information Gain')\n",
        "plt.barh(feature_names, fs.scores_)"
      ],
      "metadata": {
        "colab": {
          "base_uri": "https://localhost:8080/",
          "height": 753
        },
        "id": "CJhUMOSs5PQY",
        "outputId": "2a2e15dc-4f45-4cd4-e87c-0d8d288abd03"
      },
      "execution_count": 202,
      "outputs": [
        {
          "output_type": "execute_result",
          "data": {
            "text/plain": [
              "<BarContainer object of 30 artists>"
            ]
          },
          "metadata": {},
          "execution_count": 202
        },
        {
          "output_type": "display_data",
          "data": {
            "text/plain": [
              "<Figure size 1152x864 with 1 Axes>"
            ],
            "image/png": "[encoded data removed]"
          },
          "metadata": {
            "needs_background": "light"
          }
        }
      ]
    },
    {
      "cell_type": "code",
      "source": [],
      "metadata": {
        "id": "YgQTC4hp_AeS"
      },
      "execution_count": null,
      "outputs": []
    },
    {
      "cell_type": "code",
      "source": [
        "train, test, labels_train, labels_test = train_test_split(X, y, train_size=0.8, random_state=42)"
      ],
      "metadata": {
        "id": "JTYkZ1AQ8ctZ"
      },
      "execution_count": 209,
      "outputs": []
    },
    {
      "cell_type": "code",
      "source": [
        "def select_features(X_train, y_train, X_test):\n",
        " fs = SelectKBest(k='all')\n",
        " fs.fit(X_train, y_train)\n",
        " X_train_fs = fs.transform(X_train)\n",
        " X_test_fs = fs.transform(X_test)\n",
        " return X_train_fs, X_test_fs, fs"
      ],
      "metadata": {
        "id": "GSw3vt3m_BSp"
      },
      "execution_count": 210,
      "outputs": []
    },
    {
      "cell_type": "code",
      "source": [
        "X_train_fs, X_test_fs, fs = select_features(train, labels_train, test)"
      ],
      "metadata": {
        "id": "lcQYgccE_NLx"
      },
      "execution_count": 211,
      "outputs": []
    },
    {
      "cell_type": "code",
      "source": [
        "plt.figure(figsize=(16,12))\n",
        "plt.title('Feature importance using ANOVA F-score')\n",
        "plt.barh(feature_names, fs.scores_)"
      ],
      "metadata": {
        "colab": {
          "base_uri": "https://localhost:8080/",
          "height": 753
        },
        "id": "KEjtSvM1_PDU",
        "outputId": "877903f8-eb98-4e93-bde1-58c714014d59"
      },
      "execution_count": 212,
      "outputs": [
        {
          "output_type": "execute_result",
          "data": {
            "text/plain": [
              "<BarContainer object of 30 artists>"
            ]
          },
          "metadata": {},
          "execution_count": 212
        },
        {
          "output_type": "display_data",
          "data": {
            "text/plain": [
              "<Figure size 1152x864 with 1 Axes>"
            ],
            "image/png": "[encoded data removed]"
          },
          "metadata": {
            "needs_background": "light"
          }
        }
      ]
    },
    {
      "cell_type": "code",
      "source": [],
      "metadata": {
        "id": "WNOrfPoACDN1"
      },
      "execution_count": null,
      "outputs": []
    }
  ]
}