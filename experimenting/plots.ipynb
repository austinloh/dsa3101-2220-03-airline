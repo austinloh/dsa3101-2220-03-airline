{
 "cells": [
  {
   "cell_type": "code",
   "execution_count": 6,
   "metadata": {},
   "outputs": [],
   "source": [
    "import pandas as pd\n",
    "import matplotlib.pyplot as plt\n",
    "import plotly.express as px\n",
    "%matplotlib inline"
   ]
  },
  {
   "cell_type": "code",
   "execution_count": 45,
   "metadata": {},
   "outputs": [],
   "source": [
    "data = pd.read_csv(\"../airOT201201.csv\")"
   ]
  },
  {
   "cell_type": "code",
   "execution_count": 46,
   "metadata": {},
   "outputs": [
    {
     "data": {
      "text/html": [
       "<div>\n",
       "<style scoped>\n",
       "    .dataframe tbody tr th:only-of-type {\n",
       "        vertical-align: middle;\n",
       "    }\n",
       "\n",
       "    .dataframe tbody tr th {\n",
       "        vertical-align: top;\n",
       "    }\n",
       "\n",
       "    .dataframe thead th {\n",
       "        text-align: right;\n",
       "    }\n",
       "</style>\n",
       "<table border=\"1\" class=\"dataframe\">\n",
       "  <thead>\n",
       "    <tr style=\"text-align: right;\">\n",
       "      <th></th>\n",
       "      <th>YEAR</th>\n",
       "      <th>MONTH</th>\n",
       "      <th>DAY_OF_MONTH</th>\n",
       "      <th>DAY_OF_WEEK</th>\n",
       "      <th>FL_DATE</th>\n",
       "      <th>UNIQUE_CARRIER</th>\n",
       "      <th>TAIL_NUM</th>\n",
       "      <th>FL_NUM</th>\n",
       "      <th>ORIGIN_AIRPORT_ID</th>\n",
       "      <th>ORIGIN</th>\n",
       "      <th>...</th>\n",
       "      <th>ACTUAL_ELAPSED_TIME</th>\n",
       "      <th>AIR_TIME</th>\n",
       "      <th>FLIGHTS</th>\n",
       "      <th>DISTANCE</th>\n",
       "      <th>DISTANCE_GROUP</th>\n",
       "      <th>CARRIER_DELAY</th>\n",
       "      <th>WEATHER_DELAY</th>\n",
       "      <th>NAS_DELAY</th>\n",
       "      <th>SECURITY_DELAY</th>\n",
       "      <th>LATE_AIRCRAFT_DELAY</th>\n",
       "    </tr>\n",
       "  </thead>\n",
       "  <tbody>\n",
       "    <tr>\n",
       "      <th>0</th>\n",
       "      <td>2012</td>\n",
       "      <td>1</td>\n",
       "      <td>1</td>\n",
       "      <td>7</td>\n",
       "      <td>2012-01-01</td>\n",
       "      <td>AA</td>\n",
       "      <td>N325AA</td>\n",
       "      <td>1</td>\n",
       "      <td>12478</td>\n",
       "      <td>JFK</td>\n",
       "      <td>...</td>\n",
       "      <td>347.0</td>\n",
       "      <td>330.0</td>\n",
       "      <td>1.0</td>\n",
       "      <td>2475.0</td>\n",
       "      <td>10</td>\n",
       "      <td>NaN</td>\n",
       "      <td>NaN</td>\n",
       "      <td>NaN</td>\n",
       "      <td>NaN</td>\n",
       "      <td>NaN</td>\n",
       "    </tr>\n",
       "    <tr>\n",
       "      <th>1</th>\n",
       "      <td>2012</td>\n",
       "      <td>1</td>\n",
       "      <td>2</td>\n",
       "      <td>1</td>\n",
       "      <td>2012-01-02</td>\n",
       "      <td>AA</td>\n",
       "      <td>N319AA</td>\n",
       "      <td>1</td>\n",
       "      <td>12478</td>\n",
       "      <td>JFK</td>\n",
       "      <td>...</td>\n",
       "      <td>349.0</td>\n",
       "      <td>325.0</td>\n",
       "      <td>1.0</td>\n",
       "      <td>2475.0</td>\n",
       "      <td>10</td>\n",
       "      <td>NaN</td>\n",
       "      <td>NaN</td>\n",
       "      <td>NaN</td>\n",
       "      <td>NaN</td>\n",
       "      <td>NaN</td>\n",
       "    </tr>\n",
       "    <tr>\n",
       "      <th>2</th>\n",
       "      <td>2012</td>\n",
       "      <td>1</td>\n",
       "      <td>3</td>\n",
       "      <td>2</td>\n",
       "      <td>2012-01-03</td>\n",
       "      <td>AA</td>\n",
       "      <td>N323AA</td>\n",
       "      <td>1</td>\n",
       "      <td>12478</td>\n",
       "      <td>JFK</td>\n",
       "      <td>...</td>\n",
       "      <td>353.0</td>\n",
       "      <td>319.0</td>\n",
       "      <td>1.0</td>\n",
       "      <td>2475.0</td>\n",
       "      <td>10</td>\n",
       "      <td>NaN</td>\n",
       "      <td>NaN</td>\n",
       "      <td>NaN</td>\n",
       "      <td>NaN</td>\n",
       "      <td>NaN</td>\n",
       "    </tr>\n",
       "    <tr>\n",
       "      <th>3</th>\n",
       "      <td>2012</td>\n",
       "      <td>1</td>\n",
       "      <td>4</td>\n",
       "      <td>3</td>\n",
       "      <td>2012-01-04</td>\n",
       "      <td>AA</td>\n",
       "      <td>N320AA</td>\n",
       "      <td>1</td>\n",
       "      <td>12478</td>\n",
       "      <td>JFK</td>\n",
       "      <td>...</td>\n",
       "      <td>347.0</td>\n",
       "      <td>309.0</td>\n",
       "      <td>1.0</td>\n",
       "      <td>2475.0</td>\n",
       "      <td>10</td>\n",
       "      <td>NaN</td>\n",
       "      <td>NaN</td>\n",
       "      <td>NaN</td>\n",
       "      <td>NaN</td>\n",
       "      <td>NaN</td>\n",
       "    </tr>\n",
       "    <tr>\n",
       "      <th>4</th>\n",
       "      <td>2012</td>\n",
       "      <td>1</td>\n",
       "      <td>5</td>\n",
       "      <td>4</td>\n",
       "      <td>2012-01-05</td>\n",
       "      <td>AA</td>\n",
       "      <td>N338AA</td>\n",
       "      <td>1</td>\n",
       "      <td>12478</td>\n",
       "      <td>JFK</td>\n",
       "      <td>...</td>\n",
       "      <td>344.0</td>\n",
       "      <td>306.0</td>\n",
       "      <td>1.0</td>\n",
       "      <td>2475.0</td>\n",
       "      <td>10</td>\n",
       "      <td>NaN</td>\n",
       "      <td>NaN</td>\n",
       "      <td>NaN</td>\n",
       "      <td>NaN</td>\n",
       "      <td>NaN</td>\n",
       "    </tr>\n",
       "  </tbody>\n",
       "</table>\n",
       "<p>5 rows × 44 columns</p>\n",
       "</div>"
      ],
      "text/plain": [
       "   YEAR  MONTH  DAY_OF_MONTH  DAY_OF_WEEK     FL_DATE UNIQUE_CARRIER TAIL_NUM  \\\n",
       "0  2012      1             1            7  2012-01-01             AA   N325AA   \n",
       "1  2012      1             2            1  2012-01-02             AA   N319AA   \n",
       "2  2012      1             3            2  2012-01-03             AA   N323AA   \n",
       "3  2012      1             4            3  2012-01-04             AA   N320AA   \n",
       "4  2012      1             5            4  2012-01-05             AA   N338AA   \n",
       "\n",
       "   FL_NUM  ORIGIN_AIRPORT_ID ORIGIN  ... ACTUAL_ELAPSED_TIME  AIR_TIME  \\\n",
       "0       1              12478    JFK  ...               347.0     330.0   \n",
       "1       1              12478    JFK  ...               349.0     325.0   \n",
       "2       1              12478    JFK  ...               353.0     319.0   \n",
       "3       1              12478    JFK  ...               347.0     309.0   \n",
       "4       1              12478    JFK  ...               344.0     306.0   \n",
       "\n",
       "  FLIGHTS DISTANCE  DISTANCE_GROUP  CARRIER_DELAY  WEATHER_DELAY  NAS_DELAY  \\\n",
       "0     1.0   2475.0              10            NaN            NaN        NaN   \n",
       "1     1.0   2475.0              10            NaN            NaN        NaN   \n",
       "2     1.0   2475.0              10            NaN            NaN        NaN   \n",
       "3     1.0   2475.0              10            NaN            NaN        NaN   \n",
       "4     1.0   2475.0              10            NaN            NaN        NaN   \n",
       "\n",
       "   SECURITY_DELAY  LATE_AIRCRAFT_DELAY  \n",
       "0             NaN                  NaN  \n",
       "1             NaN                  NaN  \n",
       "2             NaN                  NaN  \n",
       "3             NaN                  NaN  \n",
       "4             NaN                  NaN  \n",
       "\n",
       "[5 rows x 44 columns]"
      ]
     },
     "execution_count": 46,
     "metadata": {},
     "output_type": "execute_result"
    }
   ],
   "source": [
    "data.head()"
   ]
  },
  {
   "cell_type": "code",
   "execution_count": 8,
   "metadata": {},
   "outputs": [],
   "source": [
    "#data['FL_DATE'].value_counts()"
   ]
  },
  {
   "cell_type": "code",
   "execution_count": 7,
   "metadata": {},
   "outputs": [
    {
     "data": {
      "text/plain": [
       "YEAR                     int64\n",
       "MONTH                    int64\n",
       "DAY_OF_MONTH             int64\n",
       "DAY_OF_WEEK              int64\n",
       "FL_DATE                 object\n",
       "UNIQUE_CARRIER          object\n",
       "TAIL_NUM                object\n",
       "FL_NUM                   int64\n",
       "ORIGIN_AIRPORT_ID        int64\n",
       "ORIGIN                  object\n",
       "ORIGIN_STATE_ABR        object\n",
       "DEST_AIRPORT_ID          int64\n",
       "DEST                    object\n",
       "DEST_STATE_ABR          object\n",
       "CRS_DEP_TIME             int64\n",
       "DEP_TIME               float64\n",
       "DEP_DELAY              float64\n",
       "DEP_DELAY_NEW          float64\n",
       "DEP_DEL15              float64\n",
       "DEP_DELAY_GROUP        float64\n",
       "TAXI_OUT               float64\n",
       "WHEELS_OFF             float64\n",
       "WHEELS_ON              float64\n",
       "TAXI_IN                float64\n",
       "CRS_ARR_TIME             int64\n",
       "ARR_TIME               float64\n",
       "ARR_DELAY              float64\n",
       "ARR_DELAY_NEW          float64\n",
       "ARR_DEL15              float64\n",
       "ARR_DELAY_GROUP        float64\n",
       "CANCELLED              float64\n",
       "CANCELLATION_CODE       object\n",
       "DIVERTED               float64\n",
       "CRS_ELAPSED_TIME       float64\n",
       "ACTUAL_ELAPSED_TIME    float64\n",
       "AIR_TIME               float64\n",
       "FLIGHTS                float64\n",
       "DISTANCE               float64\n",
       "DISTANCE_GROUP           int64\n",
       "CARRIER_DELAY          float64\n",
       "WEATHER_DELAY          float64\n",
       "NAS_DELAY              float64\n",
       "SECURITY_DELAY         float64\n",
       "LATE_AIRCRAFT_DELAY    float64\n",
       "Unnamed: 44            float64\n",
       "dtype: object"
      ]
     },
     "execution_count": 7,
     "metadata": {},
     "output_type": "execute_result"
    }
   ],
   "source": [
    "data.dtypes"
   ]
  },
  {
   "cell_type": "code",
   "execution_count": 12,
   "metadata": {},
   "outputs": [
    {
     "data": {
      "text/plain": [
       "[<matplotlib.lines.Line2D at 0x7f83683bcf70>]"
      ]
     },
     "execution_count": 12,
     "metadata": {},
     "output_type": "execute_result"
    },
    {
     "data": {
      "image/png": "[encoded data removed]",
      "text/plain": [
       "<Figure size 432x288 with 1 Axes>"
      ]
     },
     "metadata": {
      "needs_background": "light"
     },
     "output_type": "display_data"
    }
   ],
   "source": [
    "plt.plot(data['FL_DATE'], data['LATE_AIRCRAFT_DELAY'])"
   ]
  },
  {
   "cell_type": "code",
   "execution_count": 19,
   "metadata": {},
   "outputs": [],
   "source": [
    "by_date = data.groupby('FL_DATE').count().reset_index()"
   ]
  },
  {
   "cell_type": "code",
   "execution_count": 22,
   "metadata": {},
   "outputs": [
    {
     "data": {
      "text/plain": [
       "[<matplotlib.lines.Line2D at 0x7f83da500160>]"
      ]
     },
     "execution_count": 22,
     "metadata": {},
     "output_type": "execute_result"
    },
    {
     "data": {
      "image/png": "[encoded data removed]",
      "text/plain": [
       "<Figure size 1152x720 with 1 Axes>"
      ]
     },
     "metadata": {
      "needs_background": "light"
     },
     "output_type": "display_data"
    }
   ],
   "source": [
    "plt.figure(figsize=(16,10))\n",
    "plt.plot(by_date['FL_DATE'], by_date['LATE_AIRCRAFT_DELAY'])"
   ]
  },
  {
   "cell_type": "code",
   "execution_count": 25,
   "metadata": {},
   "outputs": [
    {
     "data": {
      "text/plain": [
       "31"
      ]
     },
     "execution_count": 25,
     "metadata": {},
     "output_type": "execute_result"
    }
   ],
   "source": [
    "len(by_date)"
   ]
  },
  {
   "cell_type": "code",
   "execution_count": 47,
   "metadata": {},
   "outputs": [],
   "source": [
    "#dataset from https://github.com/plotly/datasets/blob/master/2011_february_us_airport_traffic.csv\n",
    "coordinates = pd.read_csv('../2011_february_us_airport_traffic.csv')"
   ]
  },
  {
   "cell_type": "code",
   "execution_count": 29,
   "metadata": {},
   "outputs": [
    {
     "data": {
      "text/html": [
       "<div>\n",
       "<style scoped>\n",
       "    .dataframe tbody tr th:only-of-type {\n",
       "        vertical-align: middle;\n",
       "    }\n",
       "\n",
       "    .dataframe tbody tr th {\n",
       "        vertical-align: top;\n",
       "    }\n",
       "\n",
       "    .dataframe thead th {\n",
       "        text-align: right;\n",
       "    }\n",
       "</style>\n",
       "<table border=\"1\" class=\"dataframe\">\n",
       "  <thead>\n",
       "    <tr style=\"text-align: right;\">\n",
       "      <th></th>\n",
       "      <th>iata</th>\n",
       "      <th>airport</th>\n",
       "      <th>city</th>\n",
       "      <th>state</th>\n",
       "      <th>country</th>\n",
       "      <th>lat</th>\n",
       "      <th>long</th>\n",
       "      <th>cnt</th>\n",
       "    </tr>\n",
       "  </thead>\n",
       "  <tbody>\n",
       "    <tr>\n",
       "      <th>0</th>\n",
       "      <td>ORD</td>\n",
       "      <td>Chicago O'Hare International</td>\n",
       "      <td>Chicago</td>\n",
       "      <td>IL</td>\n",
       "      <td>USA</td>\n",
       "      <td>41.979595</td>\n",
       "      <td>-87.904464</td>\n",
       "      <td>25129</td>\n",
       "    </tr>\n",
       "    <tr>\n",
       "      <th>1</th>\n",
       "      <td>ATL</td>\n",
       "      <td>William B Hartsfield-Atlanta Intl</td>\n",
       "      <td>Atlanta</td>\n",
       "      <td>GA</td>\n",
       "      <td>USA</td>\n",
       "      <td>33.640444</td>\n",
       "      <td>-84.426944</td>\n",
       "      <td>21925</td>\n",
       "    </tr>\n",
       "    <tr>\n",
       "      <th>2</th>\n",
       "      <td>DFW</td>\n",
       "      <td>Dallas-Fort Worth International</td>\n",
       "      <td>Dallas-Fort Worth</td>\n",
       "      <td>TX</td>\n",
       "      <td>USA</td>\n",
       "      <td>32.895951</td>\n",
       "      <td>-97.037200</td>\n",
       "      <td>20662</td>\n",
       "    </tr>\n",
       "    <tr>\n",
       "      <th>3</th>\n",
       "      <td>PHX</td>\n",
       "      <td>Phoenix Sky Harbor International</td>\n",
       "      <td>Phoenix</td>\n",
       "      <td>AZ</td>\n",
       "      <td>USA</td>\n",
       "      <td>33.434167</td>\n",
       "      <td>-112.008056</td>\n",
       "      <td>17290</td>\n",
       "    </tr>\n",
       "    <tr>\n",
       "      <th>4</th>\n",
       "      <td>DEN</td>\n",
       "      <td>Denver Intl</td>\n",
       "      <td>Denver</td>\n",
       "      <td>CO</td>\n",
       "      <td>USA</td>\n",
       "      <td>39.858408</td>\n",
       "      <td>-104.667002</td>\n",
       "      <td>13781</td>\n",
       "    </tr>\n",
       "  </tbody>\n",
       "</table>\n",
       "</div>"
      ],
      "text/plain": [
       "  iata                            airport               city state country  \\\n",
       "0  ORD       Chicago O'Hare International            Chicago    IL     USA   \n",
       "1  ATL  William B Hartsfield-Atlanta Intl            Atlanta    GA     USA   \n",
       "2  DFW    Dallas-Fort Worth International  Dallas-Fort Worth    TX     USA   \n",
       "3  PHX   Phoenix Sky Harbor International            Phoenix    AZ     USA   \n",
       "4  DEN                        Denver Intl             Denver    CO     USA   \n",
       "\n",
       "         lat        long    cnt  \n",
       "0  41.979595  -87.904464  25129  \n",
       "1  33.640444  -84.426944  21925  \n",
       "2  32.895951  -97.037200  20662  \n",
       "3  33.434167 -112.008056  17290  \n",
       "4  39.858408 -104.667002  13781  "
      ]
     },
     "execution_count": 29,
     "metadata": {},
     "output_type": "execute_result"
    }
   ],
   "source": [
    "coordinates.head()"
   ]
  },
  {
   "cell_type": "code",
   "execution_count": 52,
   "metadata": {},
   "outputs": [
    {
     "data": {
      "text/html": [
       "<div>\n",
       "<style scoped>\n",
       "    .dataframe tbody tr th:only-of-type {\n",
       "        vertical-align: middle;\n",
       "    }\n",
       "\n",
       "    .dataframe tbody tr th {\n",
       "        vertical-align: top;\n",
       "    }\n",
       "\n",
       "    .dataframe thead th {\n",
       "        text-align: right;\n",
       "    }\n",
       "</style>\n",
       "<table border=\"1\" class=\"dataframe\">\n",
       "  <thead>\n",
       "    <tr style=\"text-align: right;\">\n",
       "      <th></th>\n",
       "      <th>FL_DATE</th>\n",
       "      <th>DEST</th>\n",
       "      <th>LATE_AIRCRAFT_DELAY</th>\n",
       "    </tr>\n",
       "  </thead>\n",
       "  <tbody>\n",
       "    <tr>\n",
       "      <th>0</th>\n",
       "      <td>2012-01-01</td>\n",
       "      <td>LAX</td>\n",
       "      <td>NaN</td>\n",
       "    </tr>\n",
       "    <tr>\n",
       "      <th>1</th>\n",
       "      <td>2012-01-02</td>\n",
       "      <td>LAX</td>\n",
       "      <td>NaN</td>\n",
       "    </tr>\n",
       "    <tr>\n",
       "      <th>2</th>\n",
       "      <td>2012-01-03</td>\n",
       "      <td>LAX</td>\n",
       "      <td>NaN</td>\n",
       "    </tr>\n",
       "    <tr>\n",
       "      <th>3</th>\n",
       "      <td>2012-01-04</td>\n",
       "      <td>LAX</td>\n",
       "      <td>NaN</td>\n",
       "    </tr>\n",
       "    <tr>\n",
       "      <th>4</th>\n",
       "      <td>2012-01-05</td>\n",
       "      <td>LAX</td>\n",
       "      <td>NaN</td>\n",
       "    </tr>\n",
       "  </tbody>\n",
       "</table>\n",
       "</div>"
      ],
      "text/plain": [
       "      FL_DATE DEST  LATE_AIRCRAFT_DELAY\n",
       "0  2012-01-01  LAX                  NaN\n",
       "1  2012-01-02  LAX                  NaN\n",
       "2  2012-01-03  LAX                  NaN\n",
       "3  2012-01-04  LAX                  NaN\n",
       "4  2012-01-05  LAX                  NaN"
      ]
     },
     "execution_count": 52,
     "metadata": {},
     "output_type": "execute_result"
    }
   ],
   "source": [
    "data2 = data[['FL_DATE', 'DEST', 'LATE_AIRCRAFT_DELAY']]\n",
    "data2.head()"
   ]
  },
  {
   "cell_type": "code",
   "execution_count": 56,
   "metadata": {},
   "outputs": [],
   "source": [
    "data3 = data2.groupby('DEST').count().reset_index()"
   ]
  },
  {
   "cell_type": "code",
   "execution_count": 59,
   "metadata": {},
   "outputs": [],
   "source": [
    "combine = pd.merge(data3, coordinates, left_on='DEST', right_on='iata')"
   ]
  },
  {
   "cell_type": "code",
   "execution_count": 67,
   "metadata": {},
   "outputs": [
    {
     "data": {
      "application/vnd.plotly.v1+json": {
       "config": {
        "plotlyServerURL": "https://plot.ly"
       },
       "data": [
        {
         "lat": [
          40.65236278,
          32.41132,
          35.04022222,
          40.97811528,
          31.32737167,
          33.369955,
          42.74811944,
          39.22316,
          33.64044444,
          44.25740806,
          30.19453278,
          35.43619444,
          41.33814944,
          41.93887417,
          33.56294306,
          45.8076625,
          46.77411111,
          36.385913,
          48.79275,
          40.47798556,
          36.12447667,
          43.56444444,
          42.3643475,
          31.25902778,
          30.53316083,
          44.47300361,
          42.94052472,
          34.20061917,
          39.17540167,
          45.77690139,
          33.93884,
          40.91631194,
          37.70097028,
          35.03526833,
          38.13863889,
          32.89864639,
          41.88458833,
          41.41089417,
          35.21401111,
          39.99798528,
          40.03925,
          44.52019417,
          38.80580556,
          42.90835556,
          27.77036083,
          38.37315083,
          32.51633333,
          39.04614278,
          44.77761917,
          41.1557225,
          29.17991667,
          32.84711389,
          39.90237583,
          42.40295944,
          38.85208333,
          39.85840806,
          32.89595056,
          31.32133917,
          46.84209028,
          41.53493306,
          42.21205889,
          44.86525722,
          30.448674,
          39.64256778,
          31.80666667,
          44.12326,
          38.03799139,
          35.07297222,
          40.69249722,
          46.91934889,
          36.77619444,
          34.99147222,
          48.31140472,
          26.07258333,
          42.96550333,
          43.58135111,
          35.33659028,
          40.97846583,
          44.34889806,
          47.61985556,
          47.949255,
          39.1224125,
          30.40728028,
          44.48507333,
          31.06489778,
          42.88081972,
          36.09774694,
          34.89566722,
          47.48200194,
          33.45033444,
          38.53396333,
          40.48118028,
          46.60681806,
          29.64541861,
          41.06695778,
          26.22850611,
          34.6404475,
          38.94453194,
          29.98047222,
          37.64995889,
          43.51455556,
          34.27061111,
          39.71732917,
          40.7952425,
          35.65884306,
          43.60732417,
          32.31116667,
          30.49405556,
          40.63975111,
          36.08036111,
          33.94253611,
          33.66363889,
          38.03697222,
          30.20527972,
          40.77724306,
          33.81772222,
          34.72939611,
          42.15614361,
          40.85097222,
          27.54373861,
          37.85830556,
          46.37449806,
          31.94252778,
          39.29760528,
          28.42888889,
          40.19349528,
          41.7859825,
          32.33313333,
          35.04241667,
          26.17583333,
          42.37422778,
          32.30064417,
          39.14096722,
          42.93451639,
          25.79325,
          42.94722222,
          28.10275,
          41.44852639,
          32.51086556,
          37.62404861,
          30.69141667,
          48.25937778,
          46.353639,
          36.5869825,
          43.13985778,
          44.88054694,
          29.99338889,
          38.50886722,
          33.67975,
          34.82916444,
          37.72129083,
          35.39308833,
          41.30251861,
          34.056,
          41.979595,
          36.89461111,
          43.41713889,
          37.06083333,
          26.68316194,
          45.58872222,
          37.13189556,
          39.87195278,
          33.43416667,
          40.66424333,
          42.91130556,
          40.49146583,
          30.47330556,
          46.26468028,
          33.82921556,
          41.72399917,
          43.64616667,
          44.04532139,
          40.50898361,
          44.25406722,
          35.87763889,
          37.50516667,
          41.5942175,
          39.49857611,
          37.32546833,
          43.11886611,
          43.90882639,
          26.53616667,
          35.61677778,
          32.73355611,
          29.53369444,
          32.12758333,
          34.42621194,
          41.70895361,
          35.23705806,
          38.17438889,
          47.44898194,
          37.61900194,
          37.24432611,
          32.4466275,
          37.36186194,
          40.78838778,
          38.69542167,
          34.89924833,
          33.67565861,
          39.84395194,
          33.98879611,
          27.39533333,
          38.74768694,
          41.50409361,
          43.11118694,
          30.39652778,
          27.97547222,
          36.47521417,
          36.19837222,
          32.11608333,
          44.74144472,
          42.48180389,
          32.35413889,
          35.81248722,
          30.7825,
          30.48325,
          36.28186944,
          32.65658333
         ],
         "lon": [
          -75.44040167,
          -99.68189722,
          -106.6091944,
          -124.1086189,
          -92.54855611,
          -81.96449611,
          -73.80297861,
          -106.868845,
          -84.42694444,
          -88.51947556,
          -97.66987194,
          -82.54180556,
          -75.7242675,
          -72.68322833,
          -86.75354972,
          -108.5428611,
          -100.7467222,
          -92.548828,
          -122.5375278,
          -88.91595278,
          -86.67818222,
          -116.2227778,
          -71.00517917,
          -81.46630556,
          -91.14963444,
          -73.1503125,
          -78.73216667,
          -118.3584969,
          -76.66819833,
          -111.1530072,
          -81.11953944,
          -81.44246556,
          -113.098575,
          -85.20378778,
          -78.45286111,
          -80.04050583,
          -91.71087222,
          -81.84939667,
          -80.94312583,
          -82.89188278,
          -88.27805556,
          -109.0237961,
          -104.70025,
          -106.4644661,
          -97.50121528,
          -81.59318972,
          -84.93886111,
          -84.6621725,
          -89.66677944,
          -104.8118381,
          -81.05805556,
          -96.85177222,
          -84.219375,
          -90.70916722,
          -77.03772222,
          -104.6670019,
          -97.0372,
          -85.44962889,
          -92.19364861,
          -93.66068222,
          -83.34883583,
          -91.48507194,
          -84.550781,
          -106.9176953,
          -106.3778056,
          -123.2186856,
          -87.53062667,
          -77.04294444,
          -74.16866056,
          -96.81498889,
          -119.7181389,
          -78.88,
          -114.2550694,
          -80.15275,
          -83.74345639,
          -96.74170028,
          -94.36744111,
          -85.19514639,
          -105.5393614,
          -117.5338425,
          -97.17611111,
          -108.5267347,
          -89.07009278,
          -88.12959,
          -97.82779778,
          -85.52276778,
          -79.9372975,
          -82.21885833,
          -111.3706853,
          -88.59136861,
          -106.9331817,
          -107.2176597,
          -111.9827503,
          -95.27888889,
          -73.70757444,
          -97.65439389,
          -86.77310944,
          -77.45580972,
          -95.33972222,
          -97.43304583,
          -112.0701667,
          -77.90255556,
          -86.29438417,
          -73.10021194,
          -117.8295122,
          -110.7377389,
          -90.07588889,
          -81.68786111,
          -73.77892556,
          -115.1523333,
          -118.4080744,
          -101.8227778,
          -84.60538889,
          -91.987655,
          -73.87260917,
          -118.1516111,
          -92.22424556,
          -121.7332081,
          -96.75925,
          -99.46154361,
          -80.39947222,
          -117.0153944,
          -102.2019139,
          -94.71390556,
          -81.31602778,
          -76.76340361,
          -87.75242444,
          -88.75120556,
          -89.97666667,
          -98.23861111,
          -122.8734978,
          -86.39397611,
          -96.67083278,
          -71.43705583,
          -80.29055556,
          -87.89658333,
          -80.64580556,
          -90.50753917,
          -92.03768778,
          -118.8377722,
          -88.24283333,
          -101.2803339,
          -87.395361,
          -121.8429478,
          -89.33751361,
          -93.2169225,
          -90.25802778,
          -107.8938333,
          -78.92833333,
          -77.61213778,
          -122.2207167,
          -97.60073389,
          -95.89417306,
          -117.6011944,
          -87.90446417,
          -76.20122222,
          -124.2460278,
          -88.77375,
          -80.09559417,
          -122.5975,
          -76.4929875,
          -75.24114083,
          -112.0080556,
          -89.69330556,
          -112.5958611,
          -80.23287083,
          -87.18744444,
          -119.1190292,
          -116.5062531,
          -71.42822111,
          -70.30875,
          -103.0573708,
          -122.2934019,
          -121.1499633,
          -78.78747222,
          -77.31966667,
          -109.0651928,
          -119.7680647,
          -79.97542833,
          -77.67238389,
          -92.49798722,
          -81.75516667,
          -106.0881389,
          -117.1896567,
          -98.46977778,
          -81.20213889,
          -119.8403733,
          -86.31847417,
          -120.6423931,
          -85.736,
          -122.3093131,
          -122.3748433,
          -93.38685806,
          -93.82559833,
          -121.9290089,
          -111.9777731,
          -121.5907669,
          -120.4575825,
          -117.8682225,
          -89.67761861,
          -98.49189333,
          -82.55411111,
          -90.35998972,
          -74.10483833,
          -76.10631056,
          -84.35033333,
          -82.53325,
          -82.40742056,
          -95.88824167,
          -110.9410278,
          -85.582235,
          -114.4877356,
          -95.40238611,
          -83.99285583,
          -83.27672222,
          -86.5254,
          -94.30681111,
          -114.6059722
         ],
         "marker": {
          "color": [
           60,
           382,
           1258,
           144,
           168,
           112,
           93,
           611,
           21925,
           56,
           393,
           448,
           112,
           1162,
           956,
           23,
           208,
           56,
           56,
           426,
           1299,
           319,
           5627,
           140,
           1095,
           91,
           711,
           280,
           4749,
           288,
           840,
           445,
           96,
           104,
           158,
           338,
           516,
           3015,
           10490,
           1752,
           306,
           112,
           1040,
           208,
           926,
           56,
           324,
           1986,
           156,
           56,
           72,
           1502,
           1337,
           48,
           4332,
           13781,
           20662,
           214,
           58,
           708,
           6044,
           48,
           653,
           296,
           1206,
           529,
           270,
           112,
           8678,
           409,
           264,
           50,
           90,
           3616,
           379,
           245,
           112,
           114,
           112,
           785,
           246,
           285,
           582,
           333,
           346,
           656,
           472,
           479,
           108,
           112,
           270,
           408,
           108,
           3824,
           664,
           414,
           880,
           6779,
           13223,
           747,
           264,
           553,
           2136,
           460,
           146,
           295,
           1224,
           3005,
           5945,
           8523,
           11797,
           518,
           540,
           818,
           7392,
           562,
           1620,
           168,
           127,
           396,
           56,
           102,
           1103,
           3403,
           10536,
           702,
           6979,
           104,
           3058,
           248,
           404,
           686,
           168,
           953,
           5907,
           3030,
           74,
           451,
           199,
           56,
           768,
           310,
           104,
           658,
           538,
           7690,
           4432,
           210,
           314,
           212,
           3386,
           2104,
           1474,
           1622,
           25129,
           1439,
           168,
           112,
           3972,
           4071,
           675,
           7965,
           17290,
           404,
           216,
           3180,
           1035,
           168,
           949,
           2044,
           686,
           572,
           248,
           328,
           3896,
           1199,
           56,
           2104,
           301,
           1327,
           37,
           4057,
           168,
           6233,
           3654,
           524,
           800,
           324,
           112,
           1716,
           7541,
           12016,
           381,
           410,
           4367,
           9898,
           4943,
           216,
           4616,
           258,
           50,
           932,
           6204,
           159,
           1006,
           608,
           9182,
           347,
           2003,
           2786,
           201,
           225,
           110,
           1052,
           158,
           410,
           1310,
           627
          ]
         },
         "mode": "markers",
         "text": [
          "Lehigh Valley International. Total delay time: 34",
          "Abilene Regional. Total delay time: 35",
          "Albuquerque International. Total delay time: 262",
          "Arcata. Total delay time: 60",
          "Alexandria International. Total delay time: 46",
          "Bush . Total delay time: 55",
          "Albany Cty. Total delay time: 69",
          "Aspen-Pitkin Co/Sardy . Total delay time: 102",
          "William B Hartsfield-Atlanta Intl. Total delay time: 4638",
          "Outagamie County Regional. Total delay time: 46",
          "Austin-Bergstrom International. Total delay time: 474",
          "Asheville Regional. Total delay time: 65",
          "Wilkes-Barre/Scranton Intl. Total delay time: 20",
          "Bradley International. Total delay time: 244",
          "Birmingham International. Total delay time: 201",
          "Billings Logan Intl. Total delay time: 35",
          "Bismarck Municipal. Total delay time: 43",
          "Branson Airport. Total delay time: 9",
          "Bellingham Intl. Total delay time: 10",
          "Central Illinois Regional. Total delay time: 41",
          "Nashville International. Total delay time: 594",
          "Boise Air Terminal. Total delay time: 121",
          "Gen Edw L Logan Intl. Total delay time: 1254",
          "Glynco Jetport. Total delay time: 15",
          "Baton Rouge Metropolitan, Ryan . Total delay time: 107",
          "Burlington International. Total delay time: 45",
          "Buffalo Niagara Intl. Total delay time: 247",
          "Burbank-Glendale-Pasadena. Total delay time: 229",
          "Baltimore-Washington International. Total delay time: 887",
          "Gallatin . Total delay time: 27",
          "Columbia Metropolitan. Total delay time: 107",
          "Akron-Canton Regional. Total delay time: 94",
          "Cedar City Muni. Total delay time: 11",
          "Lovell . Total delay time: 67",
          "Charlottesville-Albermarle. Total delay time: 24",
          "Charleston AFB/International. Total delay time: 159",
          "Eastern Iowa . Total delay time: 115",
          "Cleveland-Hopkins Intl. Total delay time: 582",
          "Charlotte/Douglas International. Total delay time: 1313",
          "Port Columbus Intl. Total delay time: 345",
          "University of Illinois-Willard. Total delay time: 35",
          "Yellowstone Regional. Total delay time: 11",
          "City of Colorado Springs Muni. Total delay time: 140",
          "Natrona County Intl. Total delay time: 27",
          "Corpus Christi International. Total delay time: 89",
          "Yeager. Total delay time: 49",
          "Columbus Metropolitan. Total delay time: 21",
          "Cincinnati Northern Kentucky Intl. Total delay time: 304",
          "Central Wisconsin. Total delay time: 31",
          "Cheyenne. Total delay time: 3",
          "Daytona Beach International. Total delay time: 13",
          "Dallas Love . Total delay time: 338",
          "James M Cox Dayton Intl. Total delay time: 173",
          "Dubuque Municipal. Total delay time: 2",
          "Ronald Reagan Washington National. Total delay time: 761",
          "Denver Intl. Total delay time: 2570",
          "Dallas-Fort Worth International. Total delay time: 2508",
          "Dothan . Total delay time: 22",
          "Duluth International. Total delay time: 14",
          "Des Moines International. Total delay time: 189",
          "Detroit Metropolitan-Wayne County. Total delay time: 965",
          "Chippewa Valley Regional. Total delay time: 13",
          "Florida Beach. Total delay time: 62",
          "Eagle County Regional. Total delay time: 71",
          "El Paso International. Total delay time: 223",
          "Mahlon Sweet . Total delay time: 68",
          "Evansville Regional. Total delay time: 41",
          "Craven County Regional. Total delay time: 10",
          "Newark Intl. Total delay time: 2209",
          "Hector International. Total delay time: 77",
          "Fresno Yosemite International. Total delay time: 155",
          "Fayetteville Municipal. Total delay time: 47",
          "Glacier Park Intl. Total delay time: 14",
          "Fort Lauderdale-Hollywood Int'l. Total delay time: 845",
          "Bishop. Total delay time: 22",
          "Joe Foss . Total delay time: 110",
          "Fort Smith Regional. Total delay time: 11",
          "Fort Wayne International. Total delay time: 50",
          "Gillette-Campbell County. Total delay time: 28",
          "Spokane Intl. Total delay time: 113",
          "Grand Forks International. Total delay time: 20",
          "Walker . Total delay time: 69",
          "Gulfport-Biloxi Regional. Total delay time: 60",
          "Austin Straubel International. Total delay time: 78",
          "Robert Gray AAF. Total delay time: 8",
          "Kent County International. Total delay time: 147",
          "Piedmont Triad International. Total delay time: 132",
          "Greenville-Spartanburg. Total delay time: 125",
          "Great Falls Intl. Total delay time: 14",
          "Golden Triangle Regional. Total delay time: 17",
          "Gunnison County. Total delay time: 15",
          "Yampa Valley. Total delay time: 25",
          "Helena Regional. Total delay time: 15",
          "William P Hobby. Total delay time: 425",
          "Westchester Cty. Total delay time: 118",
          "Valley International. Total delay time: 49",
          "Huntsville International . Total delay time: 108",
          "Washington Dulles International. Total delay time: 916",
          "George Bush Intercontinental. Total delay time: 1976",
          "Wichita Mid-Continent. Total delay time: 147",
          "Idaho Falls Regional. Total delay time: 32",
          "Wilmington International. Total delay time: 45",
          "Indianapolis International. Total delay time: 357",
          "Long Island - MacArthur. Total delay time: 55",
          "Inyokern. Total delay time: 4",
          "Jackson Hole. Total delay time: 33",
          "Jackson International. Total delay time: 99",
          "Jacksonville International. Total delay time: 310",
          "John F Kennedy Intl. Total delay time: 1099",
          "McCarran International. Total delay time: 1274",
          "Los Angeles International. Total delay time: 2324",
          "Lubbock International. Total delay time: 79",
          "Blue Grass . Total delay time: 96",
          "Lafayette Regional. Total delay time: 66",
          "LaGuardia. Total delay time: 1410",
          "Long Beach (Daugherty ). Total delay time: 159",
          "Adams . Total delay time: 233",
          "Klamath Falls International. Total delay time: 10",
          "Lincoln Municipal. Total delay time: 38",
          "Laredo International. Total delay time: 24",
          "Greenbrier Valley. Total delay time: 5",
          "Lewiston-Nez Perce County. Total delay time: 3",
          "Midland International. Total delay time: 73",
          "Kansas City International. Total delay time: 579",
          "Orlando International. Total delay time: 1234",
          "Harrisburg Intl. Total delay time: 63",
          "Chicago Midway. Total delay time: 682",
          "Key . Total delay time: 7",
          "Memphis International. Total delay time: 335",
          "McAllen Miller International. Total delay time: 30",
          "Rogue Valley International. Total delay time: 56",
          "Montgomery Regional Apt. Total delay time: 50",
          "Manhattan Regional. Total delay time: 30",
          "Manchester. Total delay time: 76",
          "Miami International. Total delay time: 876",
          "General Mitchell International. Total delay time: 516",
          "Melbourne International . Total delay time: 21",
          "Quad City. Total delay time: 84",
          "Monroe Regional. Total delay time: 21",
          "Mammoth Yosemite. Total delay time: 15",
          "Mobile Regional. Total delay time: 78",
          "Minot International. Total delay time: 29",
          "Marquette County Airport. Total delay time: 6",
          "Monterey Peninsula. Total delay time: 59",
          "Dane County Regional. Total delay time: 120",
          "Minneapolis-St Paul Intl. Total delay time: 1075",
          "New Orleans International . Total delay time: 380",
          "Montrose Regional. Total delay time: 37",
          "Myrtle Beach International. Total delay time: 29",
          "Albert J Ellis. Total delay time: 36",
          "Metropolitan Oakland International. Total delay time: 442",
          "Will Rogers World. Total delay time: 234",
          "Eppley Airfield. Total delay time: 244",
          "Ontario International. Total delay time: 174",
          "Chicago O'Hare International. Total delay time: 3896",
          "Norfolk International. Total delay time: 173",
          "North Bend Muni. Total delay time: 22",
          "Barkley Regional. Total delay time: 10",
          "Palm Beach International. Total delay time: 343",
          "Portland Intl. Total delay time: 625",
          "Newport News/Williamsburg International. Total delay time: 40",
          "Philadelphia Intl. Total delay time: 1053",
          "Phoenix Sky Harbor International. Total delay time: 3527",
          "Greater Peoria Regional. Total delay time: 45",
          "Pocatello Regional. Total delay time: 17",
          "Pittsburgh International. Total delay time: 347",
          "Pensacola Regional. Total delay time: 108",
          "Tri-Cities. Total delay time: 27",
          "Palm Springs International. Total delay time: 192",
          "Theodore F Green State. Total delay time: 107",
          "Portland International Jetport. Total delay time: 65",
          "Rapid City Regional. Total delay time: 50",
          "Redding Municipal. Total delay time: 49",
          "Roberts . Total delay time: 36",
          "Raleigh-Durham International. Total delay time: 484",
          "Richmond International. Total delay time: 233",
          "Rock Springs-Sweetwater County. Total delay time: 39",
          "Reno/Tahoe International. Total delay time: 163",
          "Roanoke Regional/ Woodrum . Total delay time: 37",
          "Greater Rochester Int'l. Total delay time: 123",
          "Rochester International. Total delay time: 10",
          "Southwest Florida International. Total delay time: 349",
          "Santa Fe Municipal. Total delay time: 8",
          "San Diego International-Lindbergh . Total delay time: 804",
          "San Antonio International. Total delay time: 431",
          "Savannah International. Total delay time: 124",
          "Santa Barbara Municipal. Total delay time: 160",
          "South Bend Regional. Total delay time: 40",
          "San Luis Obispo Co-McChesney . Total delay time: 88",
          "Louisville International-Standiford . Total delay time: 215",
          "Seattle-Tacoma Intl. Total delay time: 1219",
          "San Francisco International. Total delay time: 3179",
          "Springfield-Branson Regional. Total delay time: 82",
          "Shreveport Regional. Total delay time: 45",
          "San Jose International. Total delay time: 304",
          "Salt Lake City Intl. Total delay time: 941",
          "Sacramento International. Total delay time: 445",
          "Santa Maria Pub/Capt G Allan Hancock . Total delay time: 9",
          "John Wayne /Orange Co. Total delay time: 332",
          "Capital. Total delay time: 29",
          "Sheppard AFB/Wichita Falls Municipal. Total delay time: 0",
          "Sarasota Bradenton International. Total delay time: 68",
          "Lambert-St Louis International. Total delay time: 577",
          "Stewart. Total delay time: 15",
          "Syracuse-Hancock Intl. Total delay time: 105",
          "Tallahassee Regional. Total delay time: 71",
          "Tampa International . Total delay time: 665",
          "Tri-Cities Regional. Total delay time: 40",
          "Tulsa International. Total delay time: 255",
          "Tucson International. Total delay time: 234",
          "Cherry Capital. Total delay time: 30",
          "Joslin Field - Magic Valley. Total delay time: 8",
          "Tyler Pounds . Total delay time: 13",
          "McGhee-Tyson. Total delay time: 179",
          "Valdosta Regional. Total delay time: 15",
          "Eglin Air Force Base. Total delay time: 91",
          "Northwest Arkansas Regional. Total delay time: 170",
          "Yuma MCAS-Yuma International. Total delay time: 53"
         ],
         "type": "scattergeo"
        }
       ],
       "layout": {
        "geo": {
         "scope": "usa"
        },
        "template": {
         "data": {
          "bar": [
           {
            "error_x": {
             "color": "#2a3f5f"
            },
            "error_y": {
             "color": "#2a3f5f"
            },
            "marker": {
             "line": {
              "color": "#E5ECF6",
              "width": 0.5
             },
             "pattern": {
              "fillmode": "overlay",
              "size": 10,
              "solidity": 0.2
             }
            },
            "type": "bar"
           }
          ],
          "barpolar": [
           {
            "marker": {
             "line": {
              "color": "#E5ECF6",
              "width": 0.5
             },
             "pattern": {
              "fillmode": "overlay",
              "size": 10,
              "solidity": 0.2
             }
            },
            "type": "barpolar"
           }
          ],
          "carpet": [
           {
            "aaxis": {
             "endlinecolor": "#2a3f5f",
             "gridcolor": "white",
             "linecolor": "white",
             "minorgridcolor": "white",
             "startlinecolor": "#2a3f5f"
            },
            "baxis": {
             "endlinecolor": "#2a3f5f",
             "gridcolor": "white",
             "linecolor": "white",
             "minorgridcolor": "white",
             "startlinecolor": "#2a3f5f"
            },
            "type": "carpet"
           }
          ],
          "choropleth": [
           {
            "colorbar": {
             "outlinewidth": 0,
             "ticks": ""
            },
            "type": "choropleth"
           }
          ],
          "contour": [
           {
            "colorbar": {
             "outlinewidth": 0,
             "ticks": ""
            },
            "colorscale": [
             [
              0,
              "#0d0887"
             ],
             [
              0.1111111111111111,
              "#46039f"
             ],
             [
              0.2222222222222222,
              "#7201a8"
             ],
             [
              0.3333333333333333,
              "#9c179e"
             ],
             [
              0.4444444444444444,
              "#bd3786"
             ],
             [
              0.5555555555555556,
              "#d8576b"
             ],
             [
              0.6666666666666666,
              "#ed7953"
             ],
             [
              0.7777777777777778,
              "#fb9f3a"
             ],
             [
              0.8888888888888888,
              "#fdca26"
             ],
             [
              1,
              "#f0f921"
             ]
            ],
            "type": "contour"
           }
          ],
          "contourcarpet": [
           {
            "colorbar": {
             "outlinewidth": 0,
             "ticks": ""
            },
            "type": "contourcarpet"
           }
          ],
          "heatmap": [
           {
            "colorbar": {
             "outlinewidth": 0,
             "ticks": ""
            },
            "colorscale": [
             [
              0,
              "#0d0887"
             ],
             [
              0.1111111111111111,
              "#46039f"
             ],
             [
              0.2222222222222222,
              "#7201a8"
             ],
             [
              0.3333333333333333,
              "#9c179e"
             ],
             [
              0.4444444444444444,
              "#bd3786"
             ],
             [
              0.5555555555555556,
              "#d8576b"
             ],
             [
              0.6666666666666666,
              "#ed7953"
             ],
             [
              0.7777777777777778,
              "#fb9f3a"
             ],
             [
              0.8888888888888888,
              "#fdca26"
             ],
             [
              1,
              "#f0f921"
             ]
            ],
            "type": "heatmap"
           }
          ],
          "heatmapgl": [
           {
            "colorbar": {
             "outlinewidth": 0,
             "ticks": ""
            },
            "colorscale": [
             [
              0,
              "#0d0887"
             ],
             [
              0.1111111111111111,
              "#46039f"
             ],
             [
              0.2222222222222222,
              "#7201a8"
             ],
             [
              0.3333333333333333,
              "#9c179e"
             ],
             [
              0.4444444444444444,
              "#bd3786"
             ],
             [
              0.5555555555555556,
              "#d8576b"
             ],
             [
              0.6666666666666666,
              "#ed7953"
             ],
             [
              0.7777777777777778,
              "#fb9f3a"
             ],
             [
              0.8888888888888888,
              "#fdca26"
             ],
             [
              1,
              "#f0f921"
             ]
            ],
            "type": "heatmapgl"
           }
          ],
          "histogram": [
           {
            "marker": {
             "pattern": {
              "fillmode": "overlay",
              "size": 10,
              "solidity": 0.2
             }
            },
            "type": "histogram"
           }
          ],
          "histogram2d": [
           {
            "colorbar": {
             "outlinewidth": 0,
             "ticks": ""
            },
            "colorscale": [
             [
              0,
              "#0d0887"
             ],
             [
              0.1111111111111111,
              "#46039f"
             ],
             [
              0.2222222222222222,
              "#7201a8"
             ],
             [
              0.3333333333333333,
              "#9c179e"
             ],
             [
              0.4444444444444444,
              "#bd3786"
             ],
             [
              0.5555555555555556,
              "#d8576b"
             ],
             [
              0.6666666666666666,
              "#ed7953"
             ],
             [
              0.7777777777777778,
              "#fb9f3a"
             ],
             [
              0.8888888888888888,
              "#fdca26"
             ],
             [
              1,
              "#f0f921"
             ]
            ],
            "type": "histogram2d"
           }
          ],
          "histogram2dcontour": [
           {
            "colorbar": {
             "outlinewidth": 0,
             "ticks": ""
            },
            "colorscale": [
             [
              0,
              "#0d0887"
             ],
             [
              0.1111111111111111,
              "#46039f"
             ],
             [
              0.2222222222222222,
              "#7201a8"
             ],
             [
              0.3333333333333333,
              "#9c179e"
             ],
             [
              0.4444444444444444,
              "#bd3786"
             ],
             [
              0.5555555555555556,
              "#d8576b"
             ],
             [
              0.6666666666666666,
              "#ed7953"
             ],
             [
              0.7777777777777778,
              "#fb9f3a"
             ],
             [
              0.8888888888888888,
              "#fdca26"
             ],
             [
              1,
              "#f0f921"
             ]
            ],
            "type": "histogram2dcontour"
           }
          ],
          "mesh3d": [
           {
            "colorbar": {
             "outlinewidth": 0,
             "ticks": ""
            },
            "type": "mesh3d"
           }
          ],
          "parcoords": [
           {
            "line": {
             "colorbar": {
              "outlinewidth": 0,
              "ticks": ""
             }
            },
            "type": "parcoords"
           }
          ],
          "pie": [
           {
            "automargin": true,
            "type": "pie"
           }
          ],
          "scatter": [
           {
            "fillpattern": {
             "fillmode": "overlay",
             "size": 10,
             "solidity": 0.2
            },
            "type": "scatter"
           }
          ],
          "scatter3d": [
           {
            "line": {
             "colorbar": {
              "outlinewidth": 0,
              "ticks": ""
             }
            },
            "marker": {
             "colorbar": {
              "outlinewidth": 0,
              "ticks": ""
             }
            },
            "type": "scatter3d"
           }
          ],
          "scattercarpet": [
           {
            "marker": {
             "colorbar": {
              "outlinewidth": 0,
              "ticks": ""
             }
            },
            "type": "scattercarpet"
           }
          ],
          "scattergeo": [
           {
            "marker": {
             "colorbar": {
              "outlinewidth": 0,
              "ticks": ""
             }
            },
            "type": "scattergeo"
           }
          ],
          "scattergl": [
           {
            "marker": {
             "colorbar": {
              "outlinewidth": 0,
              "ticks": ""
             }
            },
            "type": "scattergl"
           }
          ],
          "scattermapbox": [
           {
            "marker": {
             "colorbar": {
              "outlinewidth": 0,
              "ticks": ""
             }
            },
            "type": "scattermapbox"
           }
          ],
          "scatterpolar": [
           {
            "marker": {
             "colorbar": {
              "outlinewidth": 0,
              "ticks": ""
             }
            },
            "type": "scatterpolar"
           }
          ],
          "scatterpolargl": [
           {
            "marker": {
             "colorbar": {
              "outlinewidth": 0,
              "ticks": ""
             }
            },
            "type": "scatterpolargl"
           }
          ],
          "scatterternary": [
           {
            "marker": {
             "colorbar": {
              "outlinewidth": 0,
              "ticks": ""
             }
            },
            "type": "scatterternary"
           }
          ],
          "surface": [
           {
            "colorbar": {
             "outlinewidth": 0,
             "ticks": ""
            },
            "colorscale": [
             [
              0,
              "#0d0887"
             ],
             [
              0.1111111111111111,
              "#46039f"
             ],
             [
              0.2222222222222222,
              "#7201a8"
             ],
             [
              0.3333333333333333,
              "#9c179e"
             ],
             [
              0.4444444444444444,
              "#bd3786"
             ],
             [
              0.5555555555555556,
              "#d8576b"
             ],
             [
              0.6666666666666666,
              "#ed7953"
             ],
             [
              0.7777777777777778,
              "#fb9f3a"
             ],
             [
              0.8888888888888888,
              "#fdca26"
             ],
             [
              1,
              "#f0f921"
             ]
            ],
            "type": "surface"
           }
          ],
          "table": [
           {
            "cells": {
             "fill": {
              "color": "#EBF0F8"
             },
             "line": {
              "color": "white"
             }
            },
            "header": {
             "fill": {
              "color": "#C8D4E3"
             },
             "line": {
              "color": "white"
             }
            },
            "type": "table"
           }
          ]
         },
         "layout": {
          "annotationdefaults": {
           "arrowcolor": "#2a3f5f",
           "arrowhead": 0,
           "arrowwidth": 1
          },
          "autotypenumbers": "strict",
          "coloraxis": {
           "colorbar": {
            "outlinewidth": 0,
            "ticks": ""
           }
          },
          "colorscale": {
           "diverging": [
            [
             0,
             "#8e0152"
            ],
            [
             0.1,
             "#c51b7d"
            ],
            [
             0.2,
             "#de77ae"
            ],
            [
             0.3,
             "#f1b6da"
            ],
            [
             0.4,
             "#fde0ef"
            ],
            [
             0.5,
             "#f7f7f7"
            ],
            [
             0.6,
             "#e6f5d0"
            ],
            [
             0.7,
             "#b8e186"
            ],
            [
             0.8,
             "#7fbc41"
            ],
            [
             0.9,
             "#4d9221"
            ],
            [
             1,
             "#276419"
            ]
           ],
           "sequential": [
            [
             0,
             "#0d0887"
            ],
            [
             0.1111111111111111,
             "#46039f"
            ],
            [
             0.2222222222222222,
             "#7201a8"
            ],
            [
             0.3333333333333333,
             "#9c179e"
            ],
            [
             0.4444444444444444,
             "#bd3786"
            ],
            [
             0.5555555555555556,
             "#d8576b"
            ],
            [
             0.6666666666666666,
             "#ed7953"
            ],
            [
             0.7777777777777778,
             "#fb9f3a"
            ],
            [
             0.8888888888888888,
             "#fdca26"
            ],
            [
             1,
             "#f0f921"
            ]
           ],
           "sequentialminus": [
            [
             0,
             "#0d0887"
            ],
            [
             0.1111111111111111,
             "#46039f"
            ],
            [
             0.2222222222222222,
             "#7201a8"
            ],
            [
             0.3333333333333333,
             "#9c179e"
            ],
            [
             0.4444444444444444,
             "#bd3786"
            ],
            [
             0.5555555555555556,
             "#d8576b"
            ],
            [
             0.6666666666666666,
             "#ed7953"
            ],
            [
             0.7777777777777778,
             "#fb9f3a"
            ],
            [
             0.8888888888888888,
             "#fdca26"
            ],
            [
             1,
             "#f0f921"
            ]
           ]
          },
          "colorway": [
           "#636efa",
           "#EF553B",
           "#00cc96",
           "#ab63fa",
           "#FFA15A",
           "#19d3f3",
           "#FF6692",
           "#B6E880",
           "#FF97FF",
           "#FECB52"
          ],
          "font": {
           "color": "#2a3f5f"
          },
          "geo": {
           "bgcolor": "white",
           "lakecolor": "white",
           "landcolor": "#E5ECF6",
           "showlakes": true,
           "showland": true,
           "subunitcolor": "white"
          },
          "hoverlabel": {
           "align": "left"
          },
          "hovermode": "closest",
          "mapbox": {
           "style": "light"
          },
          "paper_bgcolor": "white",
          "plot_bgcolor": "#E5ECF6",
          "polar": {
           "angularaxis": {
            "gridcolor": "white",
            "linecolor": "white",
            "ticks": ""
           },
           "bgcolor": "#E5ECF6",
           "radialaxis": {
            "gridcolor": "white",
            "linecolor": "white",
            "ticks": ""
           }
          },
          "scene": {
           "xaxis": {
            "backgroundcolor": "#E5ECF6",
            "gridcolor": "white",
            "gridwidth": 2,
            "linecolor": "white",
            "showbackground": true,
            "ticks": "",
            "zerolinecolor": "white"
           },
           "yaxis": {
            "backgroundcolor": "#E5ECF6",
            "gridcolor": "white",
            "gridwidth": 2,
            "linecolor": "white",
            "showbackground": true,
            "ticks": "",
            "zerolinecolor": "white"
           },
           "zaxis": {
            "backgroundcolor": "#E5ECF6",
            "gridcolor": "white",
            "gridwidth": 2,
            "linecolor": "white",
            "showbackground": true,
            "ticks": "",
            "zerolinecolor": "white"
           }
          },
          "shapedefaults": {
           "line": {
            "color": "#2a3f5f"
           }
          },
          "ternary": {
           "aaxis": {
            "gridcolor": "white",
            "linecolor": "white",
            "ticks": ""
           },
           "baxis": {
            "gridcolor": "white",
            "linecolor": "white",
            "ticks": ""
           },
           "bgcolor": "#E5ECF6",
           "caxis": {
            "gridcolor": "white",
            "linecolor": "white",
            "ticks": ""
           }
          },
          "title": {
           "x": 0.05
          },
          "xaxis": {
           "automargin": true,
           "gridcolor": "white",
           "linecolor": "white",
           "ticks": "",
           "title": {
            "standoff": 15
           },
           "zerolinecolor": "white",
           "zerolinewidth": 2
          },
          "yaxis": {
           "automargin": true,
           "gridcolor": "white",
           "linecolor": "white",
           "ticks": "",
           "title": {
            "standoff": 15
           },
           "zerolinecolor": "white",
           "zerolinewidth": 2
          }
         }
        },
        "title": {
         "text": "Total delay time in 2012 January<br>(Hover for airport names)"
        }
       }
      }
     },
     "metadata": {},
     "output_type": "display_data"
    }
   ],
   "source": [
    "import plotly.graph_objects as go\n",
    "\n",
    "fig = go.Figure(data=go.Scattergeo(\n",
    "        lon = combine['long'],\n",
    "        lat = combine['lat'],\n",
    "        text = combine['airport'] + \". Total delay time: \" + combine['LATE_AIRCRAFT_DELAY'].astype('str'),\n",
    "        mode = 'markers',\n",
    "        marker_color = combine['cnt'],\n",
    "        ))\n",
    "\n",
    "fig.update_layout(\n",
    "        title = 'Total delay time in 2012 January<br>(Hover for airport names)',\n",
    "        geo_scope='usa',\n",
    "    )\n",
    "fig.show()"
   ]
  },
  {
   "cell_type": "code",
   "execution_count": null,
   "metadata": {},
   "outputs": [],
   "source": []
  }
 ],
 "metadata": {
  "kernelspec": {
   "display_name": "Python 3",
   "language": "python",
   "name": "python3"
  },
  "language_info": {
   "codemirror_mode": {
    "name": "ipython",
    "version": 3
   },
   "file_extension": ".py",
   "mimetype": "text/x-python",
   "name": "python",
   "nbconvert_exporter": "python",
   "pygments_lexer": "ipython3",
   "version": "3.9.13"
  },
  "orig_nbformat": 4,
  "vscode": {
   "interpreter": {
    "hash": "397704579725e15f5c7cb49fe5f0341eb7531c82d19f2c29d197e8b64ab5776b"
   }
  }
 },
 "nbformat": 4,
 "nbformat_minor": 2
}
